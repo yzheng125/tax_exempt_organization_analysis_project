{
 "cells": [
  {
   "cell_type": "markdown",
   "metadata": {},
   "source": [
    "## Final Project\n",
    "### GROUP 4: Peipei Gao, Yike Liu, Jennifer Nguyen, Yue Zheng\n",
    "#### Group Lead: Jennifer Nguyen"
   ]
  },
  {
   "cell_type": "markdown",
   "metadata": {},
   "source": [
    "## Ask 1 – Search for a dataset"
   ]
  },
  {
   "cell_type": "markdown",
   "metadata": {},
   "source": [
    "For the project, our group would like to look into this dataset about Charities and Non-profit organizations in the United States’ Mid-Atlantic and Great Lakes Areas. More specifically, the dataset presents organizations’ basic information, financial situations, and classifications. You can download the dataset in the CSV format [here](https://www.irs.gov/pub/irs-soi/eo2.csv). The dataset’s size is 113.8 MB and is last updated on 11/11/2019.\n",
    "The dataset has 644942 records at the transactional level and 28 variables. Each record represents a tax-exempt organization and provides the following information. \n"
   ]
  },
  {
   "cell_type": "markdown",
   "metadata": {},
   "source": [
    "To complete the modify process, we use csvkit to remove the unnecessary columns and create the new dataset which we plan to use for the project.\n",
    "\n",
    "Firstly we upload the dataset to Jupyter notebook and check it by applying csvkit and xsv."
   ]
  },
  {
   "cell_type": "markdown",
   "metadata": {},
   "source": [
    "You can find the data dictionary and more information about each field [here](https://www.irs.gov/pub/irs-soi/eo_info.pdf)\n",
    "\n",
    "#### Dataset Source \n",
    "The dataset above represents `Region 2: Mid-Atlantic and Great Lakes Areas`, which is one of the four regions covering the whole nation documented under [Exempt Organizations Business Master File Extract (EO BMF](https://www.irs.gov/charities-non-profits/exempt-organizations-business-master-file-extract-eo-bmf) from the Internal Revenue Service’ database(https://www.irs.gov/). \n",
    "Information on EO BMF is extracted monthly from the IRS’ Business Master File. \n",
    "\n"
   ]
  },
  {
   "cell_type": "markdown",
   "metadata": {},
   "source": [
    "#### Why this dataset?\n",
    "There are several reasons why we chose this dataset. First, all members of our groups consider Non-profits as potential employers after graduation. Thus, this dataset will help people with an interest in either working at or researching non-profits better understand the overall landscape of such organizations in the US. They can use it as a directory to search for organizations that match their interests regarding sizes, locations, and organization’s mission focuses, for example. Since we live in DC and Virginia, we chose the dataset for region 2. \n",
    "\n",
    "Second, we are interested in assessing the financial situations of these organizations regarding profitability(income) and revenue, to see whether US charities & nonprofits are doing well financially. Which segments are doing well? Which segments are losing money? Financials may disclose the quality of management and the preferences of American donors.\n",
    "\n",
    "Last but not least, we want a dataset with considerably tidy data and clear data description. This dataset offers all of those and has reasonable dimensions to work with. Therefore, the dataset is a great frame for us to do dimensional modeling and analysis. \n",
    "\n",
    "#### Is this dataset suitable for dimensional modeling and analytical analysis?\n",
    "Yes. This dataset has clear numerical fields for the fact tables and a variety of categorical attributes for our dimension tables. Since many categorical attributes are represented under code form, it will be easier to sort and work with. Moreover, some attributes have the potential to form derived attributes such as ZIP and RULING for better performance. Finally, we can form many interesting questions based on this dataset. \n",
    "\n",
    "\n",
    "#### Analytical questions we can answer with this data\n",
    "Which tax-exempt organizations to which contributions are not deductible have the highest revenue in the 2018 tax period?\n",
    "Which activity has the highest and lowest number of organizations? Out of the most popular activities, what’s the average income for the exempt organizations in each state?\n",
    "Consider the last 5 tax periods.  Which months have the highest number of organizations that first received the exempt status?\n",
    "  \n",
    "#### Concerns with the data and changes we expect to overcome \n",
    "\n",
    "* First, this dataset is quite large with more than 640 thousand rows. Therefore, the processing time for codes will be slow. \n",
    "* Second, this dataset contains many categorical attributes that all describe organizations’ types of activities in slightly different ways. (They are Subsection code & Affiliation code, Foundation code, Activities codes, and NTEE Code.) This can confuse us while doing analysis as well as confuse the audience. Thus, later, we will only keep 1 or 2 attributes of this kind that we deem relevant to answer our analytical questions.\n",
    "* Third, in the next part, we will filter out attributes that are not relevant to our questions, such as ICO. Additionally, since our questions concern with income and revenue, we consider removing observations that have NULL values in those attributes. \n"
   ]
  },
  {
   "cell_type": "markdown",
   "metadata": {},
   "source": [
    "## Ask 2: Data Wrangling and Dimensional Modeling"
   ]
  },
  {
   "cell_type": "code",
   "execution_count": 1,
   "metadata": {},
   "outputs": [
    {
     "name": "stdout",
     "output_type": "stream",
     "text": [
      "--2019-11-29 02:57:58--  https://gwu-workshop-yzheng1-2019.s3.amazonaws.com/eo2.csv\n",
      "Resolving gwu-workshop-yzheng1-2019.s3.amazonaws.com (gwu-workshop-yzheng1-2019.s3.amazonaws.com)... 52.216.168.107\n",
      "Connecting to gwu-workshop-yzheng1-2019.s3.amazonaws.com (gwu-workshop-yzheng1-2019.s3.amazonaws.com)|52.216.168.107|:443... connected.\n",
      "HTTP request sent, awaiting response... 200 OK\n",
      "Length: 113775047 (109M) [text/csv]\n",
      "Saving to: ‘eo2.csv’\n",
      "\n",
      "eo2.csv             100%[===================>] 108.50M  51.0MB/s    in 2.1s    \n",
      "\n",
      "2019-11-29 02:58:00 (51.0 MB/s) - ‘eo2.csv’ saved [113775047/113775047]\n",
      "\n"
     ]
    }
   ],
   "source": [
    "!wget https://gwu-workshop-yzheng1-2019.s3.amazonaws.com/eo2.csv"
   ]
  },
  {
   "cell_type": "markdown",
   "metadata": {},
   "source": [
    "use xsv headers to find the heading (attribute labels) of the eo2 file"
   ]
  },
  {
   "cell_type": "code",
   "execution_count": 2,
   "metadata": {},
   "outputs": [
    {
     "name": "stdout",
     "output_type": "stream",
     "text": [
      "1   EIN\n",
      "2   NAME\n",
      "3   ICO\n",
      "4   STREET\n",
      "5   CITY\n",
      "6   STATE\n",
      "7   ZIP\n",
      "8   GROUP\n",
      "9   SUBSECTION\n",
      "10  AFFILIATION\n",
      "11  CLASSIFICATION\n",
      "12  RULING\n",
      "13  DEDUCTIBILITY\n",
      "14  FOUNDATION\n",
      "15  ACTIVITY\n",
      "16  ORGANIZATION\n",
      "17  STATUS\n",
      "18  TAX_PERIOD\n",
      "19  ASSET_CD\n",
      "20  INCOME_CD\n",
      "21  FILING_REQ_CD\n",
      "22  PF_FILING_REQ_CD\n",
      "23  ACCT_PD\n",
      "24  ASSET_AMT\n",
      "25  INCOME_AMT\n",
      "26  REVENUE_AMT\n",
      "27  NTEE_CD\n",
      "28  SORT_NAME\n"
     ]
    }
   ],
   "source": [
    "!xsv headers eo2.csv"
   ]
  },
  {
   "cell_type": "markdown",
   "metadata": {},
   "source": [
    "There are 28 columns totally in the original dataset.\n",
    "\n",
    "Since we want to remove 13 columns from the dataset, we can just select the columns which we want to reverve and create a new dataset called 'eo2n'.\n",
    "\n",
    "* EIN 1\n",
    "* NAME 2\n",
    "* STREET 4\n",
    "* CITY 5\n",
    "* STATE 6\n",
    "* ZIP 7\n",
    "* SUBSECTION 9\n",
    "* CLASSIFICATION 11\n",
    "* RULING 12\n",
    "* DEDUCTIBILITY 13\n",
    "* ACTIVITY 15\n",
    "* TAX_PERIOD 18\n",
    "* INCOME_CD 20\n",
    "* INCOME_AMT 25\n",
    "* REVENUE_AMT 26"
   ]
  },
  {
   "cell_type": "code",
   "execution_count": 4,
   "metadata": {},
   "outputs": [],
   "source": [
    "!csvcut -c 1,2,4,5,6,7,9,11,12,13,15,18,20,25,26 eo2.csv > eo2n.csv"
   ]
  },
  {
   "cell_type": "markdown",
   "metadata": {},
   "source": [
    "check the number of lines in the eo2n file"
   ]
  },
  {
   "cell_type": "code",
   "execution_count": null,
   "metadata": {},
   "outputs": [],
   "source": [
    "!wc -l eo2n.csv"
   ]
  },
  {
   "cell_type": "markdown",
   "metadata": {},
   "source": [
    "use csvcut -n to find the heading (attribute labels) of the eo2n file"
   ]
  },
  {
   "cell_type": "code",
   "execution_count": 1,
   "metadata": {},
   "outputs": [
    {
     "name": "stdout",
     "output_type": "stream",
     "text": [
      "  1: EIN\n",
      "  2: NAME\n",
      "  3: STREET\n",
      "  4: CITY\n",
      "  5: STATE\n",
      "  6: ZIP\n",
      "  7: SUBSECTION\n",
      "  8: CLASSIFICATION\n",
      "  9: RULING\n",
      " 10: DEDUCTIBILITY\n",
      " 11: ACTIVITY\n",
      " 12: TAX_PERIOD\n",
      " 13: INCOME_CD\n",
      " 14: INCOME_AMT\n",
      " 15: REVENUE_AMT\n"
     ]
    }
   ],
   "source": [
    "!csvcut -n eo2n.csv"
   ]
  },
  {
   "cell_type": "markdown",
   "metadata": {},
   "source": [
    "Now there are 15 columns totally in the new dataset, eo2n.\n",
    "\n",
    "check the first few rows of the dataset in the 15 fields"
   ]
  },
  {
   "cell_type": "code",
   "execution_count": 2,
   "metadata": {},
   "outputs": [
    {
     "name": "stdout",
     "output_type": "stream",
     "text": [
      "EIN,NAME,STREET,CITY,STATE,ZIP,SUBSECTION,CLASSIFICATION,RULING,DEDUCTIBILITY,ACTIVITY,TAX_PERIOD,INCOME_CD,INCOME_AMT,REVENUE_AMT\n",
      "002120849,ANCILLA DOMINI SISTERS INC,LOCAL,DONALDSON,IN,46513-0000,03,1270,194603,1,150120000,,0,,\n",
      "010036381,DISABLED AMERICAN VETERANS,15623 S CENTERLINE RD,RUDYARD,MI,49780-9349,04,3000,194206,1,908279265,201806,0,0,0\n",
      "010060379,HEALING AND DELIVERANCE MINISTRY INC,14103 BYRNE PARK DR,CLARKSBURG,MD,20871-6337,03,7000,201407,1,000000000,,0,,\n",
      "010123106,MORNING STAR BAPTIST CHURCH,3204 BROTHERS PL SE,WASHINGTON,DC,20032-1501,03,7000,196811,1,029000000,,0,,\n",
      "010158948,SIGMA KAPPA SORORITY,695 PRO-MED LN STE 300,CARMEL,IN,46032-5331,07,1000,194301,2,036000000,201805,7,6808224,4862977\n",
      "010284545,NATIONAL ASSOCIATION OF INSURANCE AND FINANCIAL ADVISORS-MAINE,600 STATE ST STE A,CEDAR FALLS,IA,50613-3371,06,1000,197607,2,205202000,201906,0,0,0\n",
      "010319131,SIGMA DELTA PI,3 BAINBRIDGE DR,CHARLESTON,SC,29407-4213,03,1000,199906,1,059000000,201808,0,0,0\n",
      "010356732,CARRIAGE MUSEUM OF AMERICA,4075 IRON WORKS PKWY,LEXINGTON,KY,40511-8483,03,1000,197808,1,149060000,201712,4,427507,67851\n",
      "010365191,ASSOCIATION OF SMALL BUSINESS DEVELOPMENT CENTERS,8990 BURKE LAKE RD,BURKE,VA,22015-1606,06,2000,197910,2,200000000,201712,6,2878047,2845481\n"
     ]
    }
   ],
   "source": [
    "!head -n 10 eo2n.csv"
   ]
  },
  {
   "cell_type": "markdown",
   "metadata": {},
   "source": [
    "Then we can use xsv stat to summarize the statistical information of each column."
   ]
  },
  {
   "cell_type": "code",
   "execution_count": 4,
   "metadata": {},
   "outputs": [
    {
     "name": "stdout",
     "output_type": "stream",
     "text": [
      "field           type     sum              min                 max               min_length  max_length  mean                stddev\n",
      "EIN             Integer  292314593038451  2120849             998997790         9           9           453241676.0552928   203801865.79812875\n",
      "NAME            Unicode                   0003 POSTAL FAMILY  ZYGOTE PRESS INC  1           70                              \n",
      "STREET          Unicode                   0                   ZOI KENTAVE       1           35                              \n",
      "CITY            Unicode                   AARONSBURG          ZZZ               3           22                              \n",
      "STATE           Unicode                   DC                  WV                2           2                               \n",
      "ZIP             Unicode                   15001-0000          89509-1435        10          10                              \n",
      "SUBSECTION      Integer  2921627          0                   92                2           2           4.530061617943964   6.95454765919325\n",
      "CLASSIFICATION  Integer  1410045748       0                   9710              4           4           2186.3140375414096  2033.1685024277208\n",
      "RULING          Integer  127322540438     0                   201910            6           6           197417.03973070483  18922.09810540319\n",
      "DEDUCTIBILITY   Integer  739257           0                   4                 1           1           1.1462379562814176  0.419750361754601\n",
      "ACTIVITY        Integer  90465108304231   0                   999000000         9           9           140268595.16705665  259035982.14098686\n",
      "TAX_PERIOD      Integer  104849793895     197906              201910            0           6           201792.16020038436  115.85630508256186\n",
      "INCOME_CD       Integer  979359           0                   9                 1           1           1.5185225958303283  2.2362448711986085\n",
      "INCOME_AMT      Integer  1693114437367    -5498247            79457064865       0           11          3310685.64958172    177849092.36272085\n",
      "REVENUE_AMT     Integer  1061382807880    -21601664           13498504493       0           11          2244298.8892084043  57563231.292364776\n"
     ]
    }
   ],
   "source": [
    "!xsv select 1,2,3,4,5,6,7,8,9,10,11,12,13,14,15 eo2n.csv | xsv stats | xsv table"
   ]
  },
  {
   "cell_type": "markdown",
   "metadata": {},
   "source": [
    "As we can see from the result, the data length for EIN, ZIP, SUBSECTION, CLASSIFICATION, RULING, DEDUCTIBILITY, ACTIVITY, and INCOME_CD are all fixed for all the records of the same attribute.\n",
    "\n",
    "We assume that EIN can be considered as the primary key of the dataset, so we use csvstat to check if the values of this attribute are unique or not. Because the data size is too large, we can firstly examine first 10% of the records to check our assumption.\n"
   ]
  },
  {
   "cell_type": "code",
   "execution_count": 5,
   "metadata": {},
   "outputs": [
    {
     "name": "stdout",
     "output_type": "stream",
     "text": [
      "  1. \"EIN\"\n",
      "\n",
      "\tType of data:          Number\n",
      "\tContains null values:  False\n",
      "\tUnique values:         64999\n",
      "\tSmallest value:        2,120,849\n",
      "\tLargest value:         237,031,492\n",
      "\tSum:                   11,968,888,529,546\n",
      "\tMean:                  184,139,579.525\n",
      "\tMedian:                204,875,976\n",
      "\tStDev:                 67,062,460.899\n",
      "\tMost common values:    2,120,849 (1x)\n",
      "\t                       10,036,381 (1x)\n",
      "\t                       10,060,379 (1x)\n",
      "\t                       10,123,106 (1x)\n",
      "\t                       10,158,948 (1x)\n",
      "\n",
      "  2. \"NAME\"\n",
      "\n",
      "\tType of data:          Text\n",
      "\tContains null values:  False\n",
      "\tUnique values:         54531\n",
      "\tLongest value:         70 characters\n",
      "\tMost common values:    AMERICAN FEDERATION OF STATE COUNTY & MUNICIPAL EMPLOYEES (589x)\n",
      "\t                       UNITED STATES BOWLING CONGRESS INC (397x)\n",
      "\t                       INTERNATIONAL ASSOCIATION OF LIONS CLUBS (329x)\n",
      "\t                       TOASTMASTERS INTERNATIONAL (316x)\n",
      "\t                       REGENTS OF THE UNIVERSITY OF MINNESOTA (312x)\n",
      "\n",
      "  3. \"STREET\"\n",
      "\n",
      "\tType of data:          Text\n",
      "\tContains null values:  True (excluded from calculations)\n",
      "\tUnique values:         47776\n",
      "\tLongest value:         35 characters\n",
      "\tMost common values:    PO BOX 185 (723x)\n",
      "\t                       6805 OAK CREEK DR (442x)\n",
      "\t                       100 S COMMONS STE 116 (389x)\n",
      "\t                       10 S DEARBORN IL1-0111 (322x)\n",
      "\t                       3700 GRAND AVE (320x)\n",
      "\n",
      "  4. \"CITY\"\n",
      "\n",
      "\tType of data:          Text\n",
      "\tContains null values:  False\n",
      "\tUnique values:         5715\n",
      "\tLongest value:         22 characters\n",
      "\tMost common values:    PHILADELPHIA (3852x)\n",
      "\t                       PITTSBURGH (1676x)\n",
      "\t                       CHICAGO (1624x)\n",
      "\t                       WASHINGTON (1428x)\n",
      "\t                       COLUMBUS (908x)\n",
      "\n",
      "  5. \"STATE\"\n",
      "\n",
      "\tType of data:          Text\n",
      "\tContains null values:  False\n",
      "\tUnique values:         19\n",
      "\tLongest value:         2 characters\n",
      "\tMost common values:    PA (25538x)\n",
      "\t                       OH (4978x)\n",
      "\t                       IL (4759x)\n",
      "\t                       NC (3813x)\n",
      "\t                       VA (3558x)\n",
      "\n",
      "  6. \"ZIP\"\n",
      "\n",
      "\tType of data:          Text\n",
      "\tContains null values:  False\n",
      "\tUnique values:         53580\n",
      "\tLongest value:         10 characters\n",
      "\tMost common values:    15230-0185 (703x)\n",
      "\t                       43229-1501 (442x)\n",
      "\t                       60603-2300 (409x)\n",
      "\t                       15212-5359 (390x)\n",
      "\t                       50312-2806 (320x)\n",
      "\n",
      "  7. \"SUBSECTION\"\n",
      "\n",
      "\tType of data:          Number\n",
      "\tContains null values:  False\n",
      "\tUnique values:         22\n",
      "\tSmallest value:        0\n",
      "\tLargest value:         92\n",
      "\tSum:                   334,659\n",
      "\tMean:                  5.149\n",
      "\tMedian:                3\n",
      "\tStDev:                 11.249\n",
      "\tMost common values:    3 (51597x)\n",
      "\t                       4 (3151x)\n",
      "\t                       6 (2366x)\n",
      "\t                       7 (2128x)\n",
      "\t                       5 (1819x)\n",
      "\n",
      "  8. \"CLASSIFICATION\"\n",
      "\n",
      "\tType of data:          Number\n",
      "\tContains null values:  False\n",
      "\tUnique values:         79\n",
      "\tSmallest value:        0\n",
      "\tLargest value:         9,100\n",
      "\tSum:                   143,304,180\n",
      "\tMean:                  2,204.714\n",
      "\tMedian:                1,000\n",
      "\tStDev:                 2,073.225\n",
      "\tMost common values:    1,000 (33471x)\n",
      "\t                       2,000 (9403x)\n",
      "\t                       7,000 (8545x)\n",
      "\t                       1,200 (5979x)\n",
      "\t                       3,000 (3502x)\n",
      "\n",
      "  9. \"RULING\"\n",
      "\n",
      "\tType of data:          Number\n",
      "\tContains null values:  False\n",
      "\tUnique values:         1076\n",
      "\tSmallest value:        0\n",
      "\tLargest value:         201,910\n",
      "\tSum:                   12,766,279,330\n",
      "\tMean:                  196,407.319\n",
      "\tMedian:                200,402\n",
      "\tStDev:                 24,113.6\n",
      "\tMost common values:    0 (958x)\n",
      "\t                       200,603 (696x)\n",
      "\t                       200,708 (676x)\n",
      "\t                       200,409 (672x)\n",
      "\t                       200,703 (671x)\n",
      "\n",
      " 10. \"DEDUCTIBILITY\"\n",
      "\n",
      "\tType of data:          Number\n",
      "\tContains null values:  False\n",
      "\tUnique values:         4\n",
      "\tSmallest value:        0\n",
      "\tLargest value:         4\n",
      "\tSum:                   72,476\n",
      "\tMean:                  1.115\n",
      "\tMedian:                1\n",
      "\tStDev:                 0.421\n",
      "\tMost common values:    1 (52700x)\n",
      "\t                       2 (9870x)\n",
      "\t                       0 (2420x)\n",
      "\t                       4 (9x)\n",
      "\n",
      " 11. \"ACTIVITY\"\n",
      "\n",
      "\tType of data:          Number\n",
      "\tContains null values:  False\n",
      "\tUnique values:         3503\n",
      "\tSmallest value:        0\n",
      "\tLargest value:         999,000,000\n",
      "\tSum:                   7,849,591,349,654\n",
      "\tMean:                  120,764,801.761\n",
      "\tMedian:                0\n",
      "\tStDev:                 249,454,181.214\n",
      "\tMost common values:    0 (38664x)\n",
      "\t                       1,000,000 (2195x)\n",
      "\t                       602,000,000 (1092x)\n",
      "\t                       149,349,000 (852x)\n",
      "\t                       263,264,279 (718x)\n",
      "\n",
      " 12. \"TAX_PERIOD\"\n",
      "\n",
      "\tType of data:          Number\n",
      "\tContains null values:  True (excluded from calculations)\n",
      "\tUnique values:         136\n",
      "\tSmallest value:        199,212\n",
      "\tLargest value:         201,909\n",
      "\tSum:                   11,082,300,809\n",
      "\tMean:                  201,789.891\n",
      "\tMedian:                201,812\n",
      "\tStDev:                 109.96\n",
      "\tMost common values:    201,812 (25000x)\n",
      "\t                       None (10079x)\n",
      "\t                       201,712 (7874x)\n",
      "\t                       201,806 (7404x)\n",
      "\t                       201,906 (2542x)\n",
      "\n",
      " 13. \"INCOME_CD\"\n",
      "\n",
      "\tType of data:          Number\n",
      "\tContains null values:  False\n",
      "\tUnique values:         10\n",
      "\tSmallest value:        0\n",
      "\tLargest value:         9\n",
      "\tSum:                   126,389\n",
      "\tMean:                  1.944\n",
      "\tMedian:                0\n",
      "\tStDev:                 2.375\n",
      "\tMost common values:    0 (34388x)\n",
      "\t                       4 (9877x)\n",
      "\t                       3 (7235x)\n",
      "\t                       6 (4140x)\n",
      "\t                       5 (3040x)\n",
      "\n",
      " 14. \"INCOME_AMT\"\n",
      "\n",
      "\tType of data:          Number\n",
      "\tContains null values:  True (excluded from calculations)\n",
      "\tUnique values:         28721\n",
      "\tSmallest value:        -1,333,545\n",
      "\tLargest value:         36,727,841,302\n",
      "\tSum:                   234,202,131,761\n",
      "\tMean:                  4,315,499.019\n",
      "\tMedian:                15,973\n",
      "\tStDev:                 195,710,671.053\n",
      "\tMost common values:    0 (24314x)\n",
      "\t                       None (10729x)\n",
      "\t                       1 (223x)\n",
      "\t                       1,500 (16x)\n",
      "\t                       3 (13x)\n",
      "\n",
      " 15. \"REVENUE_AMT\"\n",
      "\n",
      "\tType of data:          Number\n",
      "\tContains null values:  True (excluded from calculations)\n",
      "\tUnique values:         22711\n",
      "\tSmallest value:        -2,162,194\n",
      "\tLargest value:         13,498,504,493\n",
      "\tSum:                   133,884,279,308\n",
      "\tMean:                  2,811,100.412\n",
      "\tMedian:                0\n",
      "\tStDev:                 79,678,176.287\n",
      "\tMost common values:    0 (24317x)\n",
      "\t                       None (17372x)\n",
      "\t                       50 (10x)\n",
      "\t                       500 (8x)\n",
      "\t                       1,500 (7x)\n",
      "\n",
      "Row count: 64999\n"
     ]
    }
   ],
   "source": [
    "!head -n 65000 eo2n.csv | csvstat"
   ]
  },
  {
   "cell_type": "markdown",
   "metadata": {},
   "source": [
    "The result shows that the first 10% of the records of EIN values are all unique, so our assumption should be reasonable so far."
   ]
  },
  {
   "cell_type": "markdown",
   "metadata": {},
   "source": [
    "#### we do our following cleanning steps on Trifacta####"
   ]
  },
  {
   "cell_type": "markdown",
   "metadata": {},
   "source": [
    "As we have cleaned our dataset in notebook, we can filter and clean the data deeper in Trifacta.\n",
    "\n",
    "- **EIN** : To check if the values on column “EIN” are unique by looking at the column detail; they are unique since the unique number is same as the valid number\n",
    "\n",
    "- **Street, City, Stat** : Column Street, City, State have no missing values\n",
    "- **ZIP** : Since most people only use the first five digits zip code, we extract the first five and create a new column named Five-digits ZIP\n",
    "\n",
    "- **SUBSECTION** : By looking at the column detail of SUBSECTION, we found there are some value 91, 82 and 00,  which  are not included in the description of the dataset. From the description, SUBSECTION only include number 01, 02, 03, 04, 05, 06, 07, 08, 09, 10, 11, 12, 13, 14, 15, 16, 17, 18, 19, 20, 21, 22, 23, 24, 25, 26, 27, 29, 40, 50, 60, 70, 71, 81, 92.\n",
    "- So we delete the rows which containing 91,82 and 00\n",
    "\n",
    "- **CLASSIFICATION** : There are no missing values on column CLASSIFICATION. The valid classification codes should be one digit format from 1 to 8, however, “the IRS recently implemented classification code to capture up to 4 codes related to an organization”, so in this case, we delete 0 which means no additional related codes, and keep those with one or more related codes.\n",
    "\n",
    "- **Ruling** : The column RULING includes the year and month recognizing the organization’s exempt status. To see if the year and month are within reasonable range, eg. months are from 01 to 12, we split the six digit number into 4 digit number (year) and 2 digit number (month) and named ad RUNLING_YEAR and RUNLING_MONTH. RULING_YEAR is from 1900 to 2019, and RULING_MONTH has total 12 categories from 01-12.\n",
    "01. We can check from patterns detailed that there are mismatched values on 'RULING_YEAR: In this case, we replace it with NULL.\n",
    "02. And we do the same things on Rulling-Month:(replace ‘00’ with NULL)\n",
    "\n",
    "- **DEDUCTIBILITY** : From the description, column DEDUCTIBILITY only has code 1, 2, and 4. From the description, column DEDUCTIBILITY only has code 1, 2, and 4. From the column detail of DEDUCTIBILITY, it has 1, 2, 4, and 0, So it has null values 0. In this case, we convert 0 into null value.\n",
    "\n",
    "- **ACTIVITY** : For column ACTIVITY, the codes should be 9 digits code which contains one to three activity codes, so in this case, we split the column into three parts, and name them as Activity1,Activity2 and Activity3.\n",
    "\n",
    "- **TAX_PERIOD** : The column TAX_PERIOD has missing values, replaced by null. \n",
    "\n",
    "- **INCOME_CD** : Column INCOME_CD is good with range from 0 to 9 as the description indicated.\n",
    "\n",
    "- **INCOME_AMT, REVENUE_AMT** : Column INCOME_AMT and REVENUE_AMT have missing values, replaced by Null."
   ]
  },
  {
   "cell_type": "markdown",
   "metadata": {},
   "source": [
    "**Receipts**\n",
    "```\n",
    "extractbetweendelimiters col: ZIP end: '-'\n",
    "rename type: manual mapping: [ZIP1,'Five-digits ZIP']\n",
    "filter type: oneOf col: SUBSECTION oneOf: SUBSECTION = 91 && SUBSECTION = 82 && SUBSECTION = 0 action: Delete\n",
    "replacepatterns col: CLASSIFICATION with: '' on: `00`\n",
    "replacepatterns col: CLASSIFICATION with: '' on: '0'\n",
    "splitpositions col: RULING type: positions positions: 4 limit: 1\n",
    "rename type: manual mapping: [RULING1,'RUNLING_YEAR']\n",
    "rename type: manual mapping: [RULING2,'RULING_MONTH']\n",
    "replacemismatched col: RUNLING_YEAR mismatched: 'Datetime','yy','yyyy' type: custom with: null text: ''\n",
    "replacepatterns col: RULING_MONTH with: '' on: '00'\n",
    "replacemissing col: RULING_MONTH with: null text: ''\n",
    "replacecells col: DEDUCTIBILITY with: '' on: '0'\n",
    "replacemissing col: DEDUCTIBILITY with: null text: ''\n",
    "splitpositions col: ACTIVITY type: every interval: 3 limit: 2 start: 3\n",
    "replacemissing col: TAX_PERIOD with: null text: ''\n",
    "replacemissing col: INCOME_AMT with: null text: ''\n",
    "replacemissing col: REVENUE_AMT with: null text: ''\n",
    "\n",
    "```\n"
   ]
  },
  {
   "cell_type": "markdown",
   "metadata": {},
   "source": [
    "After cleaning and splitting on Trifacta, we get our final dataset."
   ]
  },
  {
   "cell_type": "markdown",
   "metadata": {},
   "source": [
    "****Upload the data file which has been cleaned by Trifacta****"
   ]
  },
  {
   "cell_type": "code",
   "execution_count": 1,
   "metadata": {},
   "outputs": [
    {
     "name": "stdout",
     "output_type": "stream",
     "text": [
      "--2019-12-01 22:22:18--  https://data-management-yike.s3.amazonaws.com/eo2n_2.csv\n",
      "Resolving data-management-yike.s3.amazonaws.com (data-management-yike.s3.amazonaws.com)... 52.217.41.164\n",
      "Connecting to data-management-yike.s3.amazonaws.com (data-management-yike.s3.amazonaws.com)|52.217.41.164|:443... connected.\n",
      "HTTP request sent, awaiting response... 200 OK\n",
      "Length: 82509632 (79M) [text/csv]\n",
      "Saving to: ‘eo2n_2.csv.1’\n",
      "\n",
      "eo2n_2.csv.1        100%[===================>]  78.69M  74.0MB/s    in 1.1s    \n",
      "\n",
      "2019-12-01 22:22:20 (74.0 MB/s) - ‘eo2n_2.csv.1’ saved [82509632/82509632]\n",
      "\n"
     ]
    }
   ],
   "source": [
    "!wget https://data-management-yike.s3.amazonaws.com/eo2n_2.csv"
   ]
  },
  {
   "cell_type": "code",
   "execution_count": 2,
   "metadata": {},
   "outputs": [],
   "source": [
    "%load_ext sql"
   ]
  },
  {
   "cell_type": "markdown",
   "metadata": {},
   "source": [
    "First, use PostgreSQL's dropdb command to drop the database named Project, if it exists. It is necessary so that we can run this notebook repeatedly. If you get the error that says \"database Project does not exist\", that is fine. However, if it complains that \"There is 1 other session using the database\", please restart the Kernel and try it again."
   ]
  },
  {
   "cell_type": "code",
   "execution_count": 3,
   "metadata": {},
   "outputs": [],
   "source": [
    "!dropdb -U student final_project"
   ]
  },
  {
   "cell_type": "markdown",
   "metadata": {},
   "source": [
    "\n",
    "The output said that database Project does not exist, so we can just create it. Now use PostgreSQL's `createdb` command to create the database named Project.\n"
   ]
  },
  {
   "cell_type": "code",
   "execution_count": 4,
   "metadata": {},
   "outputs": [],
   "source": [
    "!createdb -U student final_project"
   ]
  },
  {
   "cell_type": "markdown",
   "metadata": {},
   "source": [
    "Use sql magic to connect to the database we just created"
   ]
  },
  {
   "cell_type": "code",
   "execution_count": 5,
   "metadata": {},
   "outputs": [
    {
     "data": {
      "text/plain": [
       "'Connected: student@final_project'"
      ]
     },
     "execution_count": 5,
     "metadata": {},
     "output_type": "execute_result"
    }
   ],
   "source": [
    "%sql postgresql://student@/final_project"
   ]
  },
  {
   "cell_type": "markdown",
   "metadata": {},
   "source": [
    "Use the CREATE TABLE command. It is a good practice to DROP the table first then create it in case the table already exists.\n",
    "Creating table Exempt_Organization as the fact table\n"
   ]
  },
  {
   "cell_type": "code",
   "execution_count": 6,
   "metadata": {},
   "outputs": [
    {
     "name": "stdout",
     "output_type": "stream",
     "text": [
      " * postgresql://student@/final_project\n",
      "Done.\n",
      "Done.\n"
     ]
    },
    {
     "data": {
      "text/plain": [
       "[]"
      ]
     },
     "execution_count": 6,
     "metadata": {},
     "output_type": "execute_result"
    }
   ],
   "source": [
    "%%sql\n",
    "DROP TABLE IF EXISTS Exempt_Organization;\n",
    "\n",
    "CREATE TABLE Exempt_Organization (\n",
    "    EIN                 VARCHAR NOT NULL,\n",
    "    NAME                VARCHAR(100),\n",
    "    STREET              VARCHAR(50) NOT NULL,\n",
    "    CITY                VARCHAR NOT NULL,\n",
    "    STATE               CHAR(2) NOT NULL,\n",
    "    ZIP                 CHAR(10) DEFAULT'9999-999',\n",
    "    Five_digit_ZIP      NUMERIC(5) DEFAULT'99999',\n",
    "    SUBSECTION          VARCHAR NOT NULL,\n",
    "    CLASSIFICATION      VARCHAR NOT NULL,\n",
    "    RULING_YEAR         VARCHAR(4) DEFAULT'9999',\n",
    "    RULING_MONTH        NUMERIC(2) DEFAULT'99',\n",
    "    DEDUCTIBILITY       VARCHAR,\n",
    "    ACTIVITY1           NUMERIC(3) NOT NULL DEFAULT'999',\n",
    "    ACTIVITY2           NUMERIC(3) NOT NULL,\n",
    "    ACTIVITY3           NUMERIC(3) NOT NULL,\n",
    "    STATUS              VARCHAR(2),\n",
    "    TAX_PERIOD          VARCHAR,\n",
    "    INCOME_CD           INTEGER NOT NULL,\n",
    "    INCOME_AMT          NUMERIC,\n",
    "    REVENUE_AMT         NUMERIC \n",
    ");"
   ]
  },
  {
   "cell_type": "code",
   "execution_count": 7,
   "metadata": {},
   "outputs": [
    {
     "name": "stdout",
     "output_type": "stream",
     "text": [
      " * postgresql://student@/final_project\n",
      "0 rows affected.\n"
     ]
    },
    {
     "data": {
      "text/html": [
       "<table>\n",
       "    <tr>\n",
       "        <th>ein</th>\n",
       "        <th>name</th>\n",
       "        <th>street</th>\n",
       "        <th>city</th>\n",
       "        <th>state</th>\n",
       "        <th>zip</th>\n",
       "        <th>five_digit_zip</th>\n",
       "        <th>subsection</th>\n",
       "        <th>classification</th>\n",
       "        <th>ruling_year</th>\n",
       "        <th>ruling_month</th>\n",
       "        <th>deductibility</th>\n",
       "        <th>activity1</th>\n",
       "        <th>activity2</th>\n",
       "        <th>activity3</th>\n",
       "        <th>status</th>\n",
       "        <th>tax_period</th>\n",
       "        <th>income_cd</th>\n",
       "        <th>income_amt</th>\n",
       "        <th>revenue_amt</th>\n",
       "    </tr>\n",
       "</table>"
      ],
      "text/plain": [
       "[]"
      ]
     },
     "execution_count": 7,
     "metadata": {},
     "output_type": "execute_result"
    }
   ],
   "source": [
    "%%sql\n",
    "select * from Exempt_Organization"
   ]
  },
  {
   "cell_type": "markdown",
   "metadata": {},
   "source": [
    "Populate our Exempt_Organization table with data from the file eo2n_2.csv"
   ]
  },
  {
   "cell_type": "code",
   "execution_count": 8,
   "metadata": {},
   "outputs": [
    {
     "name": "stdout",
     "output_type": "stream",
     "text": [
      " * postgresql://student@/final_project\n",
      "644942 rows affected.\n"
     ]
    },
    {
     "data": {
      "text/plain": [
       "[]"
      ]
     },
     "execution_count": 8,
     "metadata": {},
     "output_type": "execute_result"
    }
   ],
   "source": [
    "%%sql\n",
    "COPY Exempt_Organization FROM '/home/ubuntu/eo2n_2.csv'\n",
    "CSV\n",
    "HEADER;"
   ]
  },
  {
   "cell_type": "markdown",
   "metadata": {},
   "source": [
    "Since the NULL values in RULING_YEAR, RULING_MONTH, and TAX_PERIOD column in the EXEMPT_ORGANIZATION table will cause troubles when we use SELECT DISTINCT in the next step, we’ve decided to turn all of the NULL values in these 3 attributes into 0. \n",
    "(If we don’t do these steps, when we insert the values in the main table into the Time table, the Time table will NOT include records where only one or two variables are NULL. For example: RULING_YEAR = 2018, RULING_MONTH = 01, TAX_PERIOD is NULL.)"
   ]
  },
  {
   "cell_type": "code",
   "execution_count": 9,
   "metadata": {},
   "outputs": [
    {
     "name": "stdout",
     "output_type": "stream",
     "text": [
      " * postgresql://student@/final_project\n",
      "5778 rows affected.\n"
     ]
    },
    {
     "data": {
      "text/plain": [
       "[]"
      ]
     },
     "execution_count": 9,
     "metadata": {},
     "output_type": "execute_result"
    }
   ],
   "source": [
    "%%sql\n",
    "update exempt_organization \n",
    "set ruling_year = 0\n",
    "where ruling_year is NULL"
   ]
  },
  {
   "cell_type": "code",
   "execution_count": 10,
   "metadata": {},
   "outputs": [
    {
     "name": "stdout",
     "output_type": "stream",
     "text": [
      " * postgresql://student@/final_project\n",
      "5778 rows affected.\n"
     ]
    },
    {
     "data": {
      "text/plain": [
       "[]"
      ]
     },
     "execution_count": 10,
     "metadata": {},
     "output_type": "execute_result"
    }
   ],
   "source": [
    "%%sql\n",
    "update exempt_organization \n",
    "set ruling_month = 0\n",
    "where ruling_month is NULL"
   ]
  },
  {
   "cell_type": "code",
   "execution_count": 11,
   "metadata": {},
   "outputs": [
    {
     "name": "stdout",
     "output_type": "stream",
     "text": [
      " * postgresql://student@/final_project\n",
      "125349 rows affected.\n"
     ]
    },
    {
     "data": {
      "text/plain": [
       "[]"
      ]
     },
     "execution_count": 11,
     "metadata": {},
     "output_type": "execute_result"
    }
   ],
   "source": [
    "%%sql\n",
    "update exempt_organization \n",
    "set tax_period = 0\n",
    "where tax_period is NULL"
   ]
  },
  {
   "cell_type": "code",
   "execution_count": 12,
   "metadata": {},
   "outputs": [
    {
     "name": "stdout",
     "output_type": "stream",
     "text": [
      " * postgresql://student@/final_project\n",
      "10 rows affected.\n"
     ]
    },
    {
     "data": {
      "text/html": [
       "<table>\n",
       "    <tr>\n",
       "        <th>ein</th>\n",
       "        <th>name</th>\n",
       "        <th>street</th>\n",
       "        <th>city</th>\n",
       "        <th>state</th>\n",
       "        <th>zip</th>\n",
       "        <th>five_digit_zip</th>\n",
       "        <th>subsection</th>\n",
       "        <th>classification</th>\n",
       "        <th>ruling_year</th>\n",
       "        <th>ruling_month</th>\n",
       "        <th>deductibility</th>\n",
       "        <th>activity1</th>\n",
       "        <th>activity2</th>\n",
       "        <th>activity3</th>\n",
       "        <th>status</th>\n",
       "        <th>tax_period</th>\n",
       "        <th>income_cd</th>\n",
       "        <th>income_amt</th>\n",
       "        <th>revenue_amt</th>\n",
       "    </tr>\n",
       "    <tr>\n",
       "        <td>10036381</td>\n",
       "        <td>DISABLED AMERICAN VETERANS</td>\n",
       "        <td>15623 S CENTERLINE RD</td>\n",
       "        <td>RUDYARD</td>\n",
       "        <td>MI</td>\n",
       "        <td>49780-9349</td>\n",
       "        <td>49780</td>\n",
       "        <td>4</td>\n",
       "        <td>3</td>\n",
       "        <td>1942</td>\n",
       "        <td>6</td>\n",
       "        <td>1</td>\n",
       "        <td>908</td>\n",
       "        <td>279</td>\n",
       "        <td>265</td>\n",
       "        <td>1</td>\n",
       "        <td>201806</td>\n",
       "        <td>0</td>\n",
       "        <td>0</td>\n",
       "        <td>0</td>\n",
       "    </tr>\n",
       "    <tr>\n",
       "        <td>10158948</td>\n",
       "        <td>SIGMA KAPPA SORORITY</td>\n",
       "        <td>695 PRO-MED LN STE 300</td>\n",
       "        <td>CARMEL</td>\n",
       "        <td>IN</td>\n",
       "        <td>46032-5331</td>\n",
       "        <td>46032</td>\n",
       "        <td>7</td>\n",
       "        <td>1</td>\n",
       "        <td>1943</td>\n",
       "        <td>1</td>\n",
       "        <td>2</td>\n",
       "        <td>36</td>\n",
       "        <td>0</td>\n",
       "        <td>0</td>\n",
       "        <td>1</td>\n",
       "        <td>201805</td>\n",
       "        <td>7</td>\n",
       "        <td>6808224</td>\n",
       "        <td>4862977</td>\n",
       "    </tr>\n",
       "    <tr>\n",
       "        <td>10284545</td>\n",
       "        <td>NATIONAL ASSOCIATION OF INSURANCE AND FINANCIAL ADVISORS-MAINE</td>\n",
       "        <td>600 STATE ST STE A</td>\n",
       "        <td>CEDAR FALLS</td>\n",
       "        <td>IA</td>\n",
       "        <td>50613-3371</td>\n",
       "        <td>50613</td>\n",
       "        <td>6</td>\n",
       "        <td>1</td>\n",
       "        <td>1976</td>\n",
       "        <td>7</td>\n",
       "        <td>2</td>\n",
       "        <td>205</td>\n",
       "        <td>202</td>\n",
       "        <td>0</td>\n",
       "        <td>1</td>\n",
       "        <td>201906</td>\n",
       "        <td>0</td>\n",
       "        <td>0</td>\n",
       "        <td>0</td>\n",
       "    </tr>\n",
       "    <tr>\n",
       "        <td>10319131</td>\n",
       "        <td>SIGMA DELTA PI</td>\n",
       "        <td>3 BAINBRIDGE DR</td>\n",
       "        <td>CHARLESTON</td>\n",
       "        <td>SC</td>\n",
       "        <td>29407-4213</td>\n",
       "        <td>29407</td>\n",
       "        <td>3</td>\n",
       "        <td>1</td>\n",
       "        <td>1999</td>\n",
       "        <td>6</td>\n",
       "        <td>1</td>\n",
       "        <td>59</td>\n",
       "        <td>0</td>\n",
       "        <td>0</td>\n",
       "        <td>1</td>\n",
       "        <td>201808</td>\n",
       "        <td>0</td>\n",
       "        <td>0</td>\n",
       "        <td>0</td>\n",
       "    </tr>\n",
       "    <tr>\n",
       "        <td>10356732</td>\n",
       "        <td>CARRIAGE MUSEUM OF AMERICA</td>\n",
       "        <td>4075 IRON WORKS PKWY</td>\n",
       "        <td>LEXINGTON</td>\n",
       "        <td>KY</td>\n",
       "        <td>40511-8483</td>\n",
       "        <td>40511</td>\n",
       "        <td>3</td>\n",
       "        <td>1</td>\n",
       "        <td>1978</td>\n",
       "        <td>8</td>\n",
       "        <td>1</td>\n",
       "        <td>149</td>\n",
       "        <td>60</td>\n",
       "        <td>0</td>\n",
       "        <td>1</td>\n",
       "        <td>201712</td>\n",
       "        <td>4</td>\n",
       "        <td>427507</td>\n",
       "        <td>67851</td>\n",
       "    </tr>\n",
       "    <tr>\n",
       "        <td>10365191</td>\n",
       "        <td>ASSOCIATION OF SMALL BUSINESS DEVELOPMENT CENTERS</td>\n",
       "        <td>8990 BURKE LAKE RD</td>\n",
       "        <td>BURKE</td>\n",
       "        <td>VA</td>\n",
       "        <td>22015-1606</td>\n",
       "        <td>22015</td>\n",
       "        <td>6</td>\n",
       "        <td>2</td>\n",
       "        <td>1979</td>\n",
       "        <td>10</td>\n",
       "        <td>2</td>\n",
       "        <td>200</td>\n",
       "        <td>0</td>\n",
       "        <td>0</td>\n",
       "        <td>1</td>\n",
       "        <td>201712</td>\n",
       "        <td>6</td>\n",
       "        <td>2878047</td>\n",
       "        <td>2845481</td>\n",
       "    </tr>\n",
       "    <tr>\n",
       "        <td>10366094</td>\n",
       "        <td>BEULAH M &amp; CHARLES O VARNEY TRUST 10-10-121-0044980 10-10-121-004500</td>\n",
       "        <td>4900 TIEDEMAN RD OH-01-49-0150</td>\n",
       "        <td>BROOKLYN</td>\n",
       "        <td>OH</td>\n",
       "        <td>44144-2338</td>\n",
       "        <td>44144</td>\n",
       "        <td>91</td>\n",
       "        <td>1</td>\n",
       "        <td>1970</td>\n",
       "        <td>12</td>\n",
       "        <td>None</td>\n",
       "        <td>909</td>\n",
       "        <td>0</td>\n",
       "        <td>0</td>\n",
       "        <td>12</td>\n",
       "        <td>201904</td>\n",
       "        <td>4</td>\n",
       "        <td>163385</td>\n",
       "        <td>8787</td>\n",
       "    </tr>\n",
       "    <tr>\n",
       "        <td>10371074</td>\n",
       "        <td>MAINE CHAPTER OF THE AMERICAN PHYSICAL THERAPY ASSOCIATION INC</td>\n",
       "        <td>1055 N FAIRFAX ST STE 204</td>\n",
       "        <td>ALEXANDRIA</td>\n",
       "        <td>VA</td>\n",
       "        <td>22314-1541</td>\n",
       "        <td>22314</td>\n",
       "        <td>6</td>\n",
       "        <td>1</td>\n",
       "        <td>1990</td>\n",
       "        <td>1</td>\n",
       "        <td>2</td>\n",
       "        <td>205</td>\n",
       "        <td>0</td>\n",
       "        <td>0</td>\n",
       "        <td>1</td>\n",
       "        <td>201812</td>\n",
       "        <td>0</td>\n",
       "        <td>0</td>\n",
       "        <td>0</td>\n",
       "    </tr>\n",
       "    <tr>\n",
       "        <td>10372129</td>\n",
       "        <td>NORTH AMERICAN LAKE MANAGEMENT SOCIETY</td>\n",
       "        <td>PO BOX 5443</td>\n",
       "        <td>MADISON</td>\n",
       "        <td>WI</td>\n",
       "        <td>53705-0443</td>\n",
       "        <td>53705</td>\n",
       "        <td>3</td>\n",
       "        <td>2</td>\n",
       "        <td>1990</td>\n",
       "        <td>6</td>\n",
       "        <td>1</td>\n",
       "        <td>351</td>\n",
       "        <td>0</td>\n",
       "        <td>0</td>\n",
       "        <td>1</td>\n",
       "        <td>201712</td>\n",
       "        <td>4</td>\n",
       "        <td>428282</td>\n",
       "        <td>428282</td>\n",
       "    </tr>\n",
       "    <tr>\n",
       "        <td>10414466</td>\n",
       "        <td>SMITH COVE PRESERVATION TRUST</td>\n",
       "        <td>8223 BRECKSVILLE RD STE 100</td>\n",
       "        <td>BRECKSVILLE</td>\n",
       "        <td>OH</td>\n",
       "        <td>44141-1361</td>\n",
       "        <td>44141</td>\n",
       "        <td>3</td>\n",
       "        <td>1</td>\n",
       "        <td>1988</td>\n",
       "        <td>6</td>\n",
       "        <td>1</td>\n",
       "        <td>350</td>\n",
       "        <td>0</td>\n",
       "        <td>0</td>\n",
       "        <td>1</td>\n",
       "        <td>201812</td>\n",
       "        <td>1</td>\n",
       "        <td>1</td>\n",
       "        <td>None</td>\n",
       "    </tr>\n",
       "</table>"
      ],
      "text/plain": [
       "[('10036381', 'DISABLED AMERICAN VETERANS', '15623 S CENTERLINE RD', 'RUDYARD', 'MI', '49780-9349', Decimal('49780'), '4', '3', '1942', Decimal('6'), '1', Decimal('908'), Decimal('279'), Decimal('265'), '1', '201806', 0, Decimal('0'), Decimal('0')),\n",
       " ('10158948', 'SIGMA KAPPA SORORITY', '695 PRO-MED LN STE 300', 'CARMEL', 'IN', '46032-5331', Decimal('46032'), '7', '1', '1943', Decimal('1'), '2', Decimal('36'), Decimal('0'), Decimal('0'), '1', '201805', 7, Decimal('6808224'), Decimal('4862977')),\n",
       " ('10284545', 'NATIONAL ASSOCIATION OF INSURANCE AND FINANCIAL ADVISORS-MAINE', '600 STATE ST STE A', 'CEDAR FALLS', 'IA', '50613-3371', Decimal('50613'), '6', '1', '1976', Decimal('7'), '2', Decimal('205'), Decimal('202'), Decimal('0'), '1', '201906', 0, Decimal('0'), Decimal('0')),\n",
       " ('10319131', 'SIGMA DELTA PI', '3 BAINBRIDGE DR', 'CHARLESTON', 'SC', '29407-4213', Decimal('29407'), '3', '1', '1999', Decimal('6'), '1', Decimal('59'), Decimal('0'), Decimal('0'), '1', '201808', 0, Decimal('0'), Decimal('0')),\n",
       " ('10356732', 'CARRIAGE MUSEUM OF AMERICA', '4075 IRON WORKS PKWY', 'LEXINGTON', 'KY', '40511-8483', Decimal('40511'), '3', '1', '1978', Decimal('8'), '1', Decimal('149'), Decimal('60'), Decimal('0'), '1', '201712', 4, Decimal('427507'), Decimal('67851')),\n",
       " ('10365191', 'ASSOCIATION OF SMALL BUSINESS DEVELOPMENT CENTERS', '8990 BURKE LAKE RD', 'BURKE', 'VA', '22015-1606', Decimal('22015'), '6', '2', '1979', Decimal('10'), '2', Decimal('200'), Decimal('0'), Decimal('0'), '1', '201712', 6, Decimal('2878047'), Decimal('2845481')),\n",
       " ('10366094', 'BEULAH M & CHARLES O VARNEY TRUST 10-10-121-0044980 10-10-121-004500', '4900 TIEDEMAN RD OH-01-49-0150', 'BROOKLYN', 'OH', '44144-2338', Decimal('44144'), '91', '1', '1970', Decimal('12'), None, Decimal('909'), Decimal('0'), Decimal('0'), '12', '201904', 4, Decimal('163385'), Decimal('8787')),\n",
       " ('10371074', 'MAINE CHAPTER OF THE AMERICAN PHYSICAL THERAPY ASSOCIATION INC', '1055 N FAIRFAX ST STE 204', 'ALEXANDRIA', 'VA', '22314-1541', Decimal('22314'), '6', '1', '1990', Decimal('1'), '2', Decimal('205'), Decimal('0'), Decimal('0'), '1', '201812', 0, Decimal('0'), Decimal('0')),\n",
       " ('10372129', 'NORTH AMERICAN LAKE MANAGEMENT SOCIETY', 'PO BOX 5443', 'MADISON', 'WI', '53705-0443', Decimal('53705'), '3', '2', '1990', Decimal('6'), '1', Decimal('351'), Decimal('0'), Decimal('0'), '1', '201712', 4, Decimal('428282'), Decimal('428282')),\n",
       " ('10414466', 'SMITH COVE PRESERVATION TRUST', '8223 BRECKSVILLE RD STE 100', 'BRECKSVILLE', 'OH', '44141-1361', Decimal('44141'), '3', '1', '1988', Decimal('6'), '1', Decimal('350'), Decimal('0'), Decimal('0'), '1', '201812', 1, Decimal('1'), None)]"
      ]
     },
     "execution_count": 12,
     "metadata": {},
     "output_type": "execute_result"
    }
   ],
   "source": [
    "%%sql\n",
    "select * from Exempt_Organization\n",
    "limit 10;"
   ]
  },
  {
   "cell_type": "markdown",
   "metadata": {},
   "source": [
    "**create basic_information as a dimension table**"
   ]
  },
  {
   "cell_type": "markdown",
   "metadata": {},
   "source": [
    "Create the Basic_information table as a dimension table"
   ]
  },
  {
   "cell_type": "code",
   "execution_count": 13,
   "metadata": {},
   "outputs": [
    {
     "name": "stdout",
     "output_type": "stream",
     "text": [
      " * postgresql://student@/final_project\n",
      "Done.\n",
      "Done.\n"
     ]
    },
    {
     "data": {
      "text/plain": [
       "[]"
      ]
     },
     "execution_count": 13,
     "metadata": {},
     "output_type": "execute_result"
    }
   ],
   "source": [
    "%%sql\n",
    "DROP TABLE IF EXISTS Basic_information;\n",
    "\n",
    "CREATE TABLE Basic_information (\n",
    "    Key                 SERIAL PRIMARY KEY,\n",
    "    EIN                 VARCHAR NOT NULL,\n",
    "    NAME                VARCHAR(100),\n",
    "    SUBSECTION          VARCHAR NOT NULL,\n",
    "    CLASSIFICATION      VARCHAR NOT NULL,\n",
    "    DEDUCTIBILITY       VARCHAR,\n",
    "    ACTIVITY1           NUMERIC(3) NOT NULL,\n",
    "    ACTIVITY2           NUMERIC(3) NOT NULL,\n",
    "    ACTIVITY3           NUMERIC(3) NOT NULL,\n",
    "    STATUS              VARCHAR(2)\n",
    ");"
   ]
  },
  {
   "cell_type": "markdown",
   "metadata": {},
   "source": [
    "Populate the Basic_information table with data from table Exempt_Organization"
   ]
  },
  {
   "cell_type": "code",
   "execution_count": 14,
   "metadata": {},
   "outputs": [
    {
     "name": "stdout",
     "output_type": "stream",
     "text": [
      " * postgresql://student@/final_project\n",
      "644942 rows affected.\n"
     ]
    },
    {
     "data": {
      "text/plain": [
       "[]"
      ]
     },
     "execution_count": 14,
     "metadata": {},
     "output_type": "execute_result"
    }
   ],
   "source": [
    "%%sql\n",
    "INSERT INTO Basic_information (EIN, NAME, SUBSECTION, CLASSIFICATION, DEDUCTIBILITY, ACTIVITY1, ACTIVITY2, ACTIVITY3,STATUS)\n",
    "SELECT DISTINCT EIN, NAME, SUBSECTION, CLASSIFICATION, DEDUCTIBILITY, ACTIVITY1, ACTIVITY2, ACTIVITY3,STATUS\n",
    "FROM Exempt_Organization;"
   ]
  },
  {
   "cell_type": "code",
   "execution_count": 15,
   "metadata": {},
   "outputs": [
    {
     "name": "stdout",
     "output_type": "stream",
     "text": [
      " * postgresql://student@/final_project\n",
      "10 rows affected.\n"
     ]
    },
    {
     "data": {
      "text/html": [
       "<table>\n",
       "    <tr>\n",
       "        <th>key</th>\n",
       "        <th>ein</th>\n",
       "        <th>name</th>\n",
       "        <th>subsection</th>\n",
       "        <th>classification</th>\n",
       "        <th>deductibility</th>\n",
       "        <th>activity1</th>\n",
       "        <th>activity2</th>\n",
       "        <th>activity3</th>\n",
       "        <th>status</th>\n",
       "    </tr>\n",
       "    <tr>\n",
       "        <td>1</td>\n",
       "        <td>100004902</td>\n",
       "        <td>UPLIFTING SPIRIT CHURCH IN CHRIST INC</td>\n",
       "        <td>3</td>\n",
       "        <td>7</td>\n",
       "        <td>1</td>\n",
       "        <td>0</td>\n",
       "        <td>0</td>\n",
       "        <td>0</td>\n",
       "        <td>1</td>\n",
       "    </tr>\n",
       "    <tr>\n",
       "        <td>2</td>\n",
       "        <td>100005187</td>\n",
       "        <td>AMERICAN AMISTAD FOUNDATION INC</td>\n",
       "        <td>3</td>\n",
       "        <td>1</td>\n",
       "        <td>1</td>\n",
       "        <td>0</td>\n",
       "        <td>0</td>\n",
       "        <td>0</td>\n",
       "        <td>1</td>\n",
       "    </tr>\n",
       "    <tr>\n",
       "        <td>3</td>\n",
       "        <td>100006726</td>\n",
       "        <td>MICHIGAN STATE UNIVERSITY</td>\n",
       "        <td>3</td>\n",
       "        <td>2</td>\n",
       "        <td>1</td>\n",
       "        <td>0</td>\n",
       "        <td>0</td>\n",
       "        <td>0</td>\n",
       "        <td>1</td>\n",
       "    </tr>\n",
       "    <tr>\n",
       "        <td>4</td>\n",
       "        <td>100007528</td>\n",
       "        <td>AMERICAN ACADEMY OF PODIATRIC PRACTICE MANAGEMENT</td>\n",
       "        <td>6</td>\n",
       "        <td>2</td>\n",
       "        <td>2</td>\n",
       "        <td>0</td>\n",
       "        <td>0</td>\n",
       "        <td>0</td>\n",
       "        <td>1</td>\n",
       "    </tr>\n",
       "    <tr>\n",
       "        <td>5</td>\n",
       "        <td>100007967</td>\n",
       "        <td>STONE GARAGE</td>\n",
       "        <td>3</td>\n",
       "        <td>1</td>\n",
       "        <td>1</td>\n",
       "        <td>0</td>\n",
       "        <td>0</td>\n",
       "        <td>0</td>\n",
       "        <td>1</td>\n",
       "    </tr>\n",
       "    <tr>\n",
       "        <td>6</td>\n",
       "        <td>10036381</td>\n",
       "        <td>DISABLED AMERICAN VETERANS</td>\n",
       "        <td>4</td>\n",
       "        <td>3</td>\n",
       "        <td>1</td>\n",
       "        <td>908</td>\n",
       "        <td>279</td>\n",
       "        <td>265</td>\n",
       "        <td>1</td>\n",
       "    </tr>\n",
       "    <tr>\n",
       "        <td>7</td>\n",
       "        <td>10060379</td>\n",
       "        <td>HEALING AND DELIVERANCE MINISTRY INC</td>\n",
       "        <td>3</td>\n",
       "        <td>7</td>\n",
       "        <td>1</td>\n",
       "        <td>0</td>\n",
       "        <td>0</td>\n",
       "        <td>0</td>\n",
       "        <td>1</td>\n",
       "    </tr>\n",
       "    <tr>\n",
       "        <td>8</td>\n",
       "        <td>10123106</td>\n",
       "        <td>MORNING STAR BAPTIST CHURCH</td>\n",
       "        <td>3</td>\n",
       "        <td>7</td>\n",
       "        <td>1</td>\n",
       "        <td>29</td>\n",
       "        <td>0</td>\n",
       "        <td>0</td>\n",
       "        <td>1</td>\n",
       "    </tr>\n",
       "    <tr>\n",
       "        <td>9</td>\n",
       "        <td>10158948</td>\n",
       "        <td>SIGMA KAPPA SORORITY</td>\n",
       "        <td>7</td>\n",
       "        <td>1</td>\n",
       "        <td>2</td>\n",
       "        <td>36</td>\n",
       "        <td>0</td>\n",
       "        <td>0</td>\n",
       "        <td>1</td>\n",
       "    </tr>\n",
       "    <tr>\n",
       "        <td>10</td>\n",
       "        <td>102244829</td>\n",
       "        <td>CAPITOL CITY CORVETTE CLUB</td>\n",
       "        <td>3</td>\n",
       "        <td>1</td>\n",
       "        <td>1</td>\n",
       "        <td>0</td>\n",
       "        <td>0</td>\n",
       "        <td>0</td>\n",
       "        <td>1</td>\n",
       "    </tr>\n",
       "</table>"
      ],
      "text/plain": [
       "[(1, '100004902', 'UPLIFTING SPIRIT CHURCH IN CHRIST INC', '3', '7', '1', Decimal('0'), Decimal('0'), Decimal('0'), '1'),\n",
       " (2, '100005187', 'AMERICAN AMISTAD FOUNDATION INC', '3', '1', '1', Decimal('0'), Decimal('0'), Decimal('0'), '1'),\n",
       " (3, '100006726', 'MICHIGAN STATE UNIVERSITY', '3', '2', '1', Decimal('0'), Decimal('0'), Decimal('0'), '1'),\n",
       " (4, '100007528', 'AMERICAN ACADEMY OF PODIATRIC PRACTICE MANAGEMENT', '6', '2', '2', Decimal('0'), Decimal('0'), Decimal('0'), '1'),\n",
       " (5, '100007967', 'STONE GARAGE', '3', '1', '1', Decimal('0'), Decimal('0'), Decimal('0'), '1'),\n",
       " (6, '10036381', 'DISABLED AMERICAN VETERANS', '4', '3', '1', Decimal('908'), Decimal('279'), Decimal('265'), '1'),\n",
       " (7, '10060379', 'HEALING AND DELIVERANCE MINISTRY INC', '3', '7', '1', Decimal('0'), Decimal('0'), Decimal('0'), '1'),\n",
       " (8, '10123106', 'MORNING STAR BAPTIST CHURCH', '3', '7', '1', Decimal('29'), Decimal('0'), Decimal('0'), '1'),\n",
       " (9, '10158948', 'SIGMA KAPPA SORORITY', '7', '1', '2', Decimal('36'), Decimal('0'), Decimal('0'), '1'),\n",
       " (10, '102244829', 'CAPITOL CITY CORVETTE CLUB', '3', '1', '1', Decimal('0'), Decimal('0'), Decimal('0'), '1')]"
      ]
     },
     "execution_count": 15,
     "metadata": {},
     "output_type": "execute_result"
    }
   ],
   "source": [
    "%%sql\n",
    "select * from Basic_information limit 10"
   ]
  },
  {
   "cell_type": "markdown",
   "metadata": {},
   "source": [
    "Next, we add FK basic_information_key to the Exempt_Organization table:\n"
   ]
  },
  {
   "cell_type": "code",
   "execution_count": 16,
   "metadata": {},
   "outputs": [
    {
     "name": "stdout",
     "output_type": "stream",
     "text": [
      " * postgresql://student@/final_project\n",
      "Done.\n"
     ]
    },
    {
     "data": {
      "text/plain": [
       "[]"
      ]
     },
     "execution_count": 16,
     "metadata": {},
     "output_type": "execute_result"
    }
   ],
   "source": [
    "%%sql\n",
    "ALTER TABLE Exempt_Organization \n",
    "ADD COLUMN basic_information_key INTEGER,\n",
    "ADD CONSTRAINT fk_basic_information\n",
    "    FOREIGN KEY (basic_information_key)\n",
    "    REFERENCES basic_information (key);"
   ]
  },
  {
   "cell_type": "markdown",
   "metadata": {},
   "source": [
    "Populate the basic_information_key\n"
   ]
  },
  {
   "cell_type": "code",
   "execution_count": 17,
   "metadata": {},
   "outputs": [
    {
     "name": "stdout",
     "output_type": "stream",
     "text": [
      " * postgresql://student@/final_project\n",
      "644942 rows affected.\n"
     ]
    },
    {
     "data": {
      "text/plain": [
       "[]"
      ]
     },
     "execution_count": 17,
     "metadata": {},
     "output_type": "execute_result"
    }
   ],
   "source": [
    "%%sql\n",
    "UPDATE Exempt_Organization AS e\n",
    "SET basic_information_key = b.key\n",
    "FROM basic_information AS b\n",
    "WHERE  e.ein = b.ein;"
   ]
  },
  {
   "cell_type": "code",
   "execution_count": 18,
   "metadata": {},
   "outputs": [
    {
     "name": "stdout",
     "output_type": "stream",
     "text": [
      " * postgresql://student@/final_project\n",
      "10 rows affected.\n"
     ]
    },
    {
     "data": {
      "text/html": [
       "<table>\n",
       "    <tr>\n",
       "        <th>key</th>\n",
       "        <th>ein</th>\n",
       "        <th>name</th>\n",
       "        <th>subsection</th>\n",
       "        <th>classification</th>\n",
       "        <th>deductibility</th>\n",
       "        <th>activity1</th>\n",
       "        <th>activity2</th>\n",
       "        <th>activity3</th>\n",
       "        <th>status</th>\n",
       "    </tr>\n",
       "    <tr>\n",
       "        <td>1</td>\n",
       "        <td>100004902</td>\n",
       "        <td>UPLIFTING SPIRIT CHURCH IN CHRIST INC</td>\n",
       "        <td>3</td>\n",
       "        <td>7</td>\n",
       "        <td>1</td>\n",
       "        <td>0</td>\n",
       "        <td>0</td>\n",
       "        <td>0</td>\n",
       "        <td>1</td>\n",
       "    </tr>\n",
       "    <tr>\n",
       "        <td>2</td>\n",
       "        <td>100005187</td>\n",
       "        <td>AMERICAN AMISTAD FOUNDATION INC</td>\n",
       "        <td>3</td>\n",
       "        <td>1</td>\n",
       "        <td>1</td>\n",
       "        <td>0</td>\n",
       "        <td>0</td>\n",
       "        <td>0</td>\n",
       "        <td>1</td>\n",
       "    </tr>\n",
       "    <tr>\n",
       "        <td>3</td>\n",
       "        <td>100006726</td>\n",
       "        <td>MICHIGAN STATE UNIVERSITY</td>\n",
       "        <td>3</td>\n",
       "        <td>2</td>\n",
       "        <td>1</td>\n",
       "        <td>0</td>\n",
       "        <td>0</td>\n",
       "        <td>0</td>\n",
       "        <td>1</td>\n",
       "    </tr>\n",
       "    <tr>\n",
       "        <td>4</td>\n",
       "        <td>100007528</td>\n",
       "        <td>AMERICAN ACADEMY OF PODIATRIC PRACTICE MANAGEMENT</td>\n",
       "        <td>6</td>\n",
       "        <td>2</td>\n",
       "        <td>2</td>\n",
       "        <td>0</td>\n",
       "        <td>0</td>\n",
       "        <td>0</td>\n",
       "        <td>1</td>\n",
       "    </tr>\n",
       "    <tr>\n",
       "        <td>5</td>\n",
       "        <td>100007967</td>\n",
       "        <td>STONE GARAGE</td>\n",
       "        <td>3</td>\n",
       "        <td>1</td>\n",
       "        <td>1</td>\n",
       "        <td>0</td>\n",
       "        <td>0</td>\n",
       "        <td>0</td>\n",
       "        <td>1</td>\n",
       "    </tr>\n",
       "    <tr>\n",
       "        <td>6</td>\n",
       "        <td>10036381</td>\n",
       "        <td>DISABLED AMERICAN VETERANS</td>\n",
       "        <td>4</td>\n",
       "        <td>3</td>\n",
       "        <td>1</td>\n",
       "        <td>908</td>\n",
       "        <td>279</td>\n",
       "        <td>265</td>\n",
       "        <td>1</td>\n",
       "    </tr>\n",
       "    <tr>\n",
       "        <td>7</td>\n",
       "        <td>10060379</td>\n",
       "        <td>HEALING AND DELIVERANCE MINISTRY INC</td>\n",
       "        <td>3</td>\n",
       "        <td>7</td>\n",
       "        <td>1</td>\n",
       "        <td>0</td>\n",
       "        <td>0</td>\n",
       "        <td>0</td>\n",
       "        <td>1</td>\n",
       "    </tr>\n",
       "    <tr>\n",
       "        <td>8</td>\n",
       "        <td>10123106</td>\n",
       "        <td>MORNING STAR BAPTIST CHURCH</td>\n",
       "        <td>3</td>\n",
       "        <td>7</td>\n",
       "        <td>1</td>\n",
       "        <td>29</td>\n",
       "        <td>0</td>\n",
       "        <td>0</td>\n",
       "        <td>1</td>\n",
       "    </tr>\n",
       "    <tr>\n",
       "        <td>9</td>\n",
       "        <td>10158948</td>\n",
       "        <td>SIGMA KAPPA SORORITY</td>\n",
       "        <td>7</td>\n",
       "        <td>1</td>\n",
       "        <td>2</td>\n",
       "        <td>36</td>\n",
       "        <td>0</td>\n",
       "        <td>0</td>\n",
       "        <td>1</td>\n",
       "    </tr>\n",
       "    <tr>\n",
       "        <td>10</td>\n",
       "        <td>102244829</td>\n",
       "        <td>CAPITOL CITY CORVETTE CLUB</td>\n",
       "        <td>3</td>\n",
       "        <td>1</td>\n",
       "        <td>1</td>\n",
       "        <td>0</td>\n",
       "        <td>0</td>\n",
       "        <td>0</td>\n",
       "        <td>1</td>\n",
       "    </tr>\n",
       "</table>"
      ],
      "text/plain": [
       "[(1, '100004902', 'UPLIFTING SPIRIT CHURCH IN CHRIST INC', '3', '7', '1', Decimal('0'), Decimal('0'), Decimal('0'), '1'),\n",
       " (2, '100005187', 'AMERICAN AMISTAD FOUNDATION INC', '3', '1', '1', Decimal('0'), Decimal('0'), Decimal('0'), '1'),\n",
       " (3, '100006726', 'MICHIGAN STATE UNIVERSITY', '3', '2', '1', Decimal('0'), Decimal('0'), Decimal('0'), '1'),\n",
       " (4, '100007528', 'AMERICAN ACADEMY OF PODIATRIC PRACTICE MANAGEMENT', '6', '2', '2', Decimal('0'), Decimal('0'), Decimal('0'), '1'),\n",
       " (5, '100007967', 'STONE GARAGE', '3', '1', '1', Decimal('0'), Decimal('0'), Decimal('0'), '1'),\n",
       " (6, '10036381', 'DISABLED AMERICAN VETERANS', '4', '3', '1', Decimal('908'), Decimal('279'), Decimal('265'), '1'),\n",
       " (7, '10060379', 'HEALING AND DELIVERANCE MINISTRY INC', '3', '7', '1', Decimal('0'), Decimal('0'), Decimal('0'), '1'),\n",
       " (8, '10123106', 'MORNING STAR BAPTIST CHURCH', '3', '7', '1', Decimal('29'), Decimal('0'), Decimal('0'), '1'),\n",
       " (9, '10158948', 'SIGMA KAPPA SORORITY', '7', '1', '2', Decimal('36'), Decimal('0'), Decimal('0'), '1'),\n",
       " (10, '102244829', 'CAPITOL CITY CORVETTE CLUB', '3', '1', '1', Decimal('0'), Decimal('0'), Decimal('0'), '1')]"
      ]
     },
     "execution_count": 18,
     "metadata": {},
     "output_type": "execute_result"
    }
   ],
   "source": [
    "%%sql\n",
    "select * from Basic_information limit 10"
   ]
  },
  {
   "cell_type": "markdown",
   "metadata": {},
   "source": [
    "The basic_information_key attribute has been successfully added to the Exempt_Organization table from the output."
   ]
  },
  {
   "cell_type": "markdown",
   "metadata": {},
   "source": [
    "**Create the Time table as a dimension table**"
   ]
  },
  {
   "cell_type": "code",
   "execution_count": 27,
   "metadata": {},
   "outputs": [
    {
     "name": "stdout",
     "output_type": "stream",
     "text": [
      " * postgresql://student@/final_project\n",
      "Done.\n",
      "Done.\n"
     ]
    },
    {
     "data": {
      "text/plain": [
       "[]"
      ]
     },
     "execution_count": 27,
     "metadata": {},
     "output_type": "execute_result"
    }
   ],
   "source": [
    "%%sql\n",
    "DROP TABLE IF EXISTS Time;\n",
    "\n",
    "CREATE TABLE Time (\n",
    "    key SERIAL PRIMARY KEY,\n",
    "    RULING_YEAR         VARCHAR(4) DEFAULT'2002',\n",
    "    RULING_MONTH        NUMERIC(2) DEFAULT'01',\n",
    "    TAX_PERIOD          VARCHAR\n",
    ");"
   ]
  },
  {
   "cell_type": "markdown",
   "metadata": {},
   "source": [
    "Populate the Time table with data from table Exempt_Organization"
   ]
  },
  {
   "cell_type": "code",
   "execution_count": 28,
   "metadata": {},
   "outputs": [
    {
     "name": "stdout",
     "output_type": "stream",
     "text": [
      " * postgresql://student@/final_project\n",
      "26741 rows affected.\n"
     ]
    },
    {
     "data": {
      "text/plain": [
       "[]"
      ]
     },
     "execution_count": 28,
     "metadata": {},
     "output_type": "execute_result"
    }
   ],
   "source": [
    "%%sql\n",
    "INSERT INTO Time (RULING_YEAR,RULING_MONTH,TAX_PERIOD)\n",
    "SELECT DISTINCT RULING_YEAR, RULING_MONTH,TAX_PERIOD\n",
    "FROM Exempt_Organization;"
   ]
  },
  {
   "cell_type": "markdown",
   "metadata": {},
   "source": [
    "Check the Time table we just created by examining the first 10 rows\n"
   ]
  },
  {
   "cell_type": "code",
   "execution_count": 29,
   "metadata": {},
   "outputs": [
    {
     "name": "stdout",
     "output_type": "stream",
     "text": [
      " * postgresql://student@/final_project\n",
      "10 rows affected.\n"
     ]
    },
    {
     "data": {
      "text/html": [
       "<table>\n",
       "    <tr>\n",
       "        <th>key</th>\n",
       "        <th>ruling_year</th>\n",
       "        <th>ruling_month</th>\n",
       "        <th>tax_period</th>\n",
       "    </tr>\n",
       "    <tr>\n",
       "        <td>1</td>\n",
       "        <td>1986</td>\n",
       "        <td>1</td>\n",
       "        <td>201706</td>\n",
       "    </tr>\n",
       "    <tr>\n",
       "        <td>2</td>\n",
       "        <td>1971</td>\n",
       "        <td>12</td>\n",
       "        <td>201905</td>\n",
       "    </tr>\n",
       "    <tr>\n",
       "        <td>3</td>\n",
       "        <td>1992</td>\n",
       "        <td>11</td>\n",
       "        <td>0</td>\n",
       "    </tr>\n",
       "    <tr>\n",
       "        <td>4</td>\n",
       "        <td>1999</td>\n",
       "        <td>7</td>\n",
       "        <td>201904</td>\n",
       "    </tr>\n",
       "    <tr>\n",
       "        <td>5</td>\n",
       "        <td>1961</td>\n",
       "        <td>11</td>\n",
       "        <td>201712</td>\n",
       "    </tr>\n",
       "    <tr>\n",
       "        <td>6</td>\n",
       "        <td>1933</td>\n",
       "        <td>9</td>\n",
       "        <td>201812</td>\n",
       "    </tr>\n",
       "    <tr>\n",
       "        <td>7</td>\n",
       "        <td>1955</td>\n",
       "        <td>1</td>\n",
       "        <td>0</td>\n",
       "    </tr>\n",
       "    <tr>\n",
       "        <td>8</td>\n",
       "        <td>1955</td>\n",
       "        <td>3</td>\n",
       "        <td>201807</td>\n",
       "    </tr>\n",
       "    <tr>\n",
       "        <td>9</td>\n",
       "        <td>1999</td>\n",
       "        <td>10</td>\n",
       "        <td>201805</td>\n",
       "    </tr>\n",
       "    <tr>\n",
       "        <td>10</td>\n",
       "        <td>1957</td>\n",
       "        <td>11</td>\n",
       "        <td>201805</td>\n",
       "    </tr>\n",
       "</table>"
      ],
      "text/plain": [
       "[(1, '1986', Decimal('1'), '201706'),\n",
       " (2, '1971', Decimal('12'), '201905'),\n",
       " (3, '1992', Decimal('11'), '0'),\n",
       " (4, '1999', Decimal('7'), '201904'),\n",
       " (5, '1961', Decimal('11'), '201712'),\n",
       " (6, '1933', Decimal('9'), '201812'),\n",
       " (7, '1955', Decimal('1'), '0'),\n",
       " (8, '1955', Decimal('3'), '201807'),\n",
       " (9, '1999', Decimal('10'), '201805'),\n",
       " (10, '1957', Decimal('11'), '201805')]"
      ]
     },
     "execution_count": 29,
     "metadata": {},
     "output_type": "execute_result"
    }
   ],
   "source": [
    "%%sql\n",
    "select * from time\n",
    "limit 10;"
   ]
  },
  {
   "cell_type": "markdown",
   "metadata": {},
   "source": [
    "Next, we add FK time_key to the Exempt_Organization table:\n"
   ]
  },
  {
   "cell_type": "code",
   "execution_count": 30,
   "metadata": {},
   "outputs": [
    {
     "name": "stdout",
     "output_type": "stream",
     "text": [
      " * postgresql://student@/final_project\n",
      "Done.\n"
     ]
    },
    {
     "data": {
      "text/plain": [
       "[]"
      ]
     },
     "execution_count": 30,
     "metadata": {},
     "output_type": "execute_result"
    }
   ],
   "source": [
    "%%sql\n",
    "ALTER TABLE Exempt_Organization \n",
    "ADD COLUMN time_key INTEGER,\n",
    "ADD CONSTRAINT fk_time\n",
    "    FOREIGN KEY (time_key)\n",
    "    REFERENCES time (key);"
   ]
  },
  {
   "cell_type": "markdown",
   "metadata": {},
   "source": [
    "Populate the time_key by linking the attributes from time table and Exempt_Organization table\n"
   ]
  },
  {
   "cell_type": "code",
   "execution_count": 31,
   "metadata": {},
   "outputs": [
    {
     "name": "stdout",
     "output_type": "stream",
     "text": [
      " * postgresql://student@/final_project\n",
      "644942 rows affected.\n"
     ]
    },
    {
     "data": {
      "text/plain": [
       "[]"
      ]
     },
     "execution_count": 31,
     "metadata": {},
     "output_type": "execute_result"
    }
   ],
   "source": [
    "%%sql\n",
    "UPDATE Exempt_Organization AS e\n",
    "SET time_key = t.key\n",
    "FROM time AS t\n",
    "WHERE  e.ruling_year = t.ruling_year\n",
    "       and e.tax_period = t.tax_period\n",
    "       and e.ruling_month = t.ruling_month;"
   ]
  },
  {
   "cell_type": "markdown",
   "metadata": {},
   "source": [
    "We can check the Basic_information table we just modified by examining the first 10 rows\n"
   ]
  },
  {
   "cell_type": "code",
   "execution_count": 32,
   "metadata": {},
   "outputs": [
    {
     "name": "stdout",
     "output_type": "stream",
     "text": [
      " * postgresql://student@/final_project\n",
      "10 rows affected.\n"
     ]
    },
    {
     "data": {
      "text/html": [
       "<table>\n",
       "    <tr>\n",
       "        <th>ein</th>\n",
       "        <th>name</th>\n",
       "        <th>street</th>\n",
       "        <th>city</th>\n",
       "        <th>state</th>\n",
       "        <th>zip</th>\n",
       "        <th>five_digit_zip</th>\n",
       "        <th>subsection</th>\n",
       "        <th>classification</th>\n",
       "        <th>ruling_year</th>\n",
       "        <th>ruling_month</th>\n",
       "        <th>deductibility</th>\n",
       "        <th>activity1</th>\n",
       "        <th>activity2</th>\n",
       "        <th>activity3</th>\n",
       "        <th>status</th>\n",
       "        <th>tax_period</th>\n",
       "        <th>income_cd</th>\n",
       "        <th>income_amt</th>\n",
       "        <th>revenue_amt</th>\n",
       "        <th>basic_information_key</th>\n",
       "        <th>time_key</th>\n",
       "    </tr>\n",
       "    <tr>\n",
       "        <td>256018626</td>\n",
       "        <td>EMMA W LOCKE MEMORIAL FUND 500-052</td>\n",
       "        <td>PO BOX 185</td>\n",
       "        <td>PITTSBURGH</td>\n",
       "        <td>PA</td>\n",
       "        <td>15230-0185</td>\n",
       "        <td>15230</td>\n",
       "        <td>91</td>\n",
       "        <td>1</td>\n",
       "        <td>0</td>\n",
       "        <td>0</td>\n",
       "        <td>None</td>\n",
       "        <td>909</td>\n",
       "        <td>0</td>\n",
       "        <td>0</td>\n",
       "        <td>12</td>\n",
       "        <td>0</td>\n",
       "        <td>5</td>\n",
       "        <td>None</td>\n",
       "        <td>None</td>\n",
       "        <td>103690</td>\n",
       "        <td>26686</td>\n",
       "    </tr>\n",
       "    <tr>\n",
       "        <td>10879513</td>\n",
       "        <td>NATIONAL WILD TURKEY FEDERATION INC</td>\n",
       "        <td>PO BOX 530</td>\n",
       "        <td>EDGEFIELD</td>\n",
       "        <td>SC</td>\n",
       "        <td>29824-0530</td>\n",
       "        <td>29824</td>\n",
       "        <td>3</td>\n",
       "        <td>2</td>\n",
       "        <td>0</td>\n",
       "        <td>0</td>\n",
       "        <td>None</td>\n",
       "        <td>0</td>\n",
       "        <td>0</td>\n",
       "        <td>0</td>\n",
       "        <td>1</td>\n",
       "        <td>0</td>\n",
       "        <td>0</td>\n",
       "        <td>None</td>\n",
       "        <td>None</td>\n",
       "        <td>1621</td>\n",
       "        <td>26686</td>\n",
       "    </tr>\n",
       "    <tr>\n",
       "        <td>351799914</td>\n",
       "        <td>SIXTH STREET WESLEYAN CHURCH</td>\n",
       "        <td>426 S 25TH ST</td>\n",
       "        <td>TERRE HAUTE</td>\n",
       "        <td>IN</td>\n",
       "        <td>47803-2627</td>\n",
       "        <td>47803</td>\n",
       "        <td>3</td>\n",
       "        <td>72</td>\n",
       "        <td>0</td>\n",
       "        <td>0</td>\n",
       "        <td>None</td>\n",
       "        <td>0</td>\n",
       "        <td>0</td>\n",
       "        <td>0</td>\n",
       "        <td>1</td>\n",
       "        <td>0</td>\n",
       "        <td>0</td>\n",
       "        <td>None</td>\n",
       "        <td>None</td>\n",
       "        <td>210594</td>\n",
       "        <td>26686</td>\n",
       "    </tr>\n",
       "    <tr>\n",
       "        <td>341407504</td>\n",
       "        <td>THE NEY CHURCH OF GOD OF THE GREAT LAKES CONF OF THE CHURCHES OF GOD</td>\n",
       "        <td>PO BOX 69</td>\n",
       "        <td>NEY</td>\n",
       "        <td>OH</td>\n",
       "        <td>43549-0069</td>\n",
       "        <td>43549</td>\n",
       "        <td>3</td>\n",
       "        <td>7</td>\n",
       "        <td>0</td>\n",
       "        <td>0</td>\n",
       "        <td>None</td>\n",
       "        <td>0</td>\n",
       "        <td>0</td>\n",
       "        <td>0</td>\n",
       "        <td>1</td>\n",
       "        <td>0</td>\n",
       "        <td>0</td>\n",
       "        <td>None</td>\n",
       "        <td>None</td>\n",
       "        <td>190872</td>\n",
       "        <td>26686</td>\n",
       "    </tr>\n",
       "    <tr>\n",
       "        <td>460358931</td>\n",
       "        <td>LAKE ANDES</td>\n",
       "        <td>1001 E MAIN ST</td>\n",
       "        <td>LAKE ANDES</td>\n",
       "        <td>SD</td>\n",
       "        <td>57356-2046</td>\n",
       "        <td>57356</td>\n",
       "        <td>3</td>\n",
       "        <td>72</td>\n",
       "        <td>0</td>\n",
       "        <td>0</td>\n",
       "        <td>None</td>\n",
       "        <td>0</td>\n",
       "        <td>0</td>\n",
       "        <td>0</td>\n",
       "        <td>1</td>\n",
       "        <td>0</td>\n",
       "        <td>0</td>\n",
       "        <td>None</td>\n",
       "        <td>None</td>\n",
       "        <td>366995</td>\n",
       "        <td>26686</td>\n",
       "    </tr>\n",
       "    <tr>\n",
       "        <td>340733123</td>\n",
       "        <td>ANNUNCIATION CHURCH</td>\n",
       "        <td>4697 W 130TH ST</td>\n",
       "        <td>CLEVELAND</td>\n",
       "        <td>OH</td>\n",
       "        <td>44135-3760</td>\n",
       "        <td>44135</td>\n",
       "        <td>3</td>\n",
       "        <td>7</td>\n",
       "        <td>0</td>\n",
       "        <td>0</td>\n",
       "        <td>1</td>\n",
       "        <td>1</td>\n",
       "        <td>0</td>\n",
       "        <td>0</td>\n",
       "        <td>1</td>\n",
       "        <td>0</td>\n",
       "        <td>0</td>\n",
       "        <td>None</td>\n",
       "        <td>None</td>\n",
       "        <td>186086</td>\n",
       "        <td>26686</td>\n",
       "    </tr>\n",
       "    <tr>\n",
       "        <td>363758938</td>\n",
       "        <td>GRACE BIBLE CHURCH OF BERWYN</td>\n",
       "        <td>6900 16TH ST</td>\n",
       "        <td>BERWYN</td>\n",
       "        <td>IL</td>\n",
       "        <td>60402-1341</td>\n",
       "        <td>60402</td>\n",
       "        <td>3</td>\n",
       "        <td>7</td>\n",
       "        <td>0</td>\n",
       "        <td>0</td>\n",
       "        <td>None</td>\n",
       "        <td>0</td>\n",
       "        <td>0</td>\n",
       "        <td>0</td>\n",
       "        <td>1</td>\n",
       "        <td>0</td>\n",
       "        <td>0</td>\n",
       "        <td>None</td>\n",
       "        <td>None</td>\n",
       "        <td>236982</td>\n",
       "        <td>26686</td>\n",
       "    </tr>\n",
       "    <tr>\n",
       "        <td>316457387</td>\n",
       "        <td>LULA T DICK CHARITABLE 61-6861195200</td>\n",
       "        <td>PO BOX 1308</td>\n",
       "        <td>MILWAUKEE</td>\n",
       "        <td>WI</td>\n",
       "        <td>53201-1308</td>\n",
       "        <td>53201</td>\n",
       "        <td>91</td>\n",
       "        <td>1</td>\n",
       "        <td>0</td>\n",
       "        <td>0</td>\n",
       "        <td>None</td>\n",
       "        <td>0</td>\n",
       "        <td>0</td>\n",
       "        <td>0</td>\n",
       "        <td>12</td>\n",
       "        <td>0</td>\n",
       "        <td>3</td>\n",
       "        <td>None</td>\n",
       "        <td>None</td>\n",
       "        <td>179010</td>\n",
       "        <td>26686</td>\n",
       "    </tr>\n",
       "    <tr>\n",
       "        <td>611282428</td>\n",
       "        <td>LIFE IN CHRIST CHURCH INC</td>\n",
       "        <td>PO BOX 296</td>\n",
       "        <td>MARION</td>\n",
       "        <td>KY</td>\n",
       "        <td>42064-0296</td>\n",
       "        <td>42064</td>\n",
       "        <td>3</td>\n",
       "        <td>7</td>\n",
       "        <td>0</td>\n",
       "        <td>0</td>\n",
       "        <td>None</td>\n",
       "        <td>0</td>\n",
       "        <td>0</td>\n",
       "        <td>0</td>\n",
       "        <td>1</td>\n",
       "        <td>0</td>\n",
       "        <td>0</td>\n",
       "        <td>None</td>\n",
       "        <td>None</td>\n",
       "        <td>526806</td>\n",
       "        <td>26686</td>\n",
       "    </tr>\n",
       "    <tr>\n",
       "        <td>316039108</td>\n",
       "        <td>JONAHS RUN BAPTIST CHURCH</td>\n",
       "        <td>9614 STATE RT 73 W</td>\n",
       "        <td>WILMINGTON</td>\n",
       "        <td>OH</td>\n",
       "        <td>45177-9209</td>\n",
       "        <td>45177</td>\n",
       "        <td>3</td>\n",
       "        <td>7</td>\n",
       "        <td>0</td>\n",
       "        <td>0</td>\n",
       "        <td>1</td>\n",
       "        <td>1</td>\n",
       "        <td>0</td>\n",
       "        <td>0</td>\n",
       "        <td>1</td>\n",
       "        <td>0</td>\n",
       "        <td>0</td>\n",
       "        <td>None</td>\n",
       "        <td>None</td>\n",
       "        <td>177211</td>\n",
       "        <td>26686</td>\n",
       "    </tr>\n",
       "</table>"
      ],
      "text/plain": [
       "[('256018626', 'EMMA W LOCKE MEMORIAL FUND 500-052', 'PO BOX 185', 'PITTSBURGH', 'PA', '15230-0185', Decimal('15230'), '91', '1', '0', Decimal('0'), None, Decimal('909'), Decimal('0'), Decimal('0'), '12', '0', 5, None, None, 103690, 26686),\n",
       " ('10879513', 'NATIONAL WILD TURKEY FEDERATION INC', 'PO BOX 530', 'EDGEFIELD', 'SC', '29824-0530', Decimal('29824'), '3', '2', '0', Decimal('0'), None, Decimal('0'), Decimal('0'), Decimal('0'), '1', '0', 0, None, None, 1621, 26686),\n",
       " ('351799914', 'SIXTH STREET WESLEYAN CHURCH', '426 S 25TH ST', 'TERRE HAUTE', 'IN', '47803-2627', Decimal('47803'), '3', '72', '0', Decimal('0'), None, Decimal('0'), Decimal('0'), Decimal('0'), '1', '0', 0, None, None, 210594, 26686),\n",
       " ('341407504', 'THE NEY CHURCH OF GOD OF THE GREAT LAKES CONF OF THE CHURCHES OF GOD', 'PO BOX 69', 'NEY', 'OH', '43549-0069', Decimal('43549'), '3', '7', '0', Decimal('0'), None, Decimal('0'), Decimal('0'), Decimal('0'), '1', '0', 0, None, None, 190872, 26686),\n",
       " ('460358931', 'LAKE ANDES', '1001 E MAIN ST', 'LAKE ANDES', 'SD', '57356-2046', Decimal('57356'), '3', '72', '0', Decimal('0'), None, Decimal('0'), Decimal('0'), Decimal('0'), '1', '0', 0, None, None, 366995, 26686),\n",
       " ('340733123', 'ANNUNCIATION CHURCH', '4697 W 130TH ST', 'CLEVELAND', 'OH', '44135-3760', Decimal('44135'), '3', '7', '0', Decimal('0'), '1', Decimal('1'), Decimal('0'), Decimal('0'), '1', '0', 0, None, None, 186086, 26686),\n",
       " ('363758938', 'GRACE BIBLE CHURCH OF BERWYN', '6900 16TH ST', 'BERWYN', 'IL', '60402-1341', Decimal('60402'), '3', '7', '0', Decimal('0'), None, Decimal('0'), Decimal('0'), Decimal('0'), '1', '0', 0, None, None, 236982, 26686),\n",
       " ('316457387', 'LULA T DICK CHARITABLE 61-6861195200', 'PO BOX 1308', 'MILWAUKEE', 'WI', '53201-1308', Decimal('53201'), '91', '1', '0', Decimal('0'), None, Decimal('0'), Decimal('0'), Decimal('0'), '12', '0', 3, None, None, 179010, 26686),\n",
       " ('611282428', 'LIFE IN CHRIST CHURCH INC', 'PO BOX 296', 'MARION', 'KY', '42064-0296', Decimal('42064'), '3', '7', '0', Decimal('0'), None, Decimal('0'), Decimal('0'), Decimal('0'), '1', '0', 0, None, None, 526806, 26686),\n",
       " ('316039108', 'JONAHS RUN BAPTIST CHURCH', '9614 STATE RT 73 W', 'WILMINGTON', 'OH', '45177-9209', Decimal('45177'), '3', '7', '0', Decimal('0'), '1', Decimal('1'), Decimal('0'), Decimal('0'), '1', '0', 0, None, None, 177211, 26686)]"
      ]
     },
     "execution_count": 32,
     "metadata": {},
     "output_type": "execute_result"
    }
   ],
   "source": [
    "%%sql\n",
    "select* from Exempt_Organization\n",
    "limit 10;"
   ]
  },
  {
   "cell_type": "markdown",
   "metadata": {},
   "source": [
    "The time_key attribute has been successfully added to the Exempt_Organization table from the output."
   ]
  },
  {
   "cell_type": "markdown",
   "metadata": {},
   "source": [
    "**create Income_classification as a dimension table**"
   ]
  },
  {
   "cell_type": "code",
   "execution_count": 33,
   "metadata": {},
   "outputs": [
    {
     "name": "stdout",
     "output_type": "stream",
     "text": [
      " * postgresql://student@/final_project\n",
      "Done.\n",
      "Done.\n"
     ]
    },
    {
     "data": {
      "text/plain": [
       "[]"
      ]
     },
     "execution_count": 33,
     "metadata": {},
     "output_type": "execute_result"
    }
   ],
   "source": [
    "%%sql\n",
    "DROP TABLE IF EXISTS Income_classification;\n",
    "\n",
    "CREATE TABLE Income_classification (\n",
    "    key SERIAL PRIMARY KEY,\n",
    "    INCOME_CD  INTEGER NOT NULL\n",
    ");"
   ]
  },
  {
   "cell_type": "markdown",
   "metadata": {},
   "source": [
    "Populate the Income_classification table with data from the Exempt_Organization table\n"
   ]
  },
  {
   "cell_type": "code",
   "execution_count": 34,
   "metadata": {},
   "outputs": [
    {
     "name": "stdout",
     "output_type": "stream",
     "text": [
      " * postgresql://student@/final_project\n",
      "10 rows affected.\n"
     ]
    },
    {
     "data": {
      "text/plain": [
       "[]"
      ]
     },
     "execution_count": 34,
     "metadata": {},
     "output_type": "execute_result"
    }
   ],
   "source": [
    "%%sql\n",
    "INSERT INTO Income_classification (INCOME_CD)\n",
    "SELECT DISTINCT INCOME_CD \n",
    "FROM Exempt_Organization;"
   ]
  },
  {
   "cell_type": "markdown",
   "metadata": {},
   "source": [
    " Check the Income_classification table we just created by examining the first 10 rows\n"
   ]
  },
  {
   "cell_type": "code",
   "execution_count": 35,
   "metadata": {},
   "outputs": [
    {
     "name": "stdout",
     "output_type": "stream",
     "text": [
      " * postgresql://student@/final_project\n",
      "10 rows affected.\n"
     ]
    },
    {
     "data": {
      "text/html": [
       "<table>\n",
       "    <tr>\n",
       "        <th>key</th>\n",
       "        <th>income_cd</th>\n",
       "    </tr>\n",
       "    <tr>\n",
       "        <td>1</td>\n",
       "        <td>6</td>\n",
       "    </tr>\n",
       "    <tr>\n",
       "        <td>2</td>\n",
       "        <td>8</td>\n",
       "    </tr>\n",
       "    <tr>\n",
       "        <td>3</td>\n",
       "        <td>2</td>\n",
       "    </tr>\n",
       "    <tr>\n",
       "        <td>4</td>\n",
       "        <td>1</td>\n",
       "    </tr>\n",
       "    <tr>\n",
       "        <td>5</td>\n",
       "        <td>3</td>\n",
       "    </tr>\n",
       "    <tr>\n",
       "        <td>6</td>\n",
       "        <td>4</td>\n",
       "    </tr>\n",
       "    <tr>\n",
       "        <td>7</td>\n",
       "        <td>5</td>\n",
       "    </tr>\n",
       "    <tr>\n",
       "        <td>8</td>\n",
       "        <td>9</td>\n",
       "    </tr>\n",
       "    <tr>\n",
       "        <td>9</td>\n",
       "        <td>0</td>\n",
       "    </tr>\n",
       "    <tr>\n",
       "        <td>10</td>\n",
       "        <td>7</td>\n",
       "    </tr>\n",
       "</table>"
      ],
      "text/plain": [
       "[(1, 6),\n",
       " (2, 8),\n",
       " (3, 2),\n",
       " (4, 1),\n",
       " (5, 3),\n",
       " (6, 4),\n",
       " (7, 5),\n",
       " (8, 9),\n",
       " (9, 0),\n",
       " (10, 7)]"
      ]
     },
     "execution_count": 35,
     "metadata": {},
     "output_type": "execute_result"
    }
   ],
   "source": [
    "%%sql\n",
    "SELECT * FROM Income_classification;"
   ]
  },
  {
   "cell_type": "markdown",
   "metadata": {},
   "source": [
    "Populate the INCOME_CD_KEY\n"
   ]
  },
  {
   "cell_type": "code",
   "execution_count": 36,
   "metadata": {},
   "outputs": [
    {
     "name": "stdout",
     "output_type": "stream",
     "text": [
      " * postgresql://student@/final_project\n",
      "Done.\n"
     ]
    },
    {
     "data": {
      "text/plain": [
       "[]"
      ]
     },
     "execution_count": 36,
     "metadata": {},
     "output_type": "execute_result"
    }
   ],
   "source": [
    "%%sql\n",
    "ALTER TABLE Exempt_Organization\n",
    "ADD COLUMN INCOME_CD_KEY INTEGER,\n",
    "ADD CONSTRAINT FK_INCOME_CD\n",
    "    FOREIGN KEY (INCOME_CD_KEY)\n",
    "    REFERENCES Income_classification(key);"
   ]
  },
  {
   "cell_type": "markdown",
   "metadata": {},
   "source": [
    "Update and link the primary key"
   ]
  },
  {
   "cell_type": "code",
   "execution_count": 37,
   "metadata": {},
   "outputs": [
    {
     "name": "stdout",
     "output_type": "stream",
     "text": [
      " * postgresql://student@/final_project\n",
      "644942 rows affected.\n"
     ]
    },
    {
     "data": {
      "text/plain": [
       "[]"
      ]
     },
     "execution_count": 37,
     "metadata": {},
     "output_type": "execute_result"
    }
   ],
   "source": [
    "%%sql\n",
    "UPDATE Exempt_Organization AS e\n",
    "SET INCOME_CD_KEY = i.key\n",
    "FROM Income_classification AS i\n",
    "WHERE e.INCOME_CD = i.INCOME_CD;"
   ]
  },
  {
   "cell_type": "markdown",
   "metadata": {},
   "source": [
    "We can check the Exempt_Organization table we just modified by examining the first 10 rows"
   ]
  },
  {
   "cell_type": "code",
   "execution_count": 38,
   "metadata": {},
   "outputs": [
    {
     "name": "stdout",
     "output_type": "stream",
     "text": [
      " * postgresql://student@/final_project\n",
      "10 rows affected.\n"
     ]
    },
    {
     "data": {
      "text/html": [
       "<table>\n",
       "    <tr>\n",
       "        <th>ein</th>\n",
       "        <th>name</th>\n",
       "        <th>street</th>\n",
       "        <th>city</th>\n",
       "        <th>state</th>\n",
       "        <th>zip</th>\n",
       "        <th>five_digit_zip</th>\n",
       "        <th>subsection</th>\n",
       "        <th>classification</th>\n",
       "        <th>ruling_year</th>\n",
       "        <th>ruling_month</th>\n",
       "        <th>deductibility</th>\n",
       "        <th>activity1</th>\n",
       "        <th>activity2</th>\n",
       "        <th>activity3</th>\n",
       "        <th>status</th>\n",
       "        <th>tax_period</th>\n",
       "        <th>income_cd</th>\n",
       "        <th>income_amt</th>\n",
       "        <th>revenue_amt</th>\n",
       "        <th>basic_information_key</th>\n",
       "        <th>time_key</th>\n",
       "        <th>income_cd_key</th>\n",
       "    </tr>\n",
       "    <tr>\n",
       "        <td>256018626</td>\n",
       "        <td>EMMA W LOCKE MEMORIAL FUND 500-052</td>\n",
       "        <td>PO BOX 185</td>\n",
       "        <td>PITTSBURGH</td>\n",
       "        <td>PA</td>\n",
       "        <td>15230-0185</td>\n",
       "        <td>15230</td>\n",
       "        <td>91</td>\n",
       "        <td>1</td>\n",
       "        <td>0</td>\n",
       "        <td>0</td>\n",
       "        <td>None</td>\n",
       "        <td>909</td>\n",
       "        <td>0</td>\n",
       "        <td>0</td>\n",
       "        <td>12</td>\n",
       "        <td>0</td>\n",
       "        <td>5</td>\n",
       "        <td>None</td>\n",
       "        <td>None</td>\n",
       "        <td>103690</td>\n",
       "        <td>26686</td>\n",
       "        <td>7</td>\n",
       "    </tr>\n",
       "    <tr>\n",
       "        <td>10879513</td>\n",
       "        <td>NATIONAL WILD TURKEY FEDERATION INC</td>\n",
       "        <td>PO BOX 530</td>\n",
       "        <td>EDGEFIELD</td>\n",
       "        <td>SC</td>\n",
       "        <td>29824-0530</td>\n",
       "        <td>29824</td>\n",
       "        <td>3</td>\n",
       "        <td>2</td>\n",
       "        <td>0</td>\n",
       "        <td>0</td>\n",
       "        <td>None</td>\n",
       "        <td>0</td>\n",
       "        <td>0</td>\n",
       "        <td>0</td>\n",
       "        <td>1</td>\n",
       "        <td>0</td>\n",
       "        <td>0</td>\n",
       "        <td>None</td>\n",
       "        <td>None</td>\n",
       "        <td>1621</td>\n",
       "        <td>26686</td>\n",
       "        <td>9</td>\n",
       "    </tr>\n",
       "    <tr>\n",
       "        <td>351799914</td>\n",
       "        <td>SIXTH STREET WESLEYAN CHURCH</td>\n",
       "        <td>426 S 25TH ST</td>\n",
       "        <td>TERRE HAUTE</td>\n",
       "        <td>IN</td>\n",
       "        <td>47803-2627</td>\n",
       "        <td>47803</td>\n",
       "        <td>3</td>\n",
       "        <td>72</td>\n",
       "        <td>0</td>\n",
       "        <td>0</td>\n",
       "        <td>None</td>\n",
       "        <td>0</td>\n",
       "        <td>0</td>\n",
       "        <td>0</td>\n",
       "        <td>1</td>\n",
       "        <td>0</td>\n",
       "        <td>0</td>\n",
       "        <td>None</td>\n",
       "        <td>None</td>\n",
       "        <td>210594</td>\n",
       "        <td>26686</td>\n",
       "        <td>9</td>\n",
       "    </tr>\n",
       "    <tr>\n",
       "        <td>341407504</td>\n",
       "        <td>THE NEY CHURCH OF GOD OF THE GREAT LAKES CONF OF THE CHURCHES OF GOD</td>\n",
       "        <td>PO BOX 69</td>\n",
       "        <td>NEY</td>\n",
       "        <td>OH</td>\n",
       "        <td>43549-0069</td>\n",
       "        <td>43549</td>\n",
       "        <td>3</td>\n",
       "        <td>7</td>\n",
       "        <td>0</td>\n",
       "        <td>0</td>\n",
       "        <td>None</td>\n",
       "        <td>0</td>\n",
       "        <td>0</td>\n",
       "        <td>0</td>\n",
       "        <td>1</td>\n",
       "        <td>0</td>\n",
       "        <td>0</td>\n",
       "        <td>None</td>\n",
       "        <td>None</td>\n",
       "        <td>190872</td>\n",
       "        <td>26686</td>\n",
       "        <td>9</td>\n",
       "    </tr>\n",
       "    <tr>\n",
       "        <td>460358931</td>\n",
       "        <td>LAKE ANDES</td>\n",
       "        <td>1001 E MAIN ST</td>\n",
       "        <td>LAKE ANDES</td>\n",
       "        <td>SD</td>\n",
       "        <td>57356-2046</td>\n",
       "        <td>57356</td>\n",
       "        <td>3</td>\n",
       "        <td>72</td>\n",
       "        <td>0</td>\n",
       "        <td>0</td>\n",
       "        <td>None</td>\n",
       "        <td>0</td>\n",
       "        <td>0</td>\n",
       "        <td>0</td>\n",
       "        <td>1</td>\n",
       "        <td>0</td>\n",
       "        <td>0</td>\n",
       "        <td>None</td>\n",
       "        <td>None</td>\n",
       "        <td>366995</td>\n",
       "        <td>26686</td>\n",
       "        <td>9</td>\n",
       "    </tr>\n",
       "    <tr>\n",
       "        <td>340733123</td>\n",
       "        <td>ANNUNCIATION CHURCH</td>\n",
       "        <td>4697 W 130TH ST</td>\n",
       "        <td>CLEVELAND</td>\n",
       "        <td>OH</td>\n",
       "        <td>44135-3760</td>\n",
       "        <td>44135</td>\n",
       "        <td>3</td>\n",
       "        <td>7</td>\n",
       "        <td>0</td>\n",
       "        <td>0</td>\n",
       "        <td>1</td>\n",
       "        <td>1</td>\n",
       "        <td>0</td>\n",
       "        <td>0</td>\n",
       "        <td>1</td>\n",
       "        <td>0</td>\n",
       "        <td>0</td>\n",
       "        <td>None</td>\n",
       "        <td>None</td>\n",
       "        <td>186086</td>\n",
       "        <td>26686</td>\n",
       "        <td>9</td>\n",
       "    </tr>\n",
       "    <tr>\n",
       "        <td>800757446</td>\n",
       "        <td>CHRIST COMMUNITY CHURCH</td>\n",
       "        <td>7671 AUBURN RD</td>\n",
       "        <td>PAINESVILLE</td>\n",
       "        <td>OH</td>\n",
       "        <td>44077-9608</td>\n",
       "        <td>44077</td>\n",
       "        <td>3</td>\n",
       "        <td>7</td>\n",
       "        <td>0</td>\n",
       "        <td>0</td>\n",
       "        <td>None</td>\n",
       "        <td>1</td>\n",
       "        <td>59</td>\n",
       "        <td>349</td>\n",
       "        <td>1</td>\n",
       "        <td>0</td>\n",
       "        <td>0</td>\n",
       "        <td>None</td>\n",
       "        <td>None</td>\n",
       "        <td>550359</td>\n",
       "        <td>26686</td>\n",
       "        <td>9</td>\n",
       "    </tr>\n",
       "    <tr>\n",
       "        <td>911917602</td>\n",
       "        <td>TOP LADIES OF DISTINCTION INC</td>\n",
       "        <td>5302 TORCHWOOD LOOP E</td>\n",
       "        <td>COLUMBUS</td>\n",
       "        <td>OH</td>\n",
       "        <td>43229-4606</td>\n",
       "        <td>43229</td>\n",
       "        <td>3</td>\n",
       "        <td>3</td>\n",
       "        <td>0</td>\n",
       "        <td>0</td>\n",
       "        <td>1</td>\n",
       "        <td>153</td>\n",
       "        <td>0</td>\n",
       "        <td>0</td>\n",
       "        <td>1</td>\n",
       "        <td>0</td>\n",
       "        <td>0</td>\n",
       "        <td>None</td>\n",
       "        <td>None</td>\n",
       "        <td>639064</td>\n",
       "        <td>26686</td>\n",
       "        <td>9</td>\n",
       "    </tr>\n",
       "    <tr>\n",
       "        <td>900057386</td>\n",
       "        <td>TEAMMATES MENTORING PROGRAM</td>\n",
       "        <td>1924 W A ST</td>\n",
       "        <td>HASTINGS</td>\n",
       "        <td>NE</td>\n",
       "        <td>68901-5650</td>\n",
       "        <td>68901</td>\n",
       "        <td>3</td>\n",
       "        <td>1</td>\n",
       "        <td>0</td>\n",
       "        <td>0</td>\n",
       "        <td>1</td>\n",
       "        <td>0</td>\n",
       "        <td>0</td>\n",
       "        <td>0</td>\n",
       "        <td>1</td>\n",
       "        <td>0</td>\n",
       "        <td>0</td>\n",
       "        <td>None</td>\n",
       "        <td>None</td>\n",
       "        <td>630873</td>\n",
       "        <td>26686</td>\n",
       "        <td>9</td>\n",
       "    </tr>\n",
       "    <tr>\n",
       "        <td>900057535</td>\n",
       "        <td>TEAMMATES MENTORING PROGRAM</td>\n",
       "        <td>320 N 5TH ST</td>\n",
       "        <td>BEATRICE</td>\n",
       "        <td>NE</td>\n",
       "        <td>68310-2957</td>\n",
       "        <td>68310</td>\n",
       "        <td>3</td>\n",
       "        <td>1</td>\n",
       "        <td>0</td>\n",
       "        <td>0</td>\n",
       "        <td>1</td>\n",
       "        <td>0</td>\n",
       "        <td>0</td>\n",
       "        <td>0</td>\n",
       "        <td>1</td>\n",
       "        <td>0</td>\n",
       "        <td>0</td>\n",
       "        <td>None</td>\n",
       "        <td>None</td>\n",
       "        <td>630877</td>\n",
       "        <td>26686</td>\n",
       "        <td>9</td>\n",
       "    </tr>\n",
       "</table>"
      ],
      "text/plain": [
       "[('256018626', 'EMMA W LOCKE MEMORIAL FUND 500-052', 'PO BOX 185', 'PITTSBURGH', 'PA', '15230-0185', Decimal('15230'), '91', '1', '0', Decimal('0'), None, Decimal('909'), Decimal('0'), Decimal('0'), '12', '0', 5, None, None, 103690, 26686, 7),\n",
       " ('10879513', 'NATIONAL WILD TURKEY FEDERATION INC', 'PO BOX 530', 'EDGEFIELD', 'SC', '29824-0530', Decimal('29824'), '3', '2', '0', Decimal('0'), None, Decimal('0'), Decimal('0'), Decimal('0'), '1', '0', 0, None, None, 1621, 26686, 9),\n",
       " ('351799914', 'SIXTH STREET WESLEYAN CHURCH', '426 S 25TH ST', 'TERRE HAUTE', 'IN', '47803-2627', Decimal('47803'), '3', '72', '0', Decimal('0'), None, Decimal('0'), Decimal('0'), Decimal('0'), '1', '0', 0, None, None, 210594, 26686, 9),\n",
       " ('341407504', 'THE NEY CHURCH OF GOD OF THE GREAT LAKES CONF OF THE CHURCHES OF GOD', 'PO BOX 69', 'NEY', 'OH', '43549-0069', Decimal('43549'), '3', '7', '0', Decimal('0'), None, Decimal('0'), Decimal('0'), Decimal('0'), '1', '0', 0, None, None, 190872, 26686, 9),\n",
       " ('460358931', 'LAKE ANDES', '1001 E MAIN ST', 'LAKE ANDES', 'SD', '57356-2046', Decimal('57356'), '3', '72', '0', Decimal('0'), None, Decimal('0'), Decimal('0'), Decimal('0'), '1', '0', 0, None, None, 366995, 26686, 9),\n",
       " ('340733123', 'ANNUNCIATION CHURCH', '4697 W 130TH ST', 'CLEVELAND', 'OH', '44135-3760', Decimal('44135'), '3', '7', '0', Decimal('0'), '1', Decimal('1'), Decimal('0'), Decimal('0'), '1', '0', 0, None, None, 186086, 26686, 9),\n",
       " ('800757446', 'CHRIST COMMUNITY CHURCH', '7671 AUBURN RD', 'PAINESVILLE', 'OH', '44077-9608', Decimal('44077'), '3', '7', '0', Decimal('0'), None, Decimal('1'), Decimal('59'), Decimal('349'), '1', '0', 0, None, None, 550359, 26686, 9),\n",
       " ('911917602', 'TOP LADIES OF DISTINCTION INC', '5302 TORCHWOOD LOOP E', 'COLUMBUS', 'OH', '43229-4606', Decimal('43229'), '3', '3', '0', Decimal('0'), '1', Decimal('153'), Decimal('0'), Decimal('0'), '1', '0', 0, None, None, 639064, 26686, 9),\n",
       " ('900057386', 'TEAMMATES MENTORING PROGRAM', '1924 W A ST', 'HASTINGS', 'NE', '68901-5650', Decimal('68901'), '3', '1', '0', Decimal('0'), '1', Decimal('0'), Decimal('0'), Decimal('0'), '1', '0', 0, None, None, 630873, 26686, 9),\n",
       " ('900057535', 'TEAMMATES MENTORING PROGRAM', '320 N 5TH ST', 'BEATRICE', 'NE', '68310-2957', Decimal('68310'), '3', '1', '0', Decimal('0'), '1', Decimal('0'), Decimal('0'), Decimal('0'), '1', '0', 0, None, None, 630877, 26686, 9)]"
      ]
     },
     "execution_count": 38,
     "metadata": {},
     "output_type": "execute_result"
    }
   ],
   "source": [
    "%%sql\n",
    "select * from Exempt_Organization limit 10;"
   ]
  },
  {
   "cell_type": "markdown",
   "metadata": {},
   "source": [
    "The INCOME_CD_KEY attribute has been successfully added to the Exempt_Organization table from the output.\n"
   ]
  },
  {
   "cell_type": "markdown",
   "metadata": {},
   "source": [
    "**create Address as a dimension table**"
   ]
  },
  {
   "cell_type": "code",
   "execution_count": 39,
   "metadata": {},
   "outputs": [
    {
     "name": "stdout",
     "output_type": "stream",
     "text": [
      " * postgresql://student@/final_project\n",
      "Done.\n",
      "Done.\n"
     ]
    },
    {
     "data": {
      "text/plain": [
       "[]"
      ]
     },
     "execution_count": 39,
     "metadata": {},
     "output_type": "execute_result"
    }
   ],
   "source": [
    "%%sql\n",
    "DROP TABLE IF EXISTS Address;\n",
    "\n",
    "CREATE TABLE Address (\n",
    "    key SERIAL PRIMARY KEY,\n",
    "    STREET              VARCHAR(50) NOT NULL,\n",
    "    CITY                VARCHAR NOT NULL,\n",
    "    STATE               CHAR(2) NOT NULL,\n",
    "    ZIP                 CHAR(10) DEFAULT'9999-999',\n",
    "    Five_digit_ZIP     NUMERIC(5) DEFAULT'99999'\n",
    ");"
   ]
  },
  {
   "cell_type": "markdown",
   "metadata": {},
   "source": [
    "Populate the Address table with data from the Exempt_Organization table\n"
   ]
  },
  {
   "cell_type": "code",
   "execution_count": 40,
   "metadata": {},
   "outputs": [
    {
     "name": "stdout",
     "output_type": "stream",
     "text": [
      " * postgresql://student@/final_project\n",
      "520296 rows affected.\n"
     ]
    },
    {
     "data": {
      "text/plain": [
       "[]"
      ]
     },
     "execution_count": 40,
     "metadata": {},
     "output_type": "execute_result"
    }
   ],
   "source": [
    "%%sql\n",
    "INSERT INTO Address (STREET, CITY,STATE,ZIP,Five_digit_ZIP)\n",
    "SELECT DISTINCT STREET, CITY,STATE,ZIP,Five_digit_ZIP\n",
    "FROM Exempt_Organization;"
   ]
  },
  {
   "cell_type": "markdown",
   "metadata": {},
   "source": [
    " Check the Address table we just created by examining the first 10 rows\n"
   ]
  },
  {
   "cell_type": "code",
   "execution_count": 41,
   "metadata": {},
   "outputs": [
    {
     "name": "stdout",
     "output_type": "stream",
     "text": [
      " * postgresql://student@/final_project\n",
      "10 rows affected.\n"
     ]
    },
    {
     "data": {
      "text/html": [
       "<table>\n",
       "    <tr>\n",
       "        <th>key</th>\n",
       "        <th>street</th>\n",
       "        <th>city</th>\n",
       "        <th>state</th>\n",
       "        <th>zip</th>\n",
       "        <th>five_digit_zip</th>\n",
       "    </tr>\n",
       "    <tr>\n",
       "        <td>1</td>\n",
       "        <td>0</td>\n",
       "        <td>GETTYSBURG</td>\n",
       "        <td>PA</td>\n",
       "        <td>17325-0000</td>\n",
       "        <td>17325</td>\n",
       "    </tr>\n",
       "    <tr>\n",
       "        <td>2</td>\n",
       "        <td>0</td>\n",
       "        <td>LEHIGHTON</td>\n",
       "        <td>PA</td>\n",
       "        <td>18235-0000</td>\n",
       "        <td>18235</td>\n",
       "    </tr>\n",
       "    <tr>\n",
       "        <td>3</td>\n",
       "        <td>0</td>\n",
       "        <td>SHOREVIEW</td>\n",
       "        <td>MN</td>\n",
       "        <td>55126-0000</td>\n",
       "        <td>55126</td>\n",
       "    </tr>\n",
       "    <tr>\n",
       "        <td>4</td>\n",
       "        <td>0</td>\n",
       "        <td>XXXX</td>\n",
       "        <td>IL</td>\n",
       "        <td>60104-0000</td>\n",
       "        <td>60104</td>\n",
       "    </tr>\n",
       "    <tr>\n",
       "        <td>5</td>\n",
       "        <td>00000 EDWARDS RD</td>\n",
       "        <td>CINCINNATI</td>\n",
       "        <td>OH</td>\n",
       "        <td>45208-0000</td>\n",
       "        <td>45208</td>\n",
       "    </tr>\n",
       "    <tr>\n",
       "        <td>6</td>\n",
       "        <td>0022 WILLIAMS RD</td>\n",
       "        <td>WESTVILLE</td>\n",
       "        <td>IN</td>\n",
       "        <td>46391-9637</td>\n",
       "        <td>46391</td>\n",
       "    </tr>\n",
       "    <tr>\n",
       "        <td>7</td>\n",
       "        <td>002 EAST 1285 NORTH</td>\n",
       "        <td>NEOGA</td>\n",
       "        <td>IL</td>\n",
       "        <td>62447-0000</td>\n",
       "        <td>62447</td>\n",
       "    </tr>\n",
       "    <tr>\n",
       "        <td>8</td>\n",
       "        <td>002 ERICKSON HALL</td>\n",
       "        <td>LEXINGTON</td>\n",
       "        <td>KY</td>\n",
       "        <td>40506-0001</td>\n",
       "        <td>40506</td>\n",
       "    </tr>\n",
       "    <tr>\n",
       "        <td>9</td>\n",
       "        <td>00479 COUNTY ROAD 687</td>\n",
       "        <td>SOUTH HAVEN</td>\n",
       "        <td>MI</td>\n",
       "        <td>49090-8131</td>\n",
       "        <td>49090</td>\n",
       "    </tr>\n",
       "    <tr>\n",
       "        <td>10</td>\n",
       "        <td>0055 E STATE ROAD 10</td>\n",
       "        <td>NORTH JUDSON</td>\n",
       "        <td>IN</td>\n",
       "        <td>46366-8593</td>\n",
       "        <td>46366</td>\n",
       "    </tr>\n",
       "</table>"
      ],
      "text/plain": [
       "[(1, '0', 'GETTYSBURG', 'PA', '17325-0000', Decimal('17325')),\n",
       " (2, '0', 'LEHIGHTON', 'PA', '18235-0000', Decimal('18235')),\n",
       " (3, '0', 'SHOREVIEW', 'MN', '55126-0000', Decimal('55126')),\n",
       " (4, '0', 'XXXX', 'IL', '60104-0000', Decimal('60104')),\n",
       " (5, '00000 EDWARDS RD', 'CINCINNATI', 'OH', '45208-0000', Decimal('45208')),\n",
       " (6, '0022 WILLIAMS RD', 'WESTVILLE', 'IN', '46391-9637', Decimal('46391')),\n",
       " (7, '002 EAST 1285 NORTH', 'NEOGA', 'IL', '62447-0000', Decimal('62447')),\n",
       " (8, '002 ERICKSON HALL', 'LEXINGTON', 'KY', '40506-0001', Decimal('40506')),\n",
       " (9, '00479 COUNTY ROAD 687', 'SOUTH HAVEN', 'MI', '49090-8131', Decimal('49090')),\n",
       " (10, '0055 E STATE ROAD 10', 'NORTH JUDSON', 'IN', '46366-8593', Decimal('46366'))]"
      ]
     },
     "execution_count": 41,
     "metadata": {},
     "output_type": "execute_result"
    }
   ],
   "source": [
    "%%sql\n",
    "SELECT * FROM Address\n",
    "limit 10;"
   ]
  },
  {
   "cell_type": "markdown",
   "metadata": {},
   "source": [
    "Add FK Address_KEY to the Exempt_Organization table:"
   ]
  },
  {
   "cell_type": "code",
   "execution_count": 42,
   "metadata": {},
   "outputs": [
    {
     "name": "stdout",
     "output_type": "stream",
     "text": [
      " * postgresql://student@/final_project\n",
      "Done.\n"
     ]
    },
    {
     "data": {
      "text/plain": [
       "[]"
      ]
     },
     "execution_count": 42,
     "metadata": {},
     "output_type": "execute_result"
    }
   ],
   "source": [
    "%%sql\n",
    "ALTER TABLE Exempt_Organization\n",
    "ADD COLUMN Address_KEY INTEGER,\n",
    "ADD CONSTRAINT FK_Address\n",
    "    FOREIGN KEY (Address_KEY)\n",
    "    REFERENCES Address(key);"
   ]
  },
  {
   "cell_type": "markdown",
   "metadata": {},
   "source": [
    "Populate the Address_KEY by linking the attributes from address table and Exempt_Organization table\n"
   ]
  },
  {
   "cell_type": "code",
   "execution_count": 43,
   "metadata": {},
   "outputs": [
    {
     "name": "stdout",
     "output_type": "stream",
     "text": [
      " * postgresql://student@/final_project\n",
      "644942 rows affected.\n"
     ]
    },
    {
     "data": {
      "text/plain": [
       "[]"
      ]
     },
     "execution_count": 43,
     "metadata": {},
     "output_type": "execute_result"
    }
   ],
   "source": [
    "%%sql\n",
    "UPDATE Exempt_Organization AS e\n",
    "SET Address_KEY = a.key\n",
    "FROM Address AS a\n",
    "WHERE e.street = a.street\n",
    "    and e.city = a.city\n",
    "    and e.state = a.state\n",
    "    and e.zip = a.zip\n",
    "    and e.five_digit_zip = a.five_digit_zip;"
   ]
  },
  {
   "cell_type": "markdown",
   "metadata": {},
   "source": [
    "Check the Exempt_Organization table we just modified by examining the first 10 rows\n"
   ]
  },
  {
   "cell_type": "code",
   "execution_count": 44,
   "metadata": {},
   "outputs": [
    {
     "name": "stdout",
     "output_type": "stream",
     "text": [
      " * postgresql://student@/final_project\n",
      "10 rows affected.\n"
     ]
    },
    {
     "data": {
      "text/html": [
       "<table>\n",
       "    <tr>\n",
       "        <th>ein</th>\n",
       "        <th>name</th>\n",
       "        <th>street</th>\n",
       "        <th>city</th>\n",
       "        <th>state</th>\n",
       "        <th>zip</th>\n",
       "        <th>five_digit_zip</th>\n",
       "        <th>subsection</th>\n",
       "        <th>classification</th>\n",
       "        <th>ruling_year</th>\n",
       "        <th>ruling_month</th>\n",
       "        <th>deductibility</th>\n",
       "        <th>activity1</th>\n",
       "        <th>activity2</th>\n",
       "        <th>activity3</th>\n",
       "        <th>status</th>\n",
       "        <th>tax_period</th>\n",
       "        <th>income_cd</th>\n",
       "        <th>income_amt</th>\n",
       "        <th>revenue_amt</th>\n",
       "        <th>basic_information_key</th>\n",
       "        <th>time_key</th>\n",
       "        <th>income_cd_key</th>\n",
       "        <th>address_key</th>\n",
       "    </tr>\n",
       "    <tr>\n",
       "        <td>256018626</td>\n",
       "        <td>EMMA W LOCKE MEMORIAL FUND 500-052</td>\n",
       "        <td>PO BOX 185</td>\n",
       "        <td>PITTSBURGH</td>\n",
       "        <td>PA</td>\n",
       "        <td>15230-0185</td>\n",
       "        <td>15230</td>\n",
       "        <td>91</td>\n",
       "        <td>1</td>\n",
       "        <td>0</td>\n",
       "        <td>0</td>\n",
       "        <td>None</td>\n",
       "        <td>909</td>\n",
       "        <td>0</td>\n",
       "        <td>0</td>\n",
       "        <td>12</td>\n",
       "        <td>0</td>\n",
       "        <td>5</td>\n",
       "        <td>None</td>\n",
       "        <td>None</td>\n",
       "        <td>103690</td>\n",
       "        <td>26686</td>\n",
       "        <td>7</td>\n",
       "        <td>424256</td>\n",
       "    </tr>\n",
       "    <tr>\n",
       "        <td>520943671</td>\n",
       "        <td>GAITHERSBURG CHURCH OF THE NAZARENE</td>\n",
       "        <td>8921 WARFIELD RD</td>\n",
       "        <td>GAITHERSBURG</td>\n",
       "        <td>MD</td>\n",
       "        <td>20882-4430</td>\n",
       "        <td>20882</td>\n",
       "        <td>3</td>\n",
       "        <td>7</td>\n",
       "        <td>1963</td>\n",
       "        <td>7</td>\n",
       "        <td>1</td>\n",
       "        <td>1</td>\n",
       "        <td>0</td>\n",
       "        <td>0</td>\n",
       "        <td>1</td>\n",
       "        <td>201312</td>\n",
       "        <td>0</td>\n",
       "        <td>None</td>\n",
       "        <td>None</td>\n",
       "        <td>440170</td>\n",
       "        <td>12518</td>\n",
       "        <td>9</td>\n",
       "        <td>371749</td>\n",
       "    </tr>\n",
       "    <tr>\n",
       "        <td>810942834</td>\n",
       "        <td>THE ADVANCE PROJECT</td>\n",
       "        <td>20721 SABBATH CT</td>\n",
       "        <td>GAITHERSBURG</td>\n",
       "        <td>MD</td>\n",
       "        <td>20882-4435</td>\n",
       "        <td>20882</td>\n",
       "        <td>3</td>\n",
       "        <td>127</td>\n",
       "        <td>2016</td>\n",
       "        <td>1</td>\n",
       "        <td>1</td>\n",
       "        <td>0</td>\n",
       "        <td>0</td>\n",
       "        <td>0</td>\n",
       "        <td>1</td>\n",
       "        <td>201812</td>\n",
       "        <td>0</td>\n",
       "        <td>0</td>\n",
       "        <td>0</td>\n",
       "        <td>553798</td>\n",
       "        <td>3804</td>\n",
       "        <td>9</td>\n",
       "        <td>133293</td>\n",
       "    </tr>\n",
       "    <tr>\n",
       "        <td>521557799</td>\n",
       "        <td>NANCY AND RAYMOND SCHOENKE CHARITABLE FOUNDATION INC</td>\n",
       "        <td>21151 WOODFIELD RD</td>\n",
       "        <td>LAYTONSVILLE</td>\n",
       "        <td>MD</td>\n",
       "        <td>20882-4847</td>\n",
       "        <td>20882</td>\n",
       "        <td>3</td>\n",
       "        <td>1</td>\n",
       "        <td>1988</td>\n",
       "        <td>4</td>\n",
       "        <td>1</td>\n",
       "        <td>40</td>\n",
       "        <td>0</td>\n",
       "        <td>0</td>\n",
       "        <td>1</td>\n",
       "        <td>201806</td>\n",
       "        <td>1</td>\n",
       "        <td>6001</td>\n",
       "        <td>None</td>\n",
       "        <td>447987</td>\n",
       "        <td>9512</td>\n",
       "        <td>4</td>\n",
       "        <td>138313</td>\n",
       "    </tr>\n",
       "    <tr>\n",
       "        <td>474714441</td>\n",
       "        <td>OFFICE CHARITY FOUNDATION CORPORATION</td>\n",
       "        <td>8204 GOODHURST DR</td>\n",
       "        <td>GAITHERSBURG</td>\n",
       "        <td>MD</td>\n",
       "        <td>20882-4871</td>\n",
       "        <td>20882</td>\n",
       "        <td>3</td>\n",
       "        <td>1</td>\n",
       "        <td>2016</td>\n",
       "        <td>8</td>\n",
       "        <td>1</td>\n",
       "        <td>0</td>\n",
       "        <td>0</td>\n",
       "        <td>0</td>\n",
       "        <td>1</td>\n",
       "        <td>201808</td>\n",
       "        <td>3</td>\n",
       "        <td>79234</td>\n",
       "        <td>None</td>\n",
       "        <td>421198</td>\n",
       "        <td>4416</td>\n",
       "        <td>5</td>\n",
       "        <td>360579</td>\n",
       "    </tr>\n",
       "    <tr>\n",
       "        <td>251540318</td>\n",
       "        <td>ATLANTIC SEEDSMENS ASSOC</td>\n",
       "        <td>8204 GOODHURST DR</td>\n",
       "        <td>GAITHERSBURG</td>\n",
       "        <td>MD</td>\n",
       "        <td>20882-4871</td>\n",
       "        <td>20882</td>\n",
       "        <td>6</td>\n",
       "        <td>2</td>\n",
       "        <td>1992</td>\n",
       "        <td>3</td>\n",
       "        <td>2</td>\n",
       "        <td>200</td>\n",
       "        <td>0</td>\n",
       "        <td>0</td>\n",
       "        <td>1</td>\n",
       "        <td>201812</td>\n",
       "        <td>3</td>\n",
       "        <td>47931</td>\n",
       "        <td>47931</td>\n",
       "        <td>98328</td>\n",
       "        <td>4304</td>\n",
       "        <td>5</td>\n",
       "        <td>360579</td>\n",
       "    </tr>\n",
       "    <tr>\n",
       "        <td>521726075</td>\n",
       "        <td>NATIONAL ASSOCIATION OF POWER ENGINEERS EDUCATIONAL FNDTN INC</td>\n",
       "        <td>PO BOX 83250</td>\n",
       "        <td>GAITHERSBURG</td>\n",
       "        <td>MD</td>\n",
       "        <td>20883-3250</td>\n",
       "        <td>20883</td>\n",
       "        <td>3</td>\n",
       "        <td>1</td>\n",
       "        <td>1991</td>\n",
       "        <td>10</td>\n",
       "        <td>1</td>\n",
       "        <td>30</td>\n",
       "        <td>0</td>\n",
       "        <td>0</td>\n",
       "        <td>1</td>\n",
       "        <td>201712</td>\n",
       "        <td>6</td>\n",
       "        <td>1457739</td>\n",
       "        <td>1442411</td>\n",
       "        <td>450118</td>\n",
       "        <td>8094</td>\n",
       "        <td>1</td>\n",
       "        <td>507132</td>\n",
       "    </tr>\n",
       "    <tr>\n",
       "        <td>582608783</td>\n",
       "        <td>PRESERVING BIBLE TIMES INC</td>\n",
       "        <td>PO BOX 83357</td>\n",
       "        <td>GAITHERSBURG</td>\n",
       "        <td>MD</td>\n",
       "        <td>20883-3357</td>\n",
       "        <td>20883</td>\n",
       "        <td>3</td>\n",
       "        <td>2</td>\n",
       "        <td>2001</td>\n",
       "        <td>10</td>\n",
       "        <td>1</td>\n",
       "        <td>0</td>\n",
       "        <td>0</td>\n",
       "        <td>0</td>\n",
       "        <td>1</td>\n",
       "        <td>201712</td>\n",
       "        <td>4</td>\n",
       "        <td>148380</td>\n",
       "        <td>116776</td>\n",
       "        <td>519719</td>\n",
       "        <td>23370</td>\n",
       "        <td>6</td>\n",
       "        <td>507183</td>\n",
       "    </tr>\n",
       "    <tr>\n",
       "        <td>470941630</td>\n",
       "        <td>ASSOCIATION OF ADULT MUSICIANS WITH HEARING LOSS AAMHL INC</td>\n",
       "        <td>PO BOX 83422</td>\n",
       "        <td>GAITHERSBURG</td>\n",
       "        <td>MD</td>\n",
       "        <td>20883-3422</td>\n",
       "        <td>20883</td>\n",
       "        <td>3</td>\n",
       "        <td>1</td>\n",
       "        <td>2006</td>\n",
       "        <td>11</td>\n",
       "        <td>1</td>\n",
       "        <td>0</td>\n",
       "        <td>0</td>\n",
       "        <td>0</td>\n",
       "        <td>1</td>\n",
       "        <td>201812</td>\n",
       "        <td>0</td>\n",
       "        <td>0</td>\n",
       "        <td>0</td>\n",
       "        <td>400789</td>\n",
       "        <td>25206</td>\n",
       "        <td>9</td>\n",
       "        <td>507221</td>\n",
       "    </tr>\n",
       "    <tr>\n",
       "        <td>201546589</td>\n",
       "        <td>NEVISIAN ASSOCIATION OF WASHINGTON DC</td>\n",
       "        <td>PO BOX 83531</td>\n",
       "        <td>GAITHERSBURG</td>\n",
       "        <td>MD</td>\n",
       "        <td>20883-3531</td>\n",
       "        <td>20883</td>\n",
       "        <td>3</td>\n",
       "        <td>12</td>\n",
       "        <td>2009</td>\n",
       "        <td>5</td>\n",
       "        <td>1</td>\n",
       "        <td>0</td>\n",
       "        <td>0</td>\n",
       "        <td>0</td>\n",
       "        <td>1</td>\n",
       "        <td>201812</td>\n",
       "        <td>0</td>\n",
       "        <td>0</td>\n",
       "        <td>0</td>\n",
       "        <td>13681</td>\n",
       "        <td>959</td>\n",
       "        <td>9</td>\n",
       "        <td>507275</td>\n",
       "    </tr>\n",
       "</table>"
      ],
      "text/plain": [
       "[('256018626', 'EMMA W LOCKE MEMORIAL FUND 500-052', 'PO BOX 185', 'PITTSBURGH', 'PA', '15230-0185', Decimal('15230'), '91', '1', '0', Decimal('0'), None, Decimal('909'), Decimal('0'), Decimal('0'), '12', '0', 5, None, None, 103690, 26686, 7, 424256),\n",
       " ('520943671', 'GAITHERSBURG CHURCH OF THE NAZARENE', '8921 WARFIELD RD', 'GAITHERSBURG', 'MD', '20882-4430', Decimal('20882'), '3', '7', '1963', Decimal('7'), '1', Decimal('1'), Decimal('0'), Decimal('0'), '1', '201312', 0, None, None, 440170, 12518, 9, 371749),\n",
       " ('810942834', 'THE ADVANCE PROJECT', '20721 SABBATH CT', 'GAITHERSBURG', 'MD', '20882-4435', Decimal('20882'), '3', '127', '2016', Decimal('1'), '1', Decimal('0'), Decimal('0'), Decimal('0'), '1', '201812', 0, Decimal('0'), Decimal('0'), 553798, 3804, 9, 133293),\n",
       " ('521557799', 'NANCY AND RAYMOND SCHOENKE CHARITABLE FOUNDATION INC', '21151 WOODFIELD RD', 'LAYTONSVILLE', 'MD', '20882-4847', Decimal('20882'), '3', '1', '1988', Decimal('4'), '1', Decimal('40'), Decimal('0'), Decimal('0'), '1', '201806', 1, Decimal('6001'), None, 447987, 9512, 4, 138313),\n",
       " ('474714441', 'OFFICE CHARITY FOUNDATION CORPORATION', '8204 GOODHURST DR', 'GAITHERSBURG', 'MD', '20882-4871', Decimal('20882'), '3', '1', '2016', Decimal('8'), '1', Decimal('0'), Decimal('0'), Decimal('0'), '1', '201808', 3, Decimal('79234'), None, 421198, 4416, 5, 360579),\n",
       " ('251540318', 'ATLANTIC SEEDSMENS ASSOC', '8204 GOODHURST DR', 'GAITHERSBURG', 'MD', '20882-4871', Decimal('20882'), '6', '2', '1992', Decimal('3'), '2', Decimal('200'), Decimal('0'), Decimal('0'), '1', '201812', 3, Decimal('47931'), Decimal('47931'), 98328, 4304, 5, 360579),\n",
       " ('521726075', 'NATIONAL ASSOCIATION OF POWER ENGINEERS EDUCATIONAL FNDTN INC', 'PO BOX 83250', 'GAITHERSBURG', 'MD', '20883-3250', Decimal('20883'), '3', '1', '1991', Decimal('10'), '1', Decimal('30'), Decimal('0'), Decimal('0'), '1', '201712', 6, Decimal('1457739'), Decimal('1442411'), 450118, 8094, 1, 507132),\n",
       " ('582608783', 'PRESERVING BIBLE TIMES INC', 'PO BOX 83357', 'GAITHERSBURG', 'MD', '20883-3357', Decimal('20883'), '3', '2', '2001', Decimal('10'), '1', Decimal('0'), Decimal('0'), Decimal('0'), '1', '201712', 4, Decimal('148380'), Decimal('116776'), 519719, 23370, 6, 507183),\n",
       " ('470941630', 'ASSOCIATION OF ADULT MUSICIANS WITH HEARING LOSS AAMHL INC', 'PO BOX 83422', 'GAITHERSBURG', 'MD', '20883-3422', Decimal('20883'), '3', '1', '2006', Decimal('11'), '1', Decimal('0'), Decimal('0'), Decimal('0'), '1', '201812', 0, Decimal('0'), Decimal('0'), 400789, 25206, 9, 507221),\n",
       " ('201546589', 'NEVISIAN ASSOCIATION OF WASHINGTON DC', 'PO BOX 83531', 'GAITHERSBURG', 'MD', '20883-3531', Decimal('20883'), '3', '12', '2009', Decimal('5'), '1', Decimal('0'), Decimal('0'), Decimal('0'), '1', '201812', 0, Decimal('0'), Decimal('0'), 13681, 959, 9, 507275)]"
      ]
     },
     "execution_count": 44,
     "metadata": {},
     "output_type": "execute_result"
    }
   ],
   "source": [
    "%%sql\n",
    "select * from Exempt_Organization limit 10;"
   ]
  },
  {
   "cell_type": "markdown",
   "metadata": {},
   "source": [
    "The Address_KEY attribute has been successfully added to the Exempt_Organization table from the output."
   ]
  },
  {
   "cell_type": "markdown",
   "metadata": {},
   "source": [
    "We can drop all the unnecessary columns from the rides table and only reserve the facts and surrogate keys."
   ]
  },
  {
   "cell_type": "code",
   "execution_count": 45,
   "metadata": {},
   "outputs": [
    {
     "name": "stdout",
     "output_type": "stream",
     "text": [
      " * postgresql://student@/final_project\n",
      "Done.\n"
     ]
    },
    {
     "data": {
      "text/plain": [
       "[]"
      ]
     },
     "execution_count": 45,
     "metadata": {},
     "output_type": "execute_result"
    }
   ],
   "source": [
    "%%sql\n",
    "ALTER TABLE Exempt_Organization \n",
    "DROP COLUMN EIN,\n",
    "DROP COLUMN NAME,\n",
    "DROP COLUMN STREET,\n",
    "DROP COLUMN CITY,\n",
    "DROP COLUMN STATE,\n",
    "DROP COLUMN ZIP,\n",
    "DROP COLUMN Five_digit_ZIP,\n",
    "DROP COLUMN SUBSECTION,\n",
    "DROP COLUMN CLASSIFICATION,\n",
    "DROP COLUMN RULING_YEAR,\n",
    "DROP COLUMN RULING_MONTH,\n",
    "DROP COLUMN DEDUCTIBILITY,\n",
    "DROP COLUMN ACTIVITY1,\n",
    "DROP COLUMN ACTIVITY2,\n",
    "DROP COLUMN ACTIVITY3,\n",
    "DROP COLUMN STATUS,\n",
    "DROP COLUMN tax_period,\n",
    "DROP COLUMN INCOME_CD;"
   ]
  },
  {
   "cell_type": "markdown",
   "metadata": {},
   "source": [
    "Check the Exempt_Organization table we just modified by examining the first 10 rows"
   ]
  },
  {
   "cell_type": "code",
   "execution_count": 46,
   "metadata": {},
   "outputs": [
    {
     "name": "stdout",
     "output_type": "stream",
     "text": [
      " * postgresql://student@/final_project\n",
      "10 rows affected.\n"
     ]
    },
    {
     "data": {
      "text/html": [
       "<table>\n",
       "    <tr>\n",
       "        <th>income_amt</th>\n",
       "        <th>revenue_amt</th>\n",
       "        <th>basic_information_key</th>\n",
       "        <th>time_key</th>\n",
       "        <th>income_cd_key</th>\n",
       "        <th>address_key</th>\n",
       "    </tr>\n",
       "    <tr>\n",
       "        <td>None</td>\n",
       "        <td>None</td>\n",
       "        <td>103690</td>\n",
       "        <td>26686</td>\n",
       "        <td>7</td>\n",
       "        <td>424256</td>\n",
       "    </tr>\n",
       "    <tr>\n",
       "        <td>None</td>\n",
       "        <td>None</td>\n",
       "        <td>440170</td>\n",
       "        <td>12518</td>\n",
       "        <td>9</td>\n",
       "        <td>371749</td>\n",
       "    </tr>\n",
       "    <tr>\n",
       "        <td>0</td>\n",
       "        <td>0</td>\n",
       "        <td>553798</td>\n",
       "        <td>3804</td>\n",
       "        <td>9</td>\n",
       "        <td>133293</td>\n",
       "    </tr>\n",
       "    <tr>\n",
       "        <td>6001</td>\n",
       "        <td>None</td>\n",
       "        <td>447987</td>\n",
       "        <td>9512</td>\n",
       "        <td>4</td>\n",
       "        <td>138313</td>\n",
       "    </tr>\n",
       "    <tr>\n",
       "        <td>79234</td>\n",
       "        <td>None</td>\n",
       "        <td>421198</td>\n",
       "        <td>4416</td>\n",
       "        <td>5</td>\n",
       "        <td>360579</td>\n",
       "    </tr>\n",
       "    <tr>\n",
       "        <td>47931</td>\n",
       "        <td>47931</td>\n",
       "        <td>98328</td>\n",
       "        <td>4304</td>\n",
       "        <td>5</td>\n",
       "        <td>360579</td>\n",
       "    </tr>\n",
       "    <tr>\n",
       "        <td>1457739</td>\n",
       "        <td>1442411</td>\n",
       "        <td>450118</td>\n",
       "        <td>8094</td>\n",
       "        <td>1</td>\n",
       "        <td>507132</td>\n",
       "    </tr>\n",
       "    <tr>\n",
       "        <td>148380</td>\n",
       "        <td>116776</td>\n",
       "        <td>519719</td>\n",
       "        <td>23370</td>\n",
       "        <td>6</td>\n",
       "        <td>507183</td>\n",
       "    </tr>\n",
       "    <tr>\n",
       "        <td>0</td>\n",
       "        <td>0</td>\n",
       "        <td>400789</td>\n",
       "        <td>25206</td>\n",
       "        <td>9</td>\n",
       "        <td>507221</td>\n",
       "    </tr>\n",
       "    <tr>\n",
       "        <td>0</td>\n",
       "        <td>0</td>\n",
       "        <td>13681</td>\n",
       "        <td>959</td>\n",
       "        <td>9</td>\n",
       "        <td>507275</td>\n",
       "    </tr>\n",
       "</table>"
      ],
      "text/plain": [
       "[(None, None, 103690, 26686, 7, 424256),\n",
       " (None, None, 440170, 12518, 9, 371749),\n",
       " (Decimal('0'), Decimal('0'), 553798, 3804, 9, 133293),\n",
       " (Decimal('6001'), None, 447987, 9512, 4, 138313),\n",
       " (Decimal('79234'), None, 421198, 4416, 5, 360579),\n",
       " (Decimal('47931'), Decimal('47931'), 98328, 4304, 5, 360579),\n",
       " (Decimal('1457739'), Decimal('1442411'), 450118, 8094, 1, 507132),\n",
       " (Decimal('148380'), Decimal('116776'), 519719, 23370, 6, 507183),\n",
       " (Decimal('0'), Decimal('0'), 400789, 25206, 9, 507221),\n",
       " (Decimal('0'), Decimal('0'), 13681, 959, 9, 507275)]"
      ]
     },
     "execution_count": 46,
     "metadata": {},
     "output_type": "execute_result"
    }
   ],
   "source": [
    "%%sql\n",
    "select * from Exempt_Organization limit 10;"
   ]
  },
  {
   "cell_type": "markdown",
   "metadata": {},
   "source": [
    "Check the number of records in our fact table. If it shows `644942`, which is the original number of records in our dataset, then we have succeeded in the wrangling steps. "
   ]
  },
  {
   "cell_type": "code",
   "execution_count": 47,
   "metadata": {},
   "outputs": [
    {
     "name": "stdout",
     "output_type": "stream",
     "text": [
      " * postgresql://student@/final_project\n",
      "1 rows affected.\n"
     ]
    },
    {
     "data": {
      "text/html": [
       "<table>\n",
       "    <tr>\n",
       "        <th>count</th>\n",
       "    </tr>\n",
       "    <tr>\n",
       "        <td>644942</td>\n",
       "    </tr>\n",
       "</table>"
      ],
      "text/plain": [
       "[(644942,)]"
      ]
     },
     "execution_count": 47,
     "metadata": {},
     "output_type": "execute_result"
    }
   ],
   "source": [
    "%%sql\n",
    "select count(*)\n",
    "from exempt_organization"
   ]
  },
  {
   "cell_type": "markdown",
   "metadata": {},
   "source": [
    "## Ask 3: Data analysis and visualization"
   ]
  },
  {
   "cell_type": "markdown",
   "metadata": {},
   "source": [
    "#### Business Question 1:\n",
    "***Which tax-exempt organizations to which contributions are not deductible have the highest revenue in the 2018 tax period?***"
   ]
  },
  {
   "cell_type": "markdown",
   "metadata": {},
   "source": [
    "First, we need to filter for tax-exempt organizations whose deductibility code is 2. Such organizations are called \"Not-for-profit\" organizations (NFPO). The key difference between nonprofit(NPO) and NFPO is the purpose. According to Investopedia.com, \"while NPO must offer some social benefit and provide goods or services, NFPO need not have such an orientation and may exist simply to serve their membership rather than society at large.\"\n",
    "\n",
    "Therefore, when we investigate the top NFPOs with the highest revenue in 2018, the activities in which those organizations participate in can reveal the  interests of Mid-Atlantic & Great Lakes Americans that do not serve any social benefits or charitable causes.   "
   ]
  },
  {
   "cell_type": "markdown",
   "metadata": {},
   "source": [
    "Find the top 20 NFPOs with the highest revenue in 2018"
   ]
  },
  {
   "cell_type": "code",
   "execution_count": 50,
   "metadata": {},
   "outputs": [
    {
     "name": "stdout",
     "output_type": "stream",
     "text": [
      " * postgresql://student@/final_project\n",
      "20 rows affected.\n"
     ]
    },
    {
     "data": {
      "text/html": [
       "<table>\n",
       "    <tr>\n",
       "        <th>ein</th>\n",
       "        <th>name</th>\n",
       "        <th>city</th>\n",
       "        <th>state</th>\n",
       "        <th>activity1</th>\n",
       "        <th>activity2</th>\n",
       "        <th>activity3</th>\n",
       "        <th>revenue_amt</th>\n",
       "    </tr>\n",
       "    <tr>\n",
       "        <td>232311553</td>\n",
       "        <td>GEISINGER HEALTH PLAN</td>\n",
       "        <td>DANVILLE</td>\n",
       "        <td>PA</td>\n",
       "        <td>164</td>\n",
       "        <td>179</td>\n",
       "        <td>0</td>\n",
       "        <td>2638707572</td>\n",
       "    </tr>\n",
       "    <tr>\n",
       "        <td>986001062</td>\n",
       "        <td>CHANCELLOR MASTERS &amp; SCHOLARS OF THE UNIVERSITY OF OXFORD</td>\n",
       "        <td>CARY</td>\n",
       "        <td>NC</td>\n",
       "        <td>46</td>\n",
       "        <td>30</td>\n",
       "        <td>61</td>\n",
       "        <td>2636047096</td>\n",
       "    </tr>\n",
       "    <tr>\n",
       "        <td>421244913</td>\n",
       "        <td>PRAIRIE MEADOWS RACE TRACK &amp; CASINO INC</td>\n",
       "        <td>ALTOONA</td>\n",
       "        <td>IA</td>\n",
       "        <td>317</td>\n",
       "        <td>0</td>\n",
       "        <td>0</td>\n",
       "        <td>2316685174</td>\n",
       "    </tr>\n",
       "    <tr>\n",
       "        <td>382227794</td>\n",
       "        <td>MICHIGAN CATASTROPHIC CLAIMS ASSOCIATION U S</td>\n",
       "        <td>LIVONIA</td>\n",
       "        <td>MI</td>\n",
       "        <td>212</td>\n",
       "        <td>0</td>\n",
       "        <td>0</td>\n",
       "        <td>2164561933</td>\n",
       "    </tr>\n",
       "    <tr>\n",
       "        <td>311444123</td>\n",
       "        <td>KROGER CO HEALTH AND WELFARE BENEFIT TR FOR COLLECTIVELY-BARGAI</td>\n",
       "        <td>CINCINNATI</td>\n",
       "        <td>OH</td>\n",
       "        <td>265</td>\n",
       "        <td>0</td>\n",
       "        <td>0</td>\n",
       "        <td>1245562317</td>\n",
       "    </tr>\n",
       "    <tr>\n",
       "        <td>560995910</td>\n",
       "        <td>NORTH CAROLINA ELECTRIC MEMBERSHIP CORPORATION</td>\n",
       "        <td>RALEIGH</td>\n",
       "        <td>NC</td>\n",
       "        <td>279</td>\n",
       "        <td>0</td>\n",
       "        <td>0</td>\n",
       "        <td>1210648659</td>\n",
       "    </tr>\n",
       "    <tr>\n",
       "        <td>381641634</td>\n",
       "        <td>MICHIGAN EDUCATION SPECIAL SERVICES ASSOCIATION</td>\n",
       "        <td>EAST LANSING</td>\n",
       "        <td>MI</td>\n",
       "        <td>264</td>\n",
       "        <td>211</td>\n",
       "        <td>265</td>\n",
       "        <td>1175592382</td>\n",
       "    </tr>\n",
       "    <tr>\n",
       "        <td>521588740</td>\n",
       "        <td>PENNSYLVANIA EMPLOYEES BENEFIT</td>\n",
       "        <td>HARRISBURG</td>\n",
       "        <td>PA</td>\n",
       "        <td>264</td>\n",
       "        <td>0</td>\n",
       "        <td>0</td>\n",
       "        <td>1088200231</td>\n",
       "    </tr>\n",
       "    <tr>\n",
       "        <td>237385560</td>\n",
       "        <td>UNITE HERE HEALTH</td>\n",
       "        <td>AURORA</td>\n",
       "        <td>IL</td>\n",
       "        <td>265</td>\n",
       "        <td>0</td>\n",
       "        <td>0</td>\n",
       "        <td>1077542271</td>\n",
       "    </tr>\n",
       "    <tr>\n",
       "        <td>310676582</td>\n",
       "        <td>BUCKEYE POWER INC</td>\n",
       "        <td>COLUMBUS</td>\n",
       "        <td>OH</td>\n",
       "        <td>279</td>\n",
       "        <td>0</td>\n",
       "        <td>0</td>\n",
       "        <td>719539841</td>\n",
       "    </tr>\n",
       "    <tr>\n",
       "        <td>351274565</td>\n",
       "        <td>WABASH VALLEY POWER ASSOCIATION INC</td>\n",
       "        <td>INDIANAPOLIS</td>\n",
       "        <td>IN</td>\n",
       "        <td>279</td>\n",
       "        <td>0</td>\n",
       "        <td>0</td>\n",
       "        <td>661271025</td>\n",
       "    </tr>\n",
       "    <tr>\n",
       "        <td>366066988</td>\n",
       "        <td>LINE CONSTRUCTION BENEFIT FUND</td>\n",
       "        <td>LOMBARD</td>\n",
       "        <td>IL</td>\n",
       "        <td>264</td>\n",
       "        <td>211</td>\n",
       "        <td>0</td>\n",
       "        <td>615464354</td>\n",
       "    </tr>\n",
       "    <tr>\n",
       "        <td>367274697</td>\n",
       "        <td>ACCENTURE UNITED STATES BENEFIT</td>\n",
       "        <td>CHICAGO</td>\n",
       "        <td>IL</td>\n",
       "        <td>0</td>\n",
       "        <td>0</td>\n",
       "        <td>0</td>\n",
       "        <td>588999886</td>\n",
       "    </tr>\n",
       "    <tr>\n",
       "        <td>550585592</td>\n",
       "        <td>THE HEALTH PLAN OF WEST VIRGINIA INC</td>\n",
       "        <td>WHEELING</td>\n",
       "        <td>WV</td>\n",
       "        <td>163</td>\n",
       "        <td>0</td>\n",
       "        <td>0</td>\n",
       "        <td>582586786</td>\n",
       "    </tr>\n",
       "    <tr>\n",
       "        <td>367014468</td>\n",
       "        <td>SAFEWAY INC WLFR BENFT TR FBO EMPL CVRD N CA FD EMPLYRS &amp; RET CL UN</td>\n",
       "        <td>CHICAGO</td>\n",
       "        <td>IL</td>\n",
       "        <td>265</td>\n",
       "        <td>0</td>\n",
       "        <td>0</td>\n",
       "        <td>530982034</td>\n",
       "    </tr>\n",
       "    <tr>\n",
       "        <td>390233059</td>\n",
       "        <td>DAIRYLAND POWER COOPERATIVE</td>\n",
       "        <td>LA CROSSE</td>\n",
       "        <td>WI</td>\n",
       "        <td>279</td>\n",
       "        <td>0</td>\n",
       "        <td>0</td>\n",
       "        <td>482316255</td>\n",
       "    </tr>\n",
       "    <tr>\n",
       "        <td>526033249</td>\n",
       "        <td>BOARD OF EDUCATION OF MONTGOMERY COUNTY EMPLOYEE BENEFIT TRUST FUND</td>\n",
       "        <td>ROCKVILLE</td>\n",
       "        <td>MD</td>\n",
       "        <td>267</td>\n",
       "        <td>0</td>\n",
       "        <td>0</td>\n",
       "        <td>466691314</td>\n",
       "    </tr>\n",
       "    <tr>\n",
       "        <td>521888497</td>\n",
       "        <td>UNITED MINE WORKERS OF AMERICA 1993 BENEFIT PLAN AND TRUST</td>\n",
       "        <td>WASHINGTON</td>\n",
       "        <td>DC</td>\n",
       "        <td>265</td>\n",
       "        <td>0</td>\n",
       "        <td>0</td>\n",
       "        <td>444200515</td>\n",
       "    </tr>\n",
       "    <tr>\n",
       "        <td>450166406</td>\n",
       "        <td>MINNKOTA POWER COOPERATIVE INC</td>\n",
       "        <td>GRAND FORKS</td>\n",
       "        <td>ND</td>\n",
       "        <td>279</td>\n",
       "        <td>0</td>\n",
       "        <td>0</td>\n",
       "        <td>414061515</td>\n",
       "    </tr>\n",
       "    <tr>\n",
       "        <td>530200270</td>\n",
       "        <td>AMERICAN FOREIGN SERVICE PROTECTIVE ASSOCIATION</td>\n",
       "        <td>WASHINGTON</td>\n",
       "        <td>DC</td>\n",
       "        <td>211</td>\n",
       "        <td>0</td>\n",
       "        <td>0</td>\n",
       "        <td>390560219</td>\n",
       "    </tr>\n",
       "</table>"
      ],
      "text/plain": [
       "[('232311553', 'GEISINGER HEALTH PLAN', 'DANVILLE', 'PA', Decimal('164'), Decimal('179'), Decimal('0'), Decimal('2638707572')),\n",
       " ('986001062', 'CHANCELLOR MASTERS & SCHOLARS OF THE UNIVERSITY OF OXFORD', 'CARY', 'NC', Decimal('46'), Decimal('30'), Decimal('61'), Decimal('2636047096')),\n",
       " ('421244913', 'PRAIRIE MEADOWS RACE TRACK & CASINO INC', 'ALTOONA', 'IA', Decimal('317'), Decimal('0'), Decimal('0'), Decimal('2316685174')),\n",
       " ('382227794', 'MICHIGAN CATASTROPHIC CLAIMS ASSOCIATION U S', 'LIVONIA', 'MI', Decimal('212'), Decimal('0'), Decimal('0'), Decimal('2164561933')),\n",
       " ('311444123', 'KROGER CO HEALTH AND WELFARE BENEFIT TR FOR COLLECTIVELY-BARGAI', 'CINCINNATI', 'OH', Decimal('265'), Decimal('0'), Decimal('0'), Decimal('1245562317')),\n",
       " ('560995910', 'NORTH CAROLINA ELECTRIC MEMBERSHIP CORPORATION', 'RALEIGH', 'NC', Decimal('279'), Decimal('0'), Decimal('0'), Decimal('1210648659')),\n",
       " ('381641634', 'MICHIGAN EDUCATION SPECIAL SERVICES ASSOCIATION', 'EAST LANSING', 'MI', Decimal('264'), Decimal('211'), Decimal('265'), Decimal('1175592382')),\n",
       " ('521588740', 'PENNSYLVANIA EMPLOYEES BENEFIT', 'HARRISBURG', 'PA', Decimal('264'), Decimal('0'), Decimal('0'), Decimal('1088200231')),\n",
       " ('237385560', 'UNITE HERE HEALTH', 'AURORA', 'IL', Decimal('265'), Decimal('0'), Decimal('0'), Decimal('1077542271')),\n",
       " ('310676582', 'BUCKEYE POWER INC', 'COLUMBUS', 'OH', Decimal('279'), Decimal('0'), Decimal('0'), Decimal('719539841')),\n",
       " ('351274565', 'WABASH VALLEY POWER ASSOCIATION INC', 'INDIANAPOLIS', 'IN', Decimal('279'), Decimal('0'), Decimal('0'), Decimal('661271025')),\n",
       " ('366066988', 'LINE CONSTRUCTION BENEFIT FUND', 'LOMBARD', 'IL', Decimal('264'), Decimal('211'), Decimal('0'), Decimal('615464354')),\n",
       " ('367274697', 'ACCENTURE UNITED STATES BENEFIT', 'CHICAGO', 'IL', Decimal('0'), Decimal('0'), Decimal('0'), Decimal('588999886')),\n",
       " ('550585592', 'THE HEALTH PLAN OF WEST VIRGINIA INC', 'WHEELING', 'WV', Decimal('163'), Decimal('0'), Decimal('0'), Decimal('582586786')),\n",
       " ('367014468', 'SAFEWAY INC WLFR BENFT TR FBO EMPL CVRD N CA FD EMPLYRS & RET CL UN', 'CHICAGO', 'IL', Decimal('265'), Decimal('0'), Decimal('0'), Decimal('530982034')),\n",
       " ('390233059', 'DAIRYLAND POWER COOPERATIVE', 'LA CROSSE', 'WI', Decimal('279'), Decimal('0'), Decimal('0'), Decimal('482316255')),\n",
       " ('526033249', 'BOARD OF EDUCATION OF MONTGOMERY COUNTY EMPLOYEE BENEFIT TRUST FUND', 'ROCKVILLE', 'MD', Decimal('267'), Decimal('0'), Decimal('0'), Decimal('466691314')),\n",
       " ('521888497', 'UNITED MINE WORKERS OF AMERICA 1993 BENEFIT PLAN AND TRUST', 'WASHINGTON', 'DC', Decimal('265'), Decimal('0'), Decimal('0'), Decimal('444200515')),\n",
       " ('450166406', 'MINNKOTA POWER COOPERATIVE INC', 'GRAND FORKS', 'ND', Decimal('279'), Decimal('0'), Decimal('0'), Decimal('414061515')),\n",
       " ('530200270', 'AMERICAN FOREIGN SERVICE PROTECTIVE ASSOCIATION', 'WASHINGTON', 'DC', Decimal('211'), Decimal('0'), Decimal('0'), Decimal('390560219'))]"
      ]
     },
     "execution_count": 50,
     "metadata": {},
     "output_type": "execute_result"
    }
   ],
   "source": [
    "%%sql\n",
    "select ein, name, city, state,activity1, activity2, activity3,revenue_amt\n",
    "from basic_information as b inner join exempt_organization as e\n",
    "on b.key = e.basic_information_key \n",
    "inner join time as t\n",
    "on t.key = e.time_key\n",
    "inner join address as a \n",
    "on a.key = e.address_key\n",
    "where deductibility = '2' and tax_period like '2018__' and revenue_amt is not NULL\n",
    "order by revenue_amt desc\n",
    "limit 20\n"
   ]
  },
  {
   "cell_type": "markdown",
   "metadata": {},
   "source": [
    "Create a bar chart with x-axis showing the top 20 EINs and y-axis showing Revenue_amt in billion of dollars"
   ]
  },
  {
   "cell_type": "code",
   "execution_count": 51,
   "metadata": {},
   "outputs": [
    {
     "name": "stdout",
     "output_type": "stream",
     "text": [
      " * postgresql://student@/final_project\n",
      "20 rows affected.\n"
     ]
    },
    {
     "data": {
      "text/html": [
       "<table>\n",
       "    <tr>\n",
       "        <th>ein</th>\n",
       "        <th>revenue_amt</th>\n",
       "    </tr>\n",
       "    <tr>\n",
       "        <td>232311553</td>\n",
       "        <td>2638707572</td>\n",
       "    </tr>\n",
       "    <tr>\n",
       "        <td>986001062</td>\n",
       "        <td>2636047096</td>\n",
       "    </tr>\n",
       "    <tr>\n",
       "        <td>421244913</td>\n",
       "        <td>2316685174</td>\n",
       "    </tr>\n",
       "    <tr>\n",
       "        <td>382227794</td>\n",
       "        <td>2164561933</td>\n",
       "    </tr>\n",
       "    <tr>\n",
       "        <td>311444123</td>\n",
       "        <td>1245562317</td>\n",
       "    </tr>\n",
       "    <tr>\n",
       "        <td>560995910</td>\n",
       "        <td>1210648659</td>\n",
       "    </tr>\n",
       "    <tr>\n",
       "        <td>381641634</td>\n",
       "        <td>1175592382</td>\n",
       "    </tr>\n",
       "    <tr>\n",
       "        <td>521588740</td>\n",
       "        <td>1088200231</td>\n",
       "    </tr>\n",
       "    <tr>\n",
       "        <td>237385560</td>\n",
       "        <td>1077542271</td>\n",
       "    </tr>\n",
       "    <tr>\n",
       "        <td>310676582</td>\n",
       "        <td>719539841</td>\n",
       "    </tr>\n",
       "    <tr>\n",
       "        <td>351274565</td>\n",
       "        <td>661271025</td>\n",
       "    </tr>\n",
       "    <tr>\n",
       "        <td>366066988</td>\n",
       "        <td>615464354</td>\n",
       "    </tr>\n",
       "    <tr>\n",
       "        <td>367274697</td>\n",
       "        <td>588999886</td>\n",
       "    </tr>\n",
       "    <tr>\n",
       "        <td>550585592</td>\n",
       "        <td>582586786</td>\n",
       "    </tr>\n",
       "    <tr>\n",
       "        <td>367014468</td>\n",
       "        <td>530982034</td>\n",
       "    </tr>\n",
       "    <tr>\n",
       "        <td>390233059</td>\n",
       "        <td>482316255</td>\n",
       "    </tr>\n",
       "    <tr>\n",
       "        <td>526033249</td>\n",
       "        <td>466691314</td>\n",
       "    </tr>\n",
       "    <tr>\n",
       "        <td>521888497</td>\n",
       "        <td>444200515</td>\n",
       "    </tr>\n",
       "    <tr>\n",
       "        <td>450166406</td>\n",
       "        <td>414061515</td>\n",
       "    </tr>\n",
       "    <tr>\n",
       "        <td>530200270</td>\n",
       "        <td>390560219</td>\n",
       "    </tr>\n",
       "</table>"
      ],
      "text/plain": [
       "[('232311553', Decimal('2638707572')),\n",
       " ('986001062', Decimal('2636047096')),\n",
       " ('421244913', Decimal('2316685174')),\n",
       " ('382227794', Decimal('2164561933')),\n",
       " ('311444123', Decimal('1245562317')),\n",
       " ('560995910', Decimal('1210648659')),\n",
       " ('381641634', Decimal('1175592382')),\n",
       " ('521588740', Decimal('1088200231')),\n",
       " ('237385560', Decimal('1077542271')),\n",
       " ('310676582', Decimal('719539841')),\n",
       " ('351274565', Decimal('661271025')),\n",
       " ('366066988', Decimal('615464354')),\n",
       " ('367274697', Decimal('588999886')),\n",
       " ('550585592', Decimal('582586786')),\n",
       " ('367014468', Decimal('530982034')),\n",
       " ('390233059', Decimal('482316255')),\n",
       " ('526033249', Decimal('466691314')),\n",
       " ('521888497', Decimal('444200515')),\n",
       " ('450166406', Decimal('414061515')),\n",
       " ('530200270', Decimal('390560219'))]"
      ]
     },
     "execution_count": 51,
     "metadata": {},
     "output_type": "execute_result"
    }
   ],
   "source": [
    "%%sql\n",
    "select ein,revenue_amt\n",
    "from basic_information as b inner join exempt_organization as e\n",
    "on b.key = e.basic_information_key \n",
    "inner join time as t\n",
    "on t.key = e.time_key\n",
    "inner join address as a \n",
    "on a.key = e.address_key\n",
    "where deductibility = '2' and tax_period like '2018__' and revenue_amt is not NULL\n",
    "order by revenue_amt desc\n",
    "limit 20\n"
   ]
  },
  {
   "cell_type": "markdown",
   "metadata": {},
   "source": [
    "Call for the library `matplotlib`"
   ]
  },
  {
   "cell_type": "code",
   "execution_count": 52,
   "metadata": {},
   "outputs": [],
   "source": [
    "%matplotlib inline"
   ]
  },
  {
   "cell_type": "code",
   "execution_count": 53,
   "metadata": {},
   "outputs": [
    {
     "data": {
      "text/plain": [
       "<BarContainer object of 20 artists>"
      ]
     },
     "execution_count": 53,
     "metadata": {},
     "output_type": "execute_result"
    },
    {
     "data": {
      "image/png": "[encoded data removed]",
      "text/plain": [
       "<Figure size 432x288 with 1 Axes>"
      ]
     },
     "metadata": {
      "needs_background": "light"
     },
     "output_type": "display_data"
    }
   ],
   "source": [
    "_.bar(width = 0.8,align = 'edge')"
   ]
  },
  {
   "cell_type": "markdown",
   "metadata": {},
   "source": [
    "It's easy to see that the top 4 NFPOs are leading by a significant gap."
   ]
  },
  {
   "cell_type": "markdown",
   "metadata": {},
   "source": [
    "Take a closer look at the activities of these 4 companies.\n",
    "* GEISINGER HEALTH PLAN: Prepared group health plan(164) and Other health services(179). This is a health insurance company.\n",
    "* CHANCELLOR MASTERS & SCHOLARS OF THE UNIVERSITY OF OXFORD (also known as University of Oxford): Private school(046), School, college, trade school, etc. (030), Library(061) \n",
    "* PRAIRIE MEADOWS RACE TRACK & CASINO INC: Other sports or athletic activities \n",
    "* MICHIGAN CATASTROPHIC CLAIMS ASSOCIATION U S: Assigned risk insurance activities (212). It provides reinsurance for Michigan's auto insurance companies. \n",
    "\n",
    "We see that the people in this region place healthcare in the top priority here as the number 1 place belongs to  GEISINGER HEALTH PLAN. We think that the revenue from operating the business plays a much more important role than the revenue from donations in this case as Geisinger does not serve a specific communities or interests. Thus, people may not have the incentive to donate to such organizations. Furthermore, it is easy to find a substitute for a health insurance company. Other than Americans’ growing demand for healthcare services, good business strategies have to play a role in Geisinger’s #1 ranking. \n",
    "\n",
    "We are surprised to see the University of Oxford in the non-deductible list since contributions to educational organizations are usually deductible. However, we realized that Oxford is a school in the UK and thus, it does not serve US public. Its #2 in ranking indicates the generosity of Oxford’s alumni as well as people’s demand to study at Oxford (the majority of revenue amount is from tuition). #3 and #4 imply how much people in this region  enjoy horse races and Gambling (PRAIRIE MEADOWS), and the great scale of Michigan's auto insurance companies and of Michigan’s auto industry in general(MICHIGAN CATASTROPHIC CLAIMS ASSOCIATION U S).\n"
   ]
  },
  {
   "cell_type": "markdown",
   "metadata": {},
   "source": [
    "To look only at the activities or the top earners, we create a activity_non_deduct table."
   ]
  },
  {
   "cell_type": "code",
   "execution_count": 44,
   "metadata": {},
   "outputs": [
    {
     "name": "stdout",
     "output_type": "stream",
     "text": [
      " * postgresql://student@/final_project\n",
      "Done.\n",
      "Done.\n"
     ]
    },
    {
     "data": {
      "text/plain": [
       "[]"
      ]
     },
     "execution_count": 44,
     "metadata": {},
     "output_type": "execute_result"
    }
   ],
   "source": [
    "%%sql\n",
    "drop table if exists activity_non_deduct;\n",
    "create table activity_non_deduct (\n",
    "    activity integer not null\n",
    "    )\n"
   ]
  },
  {
   "cell_type": "markdown",
   "metadata": {},
   "source": [
    "List all activities under Activity1, Activity2, Activity3 of the top 1000 organizations with the highest revenue in 2018 in one column Activity in table activity_non_deduct;\n"
   ]
  },
  {
   "cell_type": "code",
   "execution_count": 45,
   "metadata": {},
   "outputs": [
    {
     "name": "stdout",
     "output_type": "stream",
     "text": [
      " * postgresql://student@/final_project\n",
      "1000 rows affected.\n"
     ]
    },
    {
     "data": {
      "text/plain": [
       "[]"
      ]
     },
     "execution_count": 45,
     "metadata": {},
     "output_type": "execute_result"
    }
   ],
   "source": [
    "%%sql\n",
    "insert into activity_non_deduct (activity)\n",
    "select activity1\n",
    "from basic_information as b inner join exempt_organization as e\n",
    "on b.key = e.basic_information_key \n",
    "inner join time as t\n",
    "on t.key = e.time_key\n",
    "inner join address as a \n",
    "on a.key = e.address_key\n",
    "where deductibility = '2' and tax_period like '2018__' and revenue_amt is not NULL\n",
    "order by revenue_amt desc\n",
    "limit 1000\n"
   ]
  },
  {
   "cell_type": "code",
   "execution_count": 46,
   "metadata": {},
   "outputs": [
    {
     "name": "stdout",
     "output_type": "stream",
     "text": [
      " * postgresql://student@/final_project\n",
      "1000 rows affected.\n"
     ]
    },
    {
     "data": {
      "text/plain": [
       "[]"
      ]
     },
     "execution_count": 46,
     "metadata": {},
     "output_type": "execute_result"
    }
   ],
   "source": [
    "%%sql\n",
    "insert into activity_non_deduct (activity)\n",
    "select activity2\n",
    "from basic_information as b inner join exempt_organization as e\n",
    "on b.key = e.basic_information_key \n",
    "inner join time as t\n",
    "on t.key = e.time_key\n",
    "inner join address as a \n",
    "on a.key = e.address_key\n",
    "where deductibility = '2' and tax_period like '2018__' and revenue_amt is not NULL\n",
    "order by revenue_amt desc\n",
    "limit 1000\n"
   ]
  },
  {
   "cell_type": "code",
   "execution_count": 47,
   "metadata": {},
   "outputs": [
    {
     "name": "stdout",
     "output_type": "stream",
     "text": [
      " * postgresql://student@/final_project\n",
      "1000 rows affected.\n"
     ]
    },
    {
     "data": {
      "text/plain": [
       "[]"
      ]
     },
     "execution_count": 47,
     "metadata": {},
     "output_type": "execute_result"
    }
   ],
   "source": [
    "%%sql\n",
    "insert into activity_non_deduct (activity)\n",
    "select activity3\n",
    "from basic_information as b inner join exempt_organization as e\n",
    "on b.key = e.basic_information_key \n",
    "inner join time as t\n",
    "on t.key = e.time_key\n",
    "inner join address as a \n",
    "on a.key = e.address_key\n",
    "where deductibility = '2' and tax_period like '2018__' and revenue_amt is not NULL\n",
    "order by revenue_amt desc\n",
    "limit 1000\n"
   ]
  },
  {
   "cell_type": "markdown",
   "metadata": {},
   "source": [
    "Delete rows where activity = 0 since it is not a valid activity code.\n"
   ]
  },
  {
   "cell_type": "code",
   "execution_count": 48,
   "metadata": {},
   "outputs": [
    {
     "name": "stdout",
     "output_type": "stream",
     "text": [
      " * postgresql://student@/final_project\n",
      "1608 rows affected.\n"
     ]
    },
    {
     "data": {
      "text/plain": [
       "[]"
      ]
     },
     "execution_count": 48,
     "metadata": {},
     "output_type": "execute_result"
    }
   ],
   "source": [
    "%%sql\n",
    "delete from activity_non_deduct \n",
    "where activity = 0"
   ]
  },
  {
   "cell_type": "markdown",
   "metadata": {},
   "source": [
    "Find the top 10 most popular activities from these organizations"
   ]
  },
  {
   "cell_type": "code",
   "execution_count": 49,
   "metadata": {},
   "outputs": [
    {
     "name": "stdout",
     "output_type": "stream",
     "text": [
      " * postgresql://student@/final_project\n",
      "10 rows affected.\n"
     ]
    },
    {
     "data": {
      "text/html": [
       "<table>\n",
       "    <tr>\n",
       "        <th>activity</th>\n",
       "        <th>count</th>\n",
       "    </tr>\n",
       "    <tr>\n",
       "        <td>279</td>\n",
       "        <td>257</td>\n",
       "    </tr>\n",
       "    <tr>\n",
       "        <td>265</td>\n",
       "        <td>207</td>\n",
       "    </tr>\n",
       "    <tr>\n",
       "        <td>264</td>\n",
       "        <td>148</td>\n",
       "    </tr>\n",
       "    <tr>\n",
       "        <td>263</td>\n",
       "        <td>87</td>\n",
       "    </tr>\n",
       "    <tr>\n",
       "        <td>211</td>\n",
       "        <td>60</td>\n",
       "    </tr>\n",
       "    <tr>\n",
       "        <td>200</td>\n",
       "        <td>55</td>\n",
       "    </tr>\n",
       "    <tr>\n",
       "        <td>59</td>\n",
       "        <td>52</td>\n",
       "    </tr>\n",
       "    <tr>\n",
       "        <td>205</td>\n",
       "        <td>44</td>\n",
       "    </tr>\n",
       "    <tr>\n",
       "        <td>921</td>\n",
       "        <td>40</td>\n",
       "    </tr>\n",
       "    <tr>\n",
       "        <td>250</td>\n",
       "        <td>32</td>\n",
       "    </tr>\n",
       "</table>"
      ],
      "text/plain": [
       "[(279, 257),\n",
       " (265, 207),\n",
       " (264, 148),\n",
       " (263, 87),\n",
       " (211, 60),\n",
       " (200, 55),\n",
       " (59, 52),\n",
       " (205, 44),\n",
       " (921, 40),\n",
       " (250, 32)]"
      ]
     },
     "execution_count": 49,
     "metadata": {},
     "output_type": "execute_result"
    }
   ],
   "source": [
    "%%sql\n",
    "select activity, count(*)\n",
    "from activity_non_deduct\n",
    "group by activity\n",
    "order by count(*) desc\n",
    "limit 10\n"
   ]
  },
  {
   "cell_type": "markdown",
   "metadata": {},
   "source": [
    "A bar chart to represent our findings"
   ]
  },
  {
   "cell_type": "code",
   "execution_count": 50,
   "metadata": {},
   "outputs": [
    {
     "data": {
      "text/plain": [
       "<BarContainer object of 10 artists>"
      ]
     },
     "execution_count": 50,
     "metadata": {},
     "output_type": "execute_result"
    },
    {
     "data": {
      "image/png": "[encoded data removed]",
      "text/plain": [
       "<Figure size 432x288 with 1 Axes>"
      ]
     },
     "metadata": {
      "needs_background": "light"
     },
     "output_type": "display_data"
    }
   ],
   "source": [
    "_.bar(width = 0.8,align = 'edge')"
   ]
  },
  {
   "cell_type": "markdown",
   "metadata": {},
   "source": [
    "The most popular activities for these organizations are:\n",
    "* 279: Other services or benefits to members or employees (under Employee of Membership Benefit Organizations)\n",
    "* 265: Sick, accident, death, or similar benefits  (under Employee of Membership Benefit Organizations)\n",
    "* 264: Employee or member welfare association (under Employee of Membership Benefit Organizations)\n",
    "* 263: Association of municipal employees (under Employee of Membership Benefit Organizations)\n",
    "* 211: Underwriting municipal insurance (under Business and Professional Organizations)\n",
    "* 200: Business promotion (chamber of commerce, business league, etc.)\n",
    "* 059: Other school related activities (Schools, Colleges and Related Activities)\n",
    "* 205: Professional association \n",
    "* 921: Loans or credit reporting(Other Purposes and Activities)\n",
    "* 250: Mutual ditch, irrigation, telephone, electric company or like organization (under Mutual Organizations)\n",
    "\n",
    "\n",
    "We see that the top 4 activities are all under ` Employee of Membership Benefit Organization` section. This is no surprise since employment benefits is one of the biggest non-charitable concerns for Americans overall. American workers will contribute to these organizations to secure their benefits. Another finding is that  people in this region cares a lot about developing businesses and their career as many of these organizations are Business promotions and professional association. \n"
   ]
  },
  {
   "cell_type": "markdown",
   "metadata": {},
   "source": [
    "#### Business Question 2:"
   ]
  },
  {
   "cell_type": "markdown",
   "metadata": {},
   "source": [
    "\n",
    "***Which activity has the highest and lowest number of organizations? Out of the most popular activities, what’s the average income for the exempt organizations in each state?***\n"
   ]
  },
  {
   "cell_type": "markdown",
   "metadata": {},
   "source": [
    "As the activity codes mentions at most activities which the organization is working on, we’d like to see which activity is most or least popular for most organizations. In this case, we can have an overview of the common activity fields of the U.S tax-exempt organizations \n"
   ]
  },
  {
   "cell_type": "markdown",
   "metadata": {},
   "source": [
    " Firstly, we create a table called Activity_count1 to display the count of different kinds of activities which shown as activity1 in the Basic_information table."
   ]
  },
  {
   "cell_type": "code",
   "execution_count": 51,
   "metadata": {},
   "outputs": [
    {
     "name": "stdout",
     "output_type": "stream",
     "text": [
      " * postgresql://student@/final_project\n",
      "Done.\n",
      "308 rows affected.\n"
     ]
    },
    {
     "data": {
      "text/plain": [
       "[]"
      ]
     },
     "execution_count": 51,
     "metadata": {},
     "output_type": "execute_result"
    }
   ],
   "source": [
    "%%sql\n",
    "DROP TABLE IF EXISTS Activity_count1;\n",
    "CREATE TABLE Activity_count1 AS\n",
    "SELECT activity1, COUNT(activity1)\n",
    "FROM Basic_information\n",
    "GROUP BY activity1\n",
    "ORDER BY COUNT(activity1) desc;"
   ]
  },
  {
   "cell_type": "markdown",
   "metadata": {},
   "source": [
    "Check the first 10 records of table Activity_count1\n"
   ]
  },
  {
   "cell_type": "code",
   "execution_count": 52,
   "metadata": {},
   "outputs": [
    {
     "name": "stdout",
     "output_type": "stream",
     "text": [
      " * postgresql://student@/final_project\n",
      "10 rows affected.\n"
     ]
    },
    {
     "data": {
      "text/html": [
       "<table>\n",
       "    <tr>\n",
       "        <th>activity1</th>\n",
       "        <th>count</th>\n",
       "    </tr>\n",
       "    <tr>\n",
       "        <td>0</td>\n",
       "        <td>324954</td>\n",
       "    </tr>\n",
       "    <tr>\n",
       "        <td>1</td>\n",
       "        <td>43148</td>\n",
       "    </tr>\n",
       "    <tr>\n",
       "        <td>59</td>\n",
       "        <td>30916</td>\n",
       "    </tr>\n",
       "    <tr>\n",
       "        <td>36</td>\n",
       "        <td>17753</td>\n",
       "    </tr>\n",
       "    <tr>\n",
       "        <td>602</td>\n",
       "        <td>13571</td>\n",
       "    </tr>\n",
       "    <tr>\n",
       "        <td>263</td>\n",
       "        <td>12774</td>\n",
       "    </tr>\n",
       "    <tr>\n",
       "        <td>907</td>\n",
       "        <td>9272</td>\n",
       "    </tr>\n",
       "    <tr>\n",
       "        <td>994</td>\n",
       "        <td>8599</td>\n",
       "    </tr>\n",
       "    <tr>\n",
       "        <td>29</td>\n",
       "        <td>6803</td>\n",
       "    </tr>\n",
       "    <tr>\n",
       "        <td>319</td>\n",
       "        <td>6404</td>\n",
       "    </tr>\n",
       "</table>"
      ],
      "text/plain": [
       "[(Decimal('0'), 324954),\n",
       " (Decimal('1'), 43148),\n",
       " (Decimal('59'), 30916),\n",
       " (Decimal('36'), 17753),\n",
       " (Decimal('602'), 13571),\n",
       " (Decimal('263'), 12774),\n",
       " (Decimal('907'), 9272),\n",
       " (Decimal('994'), 8599),\n",
       " (Decimal('29'), 6803),\n",
       " (Decimal('319'), 6404)]"
      ]
     },
     "execution_count": 52,
     "metadata": {},
     "output_type": "execute_result"
    }
   ],
   "source": [
    "%%sql\n",
    "SELECT * from Activity_count1\n",
    "limit 10;\n"
   ]
  },
  {
   "cell_type": "markdown",
   "metadata": {},
   "source": [
    "Then we create a table called Activity_count2 to display the count of different kinds of activities which shown as activity2 in the Basic_information table."
   ]
  },
  {
   "cell_type": "code",
   "execution_count": 53,
   "metadata": {},
   "outputs": [
    {
     "name": "stdout",
     "output_type": "stream",
     "text": [
      " * postgresql://student@/final_project\n",
      "Done.\n",
      "272 rows affected.\n"
     ]
    },
    {
     "data": {
      "text/plain": [
       "[]"
      ]
     },
     "execution_count": 53,
     "metadata": {},
     "output_type": "execute_result"
    }
   ],
   "source": [
    "%%sql\n",
    "DROP TABLE IF EXISTS Activity_count2;\n",
    "CREATE TABLE Activity_count2 AS\n",
    "SELECT activity2, COUNT(activity2)\n",
    "FROM Basic_information\n",
    "GROUP BY activity2\n",
    "ORDER BY COUNT(activity2) desc;"
   ]
  },
  {
   "cell_type": "markdown",
   "metadata": {},
   "source": [
    "Check the first 10 records of table Activity_count2\n"
   ]
  },
  {
   "cell_type": "code",
   "execution_count": 54,
   "metadata": {},
   "outputs": [
    {
     "name": "stdout",
     "output_type": "stream",
     "text": [
      " * postgresql://student@/final_project\n",
      "10 rows affected.\n"
     ]
    },
    {
     "data": {
      "text/html": [
       "<table>\n",
       "    <tr>\n",
       "        <th>activity2</th>\n",
       "        <th>count</th>\n",
       "    </tr>\n",
       "    <tr>\n",
       "        <td>0</td>\n",
       "        <td>484195</td>\n",
       "    </tr>\n",
       "    <tr>\n",
       "        <td>29</td>\n",
       "        <td>11313</td>\n",
       "    </tr>\n",
       "    <tr>\n",
       "        <td>319</td>\n",
       "        <td>8856</td>\n",
       "    </tr>\n",
       "    <tr>\n",
       "        <td>59</td>\n",
       "        <td>8830</td>\n",
       "    </tr>\n",
       "    <tr>\n",
       "        <td>908</td>\n",
       "        <td>7823</td>\n",
       "    </tr>\n",
       "    <tr>\n",
       "        <td>349</td>\n",
       "        <td>7054</td>\n",
       "    </tr>\n",
       "    <tr>\n",
       "        <td>921</td>\n",
       "        <td>6420</td>\n",
       "    </tr>\n",
       "    <tr>\n",
       "        <td>279</td>\n",
       "        <td>6242</td>\n",
       "    </tr>\n",
       "    <tr>\n",
       "        <td>264</td>\n",
       "        <td>5654</td>\n",
       "    </tr>\n",
       "    <tr>\n",
       "        <td>2</td>\n",
       "        <td>5303</td>\n",
       "    </tr>\n",
       "</table>"
      ],
      "text/plain": [
       "[(Decimal('0'), 484195),\n",
       " (Decimal('29'), 11313),\n",
       " (Decimal('319'), 8856),\n",
       " (Decimal('59'), 8830),\n",
       " (Decimal('908'), 7823),\n",
       " (Decimal('349'), 7054),\n",
       " (Decimal('921'), 6420),\n",
       " (Decimal('279'), 6242),\n",
       " (Decimal('264'), 5654),\n",
       " (Decimal('2'), 5303)]"
      ]
     },
     "execution_count": 54,
     "metadata": {},
     "output_type": "execute_result"
    }
   ],
   "source": [
    "%%sql\n",
    "SELECT * from Activity_count2\n",
    "limit 10;"
   ]
  },
  {
   "cell_type": "markdown",
   "metadata": {},
   "source": [
    " Then we create a table called Activity_count3 to display the count of different kinds of activities which shown as activity3 in the Basic_information table.\n"
   ]
  },
  {
   "cell_type": "code",
   "execution_count": 55,
   "metadata": {},
   "outputs": [
    {
     "name": "stdout",
     "output_type": "stream",
     "text": [
      " * postgresql://student@/final_project\n",
      "Done.\n",
      "242 rows affected.\n"
     ]
    },
    {
     "data": {
      "text/plain": [
       "[]"
      ]
     },
     "execution_count": 55,
     "metadata": {},
     "output_type": "execute_result"
    }
   ],
   "source": [
    "%%sql\n",
    "DROP TABLE IF EXISTS Activity_count3;\n",
    "CREATE TABLE Activity_count3 AS\n",
    "SELECT activity3, COUNT(activity3)\n",
    "FROM Basic_information\n",
    "GROUP BY activity3\n",
    "ORDER BY COUNT(activity3) desc;\n"
   ]
  },
  {
   "cell_type": "markdown",
   "metadata": {},
   "source": [
    "Check the first 10 records of table Activity_count3"
   ]
  },
  {
   "cell_type": "code",
   "execution_count": 56,
   "metadata": {},
   "outputs": [
    {
     "name": "stdout",
     "output_type": "stream",
     "text": [
      " * postgresql://student@/final_project\n",
      "10 rows affected.\n"
     ]
    },
    {
     "data": {
      "text/html": [
       "<table>\n",
       "    <tr>\n",
       "        <th>activity3</th>\n",
       "        <th>count</th>\n",
       "    </tr>\n",
       "    <tr>\n",
       "        <td>0</td>\n",
       "        <td>572255</td>\n",
       "    </tr>\n",
       "    <tr>\n",
       "        <td>319</td>\n",
       "        <td>7035</td>\n",
       "    </tr>\n",
       "    <tr>\n",
       "        <td>279</td>\n",
       "        <td>7030</td>\n",
       "    </tr>\n",
       "    <tr>\n",
       "        <td>265</td>\n",
       "        <td>6187</td>\n",
       "    </tr>\n",
       "    <tr>\n",
       "        <td>29</td>\n",
       "        <td>4562</td>\n",
       "    </tr>\n",
       "    <tr>\n",
       "        <td>120</td>\n",
       "        <td>4084</td>\n",
       "    </tr>\n",
       "    <tr>\n",
       "        <td>602</td>\n",
       "        <td>4000</td>\n",
       "    </tr>\n",
       "    <tr>\n",
       "        <td>59</td>\n",
       "        <td>3333</td>\n",
       "    </tr>\n",
       "    <tr>\n",
       "        <td>349</td>\n",
       "        <td>2950</td>\n",
       "    </tr>\n",
       "    <tr>\n",
       "        <td>40</td>\n",
       "        <td>2274</td>\n",
       "    </tr>\n",
       "</table>"
      ],
      "text/plain": [
       "[(Decimal('0'), 572255),\n",
       " (Decimal('319'), 7035),\n",
       " (Decimal('279'), 7030),\n",
       " (Decimal('265'), 6187),\n",
       " (Decimal('29'), 4562),\n",
       " (Decimal('120'), 4084),\n",
       " (Decimal('602'), 4000),\n",
       " (Decimal('59'), 3333),\n",
       " (Decimal('349'), 2950),\n",
       " (Decimal('40'), 2274)]"
      ]
     },
     "execution_count": 56,
     "metadata": {},
     "output_type": "execute_result"
    }
   ],
   "source": [
    "%%sql\n",
    "SELECT * from Activity_count3\n",
    "limit 10;"
   ]
  },
  {
   "cell_type": "markdown",
   "metadata": {},
   "source": [
    "Create a table called Activity_total by joining table Activity_count1, Activity_count2, and Activity_count3 to make the same kind of activity in the three tables show in the same record"
   ]
  },
  {
   "cell_type": "code",
   "execution_count": 57,
   "metadata": {},
   "outputs": [
    {
     "name": "stdout",
     "output_type": "stream",
     "text": [
      " * postgresql://student@/final_project\n",
      "Done.\n",
      "237 rows affected.\n"
     ]
    },
    {
     "data": {
      "text/plain": [
       "[]"
      ]
     },
     "execution_count": 57,
     "metadata": {},
     "output_type": "execute_result"
    }
   ],
   "source": [
    "%%sql\n",
    "DROP TABLE IF EXISTS Activity_total;\n",
    "CREATE TABLE Activity_total AS\n",
    "SELECT Activity_count1.activity1, Activity_count2.activity2, Activity_count3.activity3, Activity_count1.count count1, Activity_count2.count count2, Activity_count3.count count3\n",
    "FROM Activity_count1\n",
    "JOIN Activity_count2\n",
    "  ON Activity_count1.activity1 = Activity_count2.activity2\n",
    "JOIN Activity_count3\n",
    "  ON Activity_count1.activity1 = Activity_count3.activity3;\n"
   ]
  },
  {
   "cell_type": "markdown",
   "metadata": {},
   "source": [
    " Check the first 10 records of table Activity_total\n"
   ]
  },
  {
   "cell_type": "code",
   "execution_count": 58,
   "metadata": {},
   "outputs": [
    {
     "name": "stdout",
     "output_type": "stream",
     "text": [
      " * postgresql://student@/final_project\n",
      "10 rows affected.\n"
     ]
    },
    {
     "data": {
      "text/html": [
       "<table>\n",
       "    <tr>\n",
       "        <th>activity1</th>\n",
       "        <th>activity2</th>\n",
       "        <th>activity3</th>\n",
       "        <th>count1</th>\n",
       "        <th>count2</th>\n",
       "        <th>count3</th>\n",
       "    </tr>\n",
       "    <tr>\n",
       "        <td>0</td>\n",
       "        <td>0</td>\n",
       "        <td>0</td>\n",
       "        <td>324954</td>\n",
       "        <td>484195</td>\n",
       "        <td>572255</td>\n",
       "    </tr>\n",
       "    <tr>\n",
       "        <td>1</td>\n",
       "        <td>1</td>\n",
       "        <td>1</td>\n",
       "        <td>43148</td>\n",
       "        <td>380</td>\n",
       "        <td>770</td>\n",
       "    </tr>\n",
       "    <tr>\n",
       "        <td>2</td>\n",
       "        <td>2</td>\n",
       "        <td>2</td>\n",
       "        <td>1286</td>\n",
       "        <td>5303</td>\n",
       "        <td>10</td>\n",
       "    </tr>\n",
       "    <tr>\n",
       "        <td>3</td>\n",
       "        <td>3</td>\n",
       "        <td>3</td>\n",
       "        <td>140</td>\n",
       "        <td>103</td>\n",
       "        <td>18</td>\n",
       "    </tr>\n",
       "    <tr>\n",
       "        <td>4</td>\n",
       "        <td>4</td>\n",
       "        <td>4</td>\n",
       "        <td>337</td>\n",
       "        <td>88</td>\n",
       "        <td>17</td>\n",
       "    </tr>\n",
       "    <tr>\n",
       "        <td>5</td>\n",
       "        <td>5</td>\n",
       "        <td>5</td>\n",
       "        <td>306</td>\n",
       "        <td>165</td>\n",
       "        <td>25</td>\n",
       "    </tr>\n",
       "    <tr>\n",
       "        <td>6</td>\n",
       "        <td>6</td>\n",
       "        <td>6</td>\n",
       "        <td>544</td>\n",
       "        <td>832</td>\n",
       "        <td>100</td>\n",
       "    </tr>\n",
       "    <tr>\n",
       "        <td>7</td>\n",
       "        <td>7</td>\n",
       "        <td>7</td>\n",
       "        <td>1150</td>\n",
       "        <td>1311</td>\n",
       "        <td>643</td>\n",
       "    </tr>\n",
       "    <tr>\n",
       "        <td>8</td>\n",
       "        <td>8</td>\n",
       "        <td>8</td>\n",
       "        <td>157</td>\n",
       "        <td>204</td>\n",
       "        <td>48</td>\n",
       "    </tr>\n",
       "    <tr>\n",
       "        <td>29</td>\n",
       "        <td>29</td>\n",
       "        <td>29</td>\n",
       "        <td>6803</td>\n",
       "        <td>11313</td>\n",
       "        <td>4562</td>\n",
       "    </tr>\n",
       "</table>"
      ],
      "text/plain": [
       "[(Decimal('0'), Decimal('0'), Decimal('0'), 324954, 484195, 572255),\n",
       " (Decimal('1'), Decimal('1'), Decimal('1'), 43148, 380, 770),\n",
       " (Decimal('2'), Decimal('2'), Decimal('2'), 1286, 5303, 10),\n",
       " (Decimal('3'), Decimal('3'), Decimal('3'), 140, 103, 18),\n",
       " (Decimal('4'), Decimal('4'), Decimal('4'), 337, 88, 17),\n",
       " (Decimal('5'), Decimal('5'), Decimal('5'), 306, 165, 25),\n",
       " (Decimal('6'), Decimal('6'), Decimal('6'), 544, 832, 100),\n",
       " (Decimal('7'), Decimal('7'), Decimal('7'), 1150, 1311, 643),\n",
       " (Decimal('8'), Decimal('8'), Decimal('8'), 157, 204, 48),\n",
       " (Decimal('29'), Decimal('29'), Decimal('29'), 6803, 11313, 4562)]"
      ]
     },
     "execution_count": 58,
     "metadata": {},
     "output_type": "execute_result"
    }
   ],
   "source": [
    "%%sql\n",
    "SELECT * from Activity_total\n",
    "limit 10;"
   ]
  },
  {
   "cell_type": "markdown",
   "metadata": {},
   "source": [
    "Get the sum of counts for Activity1, Activity2, and Activity3 of the same Activity code with the descending order.\n"
   ]
  },
  {
   "cell_type": "code",
   "execution_count": 59,
   "metadata": {},
   "outputs": [
    {
     "name": "stdout",
     "output_type": "stream",
     "text": [
      " * postgresql://student@/final_project\n",
      "10 rows affected.\n"
     ]
    },
    {
     "data": {
      "text/html": [
       "<table>\n",
       "    <tr>\n",
       "        <th>activity</th>\n",
       "        <th>count_sum</th>\n",
       "    </tr>\n",
       "    <tr>\n",
       "        <td>0</td>\n",
       "        <td>1381404</td>\n",
       "    </tr>\n",
       "    <tr>\n",
       "        <td>1</td>\n",
       "        <td>44298</td>\n",
       "    </tr>\n",
       "    <tr>\n",
       "        <td>59</td>\n",
       "        <td>43079</td>\n",
       "    </tr>\n",
       "    <tr>\n",
       "        <td>29</td>\n",
       "        <td>22678</td>\n",
       "    </tr>\n",
       "    <tr>\n",
       "        <td>602</td>\n",
       "        <td>22383</td>\n",
       "    </tr>\n",
       "    <tr>\n",
       "        <td>319</td>\n",
       "        <td>22295</td>\n",
       "    </tr>\n",
       "    <tr>\n",
       "        <td>36</td>\n",
       "        <td>21745</td>\n",
       "    </tr>\n",
       "    <tr>\n",
       "        <td>279</td>\n",
       "        <td>19293</td>\n",
       "    </tr>\n",
       "    <tr>\n",
       "        <td>263</td>\n",
       "        <td>13404</td>\n",
       "    </tr>\n",
       "    <tr>\n",
       "        <td>907</td>\n",
       "        <td>11367</td>\n",
       "    </tr>\n",
       "</table>"
      ],
      "text/plain": [
       "[(Decimal('0'), Decimal('1381404')),\n",
       " (Decimal('1'), Decimal('44298')),\n",
       " (Decimal('59'), Decimal('43079')),\n",
       " (Decimal('29'), Decimal('22678')),\n",
       " (Decimal('602'), Decimal('22383')),\n",
       " (Decimal('319'), Decimal('22295')),\n",
       " (Decimal('36'), Decimal('21745')),\n",
       " (Decimal('279'), Decimal('19293')),\n",
       " (Decimal('263'), Decimal('13404')),\n",
       " (Decimal('907'), Decimal('11367'))]"
      ]
     },
     "execution_count": 59,
     "metadata": {},
     "output_type": "execute_result"
    }
   ],
   "source": [
    "%%sql\n",
    "SELECT Activity_total.activity1 Activity, sum(Activity_total.count1 + Activity_total.count2 + Activity_total.count3) count_sum\n",
    "from Activity_total\n",
    "GROUP BY activity1 \n",
    "ORDER BY count_sum desc\n",
    "limit 10;\n"
   ]
  },
  {
   "cell_type": "markdown",
   "metadata": {},
   "source": [
    "In this way we get the most popular activities in the Mid-Atlantic and Great Lakes Area. We can find that Activity 001,059,029,602, and 319 are top 5 activities, which are Church, synagogue, etc/ Other school related activities / Other religious activities / Gifts, grants, or loans to other organizations / Other social activities. And in overview, they belong to: \n",
    " 01. Religious Activities ;02. Schools, Colleges and Related Activities; 03.Religious Activities; 04. Activities Purposes and Activities; 05. Sports, Athletic Recreational and Social Activities. And the count for Activity 001(Church, synagogue, etc) is 44298, and for Activity 059 (Other school related activities) is 43079, which are much larger than the other activities.\n",
    "\n",
    "\n",
    "****From the result, we can summarize that the most popular activities of the exempt organizations in the Mid-Atlantic and Great Lakes Area are mainly about religion and education. And that means that Mid-Atlantic and Great Lakes Area do value religion and education.****\n"
   ]
  },
  {
   "cell_type": "markdown",
   "metadata": {},
   "source": [
    "Then we get the sum of counts for Activity1, Activity2, and Activity3 of the same Activity code with the ascending order."
   ]
  },
  {
   "cell_type": "code",
   "execution_count": 60,
   "metadata": {},
   "outputs": [
    {
     "name": "stdout",
     "output_type": "stream",
     "text": [
      " * postgresql://student@/final_project\n",
      "10 rows affected.\n"
     ]
    },
    {
     "data": {
      "text/html": [
       "<table>\n",
       "    <tr>\n",
       "        <th>activity</th>\n",
       "        <th>count_sum</th>\n",
       "    </tr>\n",
       "    <tr>\n",
       "        <td>513</td>\n",
       "        <td>5</td>\n",
       "    </tr>\n",
       "    <tr>\n",
       "        <td>535</td>\n",
       "        <td>7</td>\n",
       "    </tr>\n",
       "    <tr>\n",
       "        <td>323</td>\n",
       "        <td>11</td>\n",
       "    </tr>\n",
       "    <tr>\n",
       "        <td>926</td>\n",
       "        <td>13</td>\n",
       "    </tr>\n",
       "    <tr>\n",
       "        <td>533</td>\n",
       "        <td>14</td>\n",
       "    </tr>\n",
       "    <tr>\n",
       "        <td>518</td>\n",
       "        <td>15</td>\n",
       "    </tr>\n",
       "    <tr>\n",
       "        <td>532</td>\n",
       "        <td>15</td>\n",
       "    </tr>\n",
       "    <tr>\n",
       "        <td>525</td>\n",
       "        <td>16</td>\n",
       "    </tr>\n",
       "    <tr>\n",
       "        <td>510</td>\n",
       "        <td>16</td>\n",
       "    </tr>\n",
       "    <tr>\n",
       "        <td>156</td>\n",
       "        <td>17</td>\n",
       "    </tr>\n",
       "</table>"
      ],
      "text/plain": [
       "[(Decimal('513'), Decimal('5')),\n",
       " (Decimal('535'), Decimal('7')),\n",
       " (Decimal('323'), Decimal('11')),\n",
       " (Decimal('926'), Decimal('13')),\n",
       " (Decimal('533'), Decimal('14')),\n",
       " (Decimal('518'), Decimal('15')),\n",
       " (Decimal('532'), Decimal('15')),\n",
       " (Decimal('525'), Decimal('16')),\n",
       " (Decimal('510'), Decimal('16')),\n",
       " (Decimal('156'), Decimal('17'))]"
      ]
     },
     "execution_count": 60,
     "metadata": {},
     "output_type": "execute_result"
    }
   ],
   "source": [
    "%%sql\n",
    "SELECT Activity_total.activity1 Activity, sum(Activity_total.count1 + Activity_total.count2 + Activity_total.count3) count_sum\n",
    "from Activity_total\n",
    "GROUP BY activity1 \n",
    "ORDER BY count_sum\n",
    "limit 10;"
   ]
  },
  {
   "cell_type": "markdown",
   "metadata": {},
   "source": [
    "In this way, we can find the most unpopular activities of the exempt organizations in the Mid-Atlantic and Great Lakes Area. We can find that Activity 513, 535, 323, 926, and 533 are top 5 activities, which are Weapons systems / Racial integration  / Key club  / Government instrumentality other than section 501(c)  / Urban renewal. And in overview, they belong to: \n",
    "01. Advocacy (Attempt to influence public opinion concerning);02. Advocacy (Attempt to influence public opinion concerning); 03.Youth Activities; 04. Other Purposes and Activities; 05. Advocacy (Attempt to influence public opinion concerning). So we can conclude that the most unpopular activities of the exempt organizations in the Mid-Atlantic and Great Lakes Area are mainly about Advocacy (Attempt to influence public opinion concerning). Many of the advocacies are very limited to a certain field, so maybe that’s the reason why they are not so popular."
   ]
  },
  {
   "cell_type": "markdown",
   "metadata": {},
   "source": [
    "\n",
    "****From the analysis above, we found Activity 001(Church, synagogue, etc) and Activity 059 (Other school related activities) are the most popular activities. So we’d like to explore more deeply for the two kinds of activities by calculating and comparing the average income amount of each state.****\n"
   ]
  },
  {
   "cell_type": "markdown",
   "metadata": {},
   "source": [
    "Call for the library `matplotlib` to create a bar chart, the aim is to have an intuitive overview of the compariation of average net profits of each state."
   ]
  },
  {
   "cell_type": "code",
   "execution_count": 61,
   "metadata": {},
   "outputs": [],
   "source": [
    "%matplotlib inline"
   ]
  },
  {
   "cell_type": "markdown",
   "metadata": {},
   "source": [
    "find the bar chart of the average income_amount of each state where organizations are working on activities that related to Church, synagogue."
   ]
  },
  {
   "cell_type": "code",
   "execution_count": 62,
   "metadata": {},
   "outputs": [
    {
     "name": "stdout",
     "output_type": "stream",
     "text": [
      " * postgresql://student@/final_project\n",
      "19 rows affected.\n"
     ]
    },
    {
     "data": {
      "text/html": [
       "<table>\n",
       "    <tr>\n",
       "        <th>avg</th>\n",
       "        <th>state</th>\n",
       "    </tr>\n",
       "    <tr>\n",
       "        <td>19636875.584821428571</td>\n",
       "        <td>PA</td>\n",
       "    </tr>\n",
       "    <tr>\n",
       "        <td>31492977.762820512821</td>\n",
       "        <td>WI</td>\n",
       "    </tr>\n",
       "    <tr>\n",
       "        <td>229292505.49586777</td>\n",
       "        <td>MN</td>\n",
       "    </tr>\n",
       "    <tr>\n",
       "        <td>5882252.851851851852</td>\n",
       "        <td>DC</td>\n",
       "    </tr>\n",
       "    <tr>\n",
       "        <td>38347223.835820895522</td>\n",
       "        <td>OH</td>\n",
       "    </tr>\n",
       "    <tr>\n",
       "        <td>11886303.250000000000</td>\n",
       "        <td>NE</td>\n",
       "    </tr>\n",
       "    <tr>\n",
       "        <td>2353352.198347107438</td>\n",
       "        <td>NC</td>\n",
       "    </tr>\n",
       "    <tr>\n",
       "        <td>22079573.096774193548</td>\n",
       "        <td>ND</td>\n",
       "    </tr>\n",
       "    <tr>\n",
       "        <td>9424254.823529411765</td>\n",
       "        <td>DE</td>\n",
       "    </tr>\n",
       "    <tr>\n",
       "        <td>131818.923076923077</td>\n",
       "        <td>WV</td>\n",
       "    </tr>\n",
       "    <tr>\n",
       "        <td>2219672.633333333333</td>\n",
       "        <td>KY</td>\n",
       "    </tr>\n",
       "    <tr>\n",
       "        <td>26587140.731707317073</td>\n",
       "        <td>IL</td>\n",
       "    </tr>\n",
       "    <tr>\n",
       "        <td>24314872.464285714286</td>\n",
       "        <td>SD</td>\n",
       "    </tr>\n",
       "    <tr>\n",
       "        <td>4776636.013157894737</td>\n",
       "        <td>VA</td>\n",
       "    </tr>\n",
       "    <tr>\n",
       "        <td>44695152.966666666667</td>\n",
       "        <td>IN</td>\n",
       "    </tr>\n",
       "    <tr>\n",
       "        <td>37848590.150000000000</td>\n",
       "        <td>IA</td>\n",
       "    </tr>\n",
       "    <tr>\n",
       "        <td>740475.987500000000</td>\n",
       "        <td>SC</td>\n",
       "    </tr>\n",
       "    <tr>\n",
       "        <td>6270695.341269841270</td>\n",
       "        <td>MI</td>\n",
       "    </tr>\n",
       "    <tr>\n",
       "        <td>14738900.934959349593</td>\n",
       "        <td>MD</td>\n",
       "    </tr>\n",
       "</table>"
      ],
      "text/plain": [
       "[(Decimal('19636875.584821428571'), 'PA'),\n",
       " (Decimal('31492977.762820512821'), 'WI'),\n",
       " (Decimal('229292505.49586777'), 'MN'),\n",
       " (Decimal('5882252.851851851852'), 'DC'),\n",
       " (Decimal('38347223.835820895522'), 'OH'),\n",
       " (Decimal('11886303.250000000000'), 'NE'),\n",
       " (Decimal('2353352.198347107438'), 'NC'),\n",
       " (Decimal('22079573.096774193548'), 'ND'),\n",
       " (Decimal('9424254.823529411765'), 'DE'),\n",
       " (Decimal('131818.923076923077'), 'WV'),\n",
       " (Decimal('2219672.633333333333'), 'KY'),\n",
       " (Decimal('26587140.731707317073'), 'IL'),\n",
       " (Decimal('24314872.464285714286'), 'SD'),\n",
       " (Decimal('4776636.013157894737'), 'VA'),\n",
       " (Decimal('44695152.966666666667'), 'IN'),\n",
       " (Decimal('37848590.150000000000'), 'IA'),\n",
       " (Decimal('740475.987500000000'), 'SC'),\n",
       " (Decimal('6270695.341269841270'), 'MI'),\n",
       " (Decimal('14738900.934959349593'), 'MD')]"
      ]
     },
     "execution_count": 62,
     "metadata": {},
     "output_type": "execute_result"
    }
   ],
   "source": [
    "%%sql\n",
    "SELECT avg(eo.income_amt), a.state\n",
    "from Exempt_Organization as eo\n",
    "JOIN Address as a\n",
    "ON a.key = eo.address_key\n",
    "JOIN Basic_information as b\n",
    "ON b.key = eo.basic_information_key\n",
    "where b.activity1 = 1 or b.activity2 = 1 or b.activity3 = 1 \n",
    "group by a.state;\n"
   ]
  },
  {
   "cell_type": "code",
   "execution_count": 63,
   "metadata": {},
   "outputs": [
    {
     "data": {
      "text/plain": [
       "<BarContainer object of 19 artists>"
      ]
     },
     "execution_count": 63,
     "metadata": {},
     "output_type": "execute_result"
    },
    {
     "data": {
      "image/png": "[encoded data removed]",
      "text/plain": [
       "<Figure size 432x288 with 1 Axes>"
      ]
     },
     "metadata": {
      "needs_background": "light"
     },
     "output_type": "display_data"
    }
   ],
   "source": [
    "_.bar()"
   ]
  },
  {
   "cell_type": "code",
   "execution_count": 64,
   "metadata": {},
   "outputs": [],
   "source": [
    "%matplotlib inline"
   ]
  },
  {
   "cell_type": "markdown",
   "metadata": {},
   "source": [
    "find the bar chart of the average income_amount of each state where organizations are working on on school related activities\n"
   ]
  },
  {
   "cell_type": "code",
   "execution_count": 65,
   "metadata": {},
   "outputs": [
    {
     "name": "stdout",
     "output_type": "stream",
     "text": [
      " * postgresql://student@/final_project\n",
      "19 rows affected.\n"
     ]
    },
    {
     "data": {
      "text/html": [
       "<table>\n",
       "    <tr>\n",
       "        <th>avg</th>\n",
       "        <th>state</th>\n",
       "    </tr>\n",
       "    <tr>\n",
       "        <td>2544851.062286272594</td>\n",
       "        <td>PA</td>\n",
       "    </tr>\n",
       "    <tr>\n",
       "        <td>9836053.292170591980</td>\n",
       "        <td>DC</td>\n",
       "    </tr>\n",
       "    <tr>\n",
       "        <td>2168901.314413265306</td>\n",
       "        <td>MN</td>\n",
       "    </tr>\n",
       "    <tr>\n",
       "        <td>4249165.807981492192</td>\n",
       "        <td>WI</td>\n",
       "    </tr>\n",
       "    <tr>\n",
       "        <td>2486727.113498992612</td>\n",
       "        <td>OH</td>\n",
       "    </tr>\n",
       "    <tr>\n",
       "        <td>1214107.232269503546</td>\n",
       "        <td>NE</td>\n",
       "    </tr>\n",
       "    <tr>\n",
       "        <td>5902121.682801822323</td>\n",
       "        <td>NC</td>\n",
       "    </tr>\n",
       "    <tr>\n",
       "        <td>2425004.286783042394</td>\n",
       "        <td>WV</td>\n",
       "    </tr>\n",
       "    <tr>\n",
       "        <td>1063303.656652360515</td>\n",
       "        <td>ND</td>\n",
       "    </tr>\n",
       "    <tr>\n",
       "        <td>1590875.769696969697</td>\n",
       "        <td>DE</td>\n",
       "    </tr>\n",
       "    <tr>\n",
       "        <td>2905141.861626248217</td>\n",
       "        <td>KY</td>\n",
       "    </tr>\n",
       "    <tr>\n",
       "        <td>4294927.796257796258</td>\n",
       "        <td>VA</td>\n",
       "    </tr>\n",
       "    <tr>\n",
       "        <td>6287196.395280235988</td>\n",
       "        <td>IL</td>\n",
       "    </tr>\n",
       "    <tr>\n",
       "        <td>4619951.850393700787</td>\n",
       "        <td>SD</td>\n",
       "    </tr>\n",
       "    <tr>\n",
       "        <td>348876.153814376205</td>\n",
       "        <td>IA</td>\n",
       "    </tr>\n",
       "    <tr>\n",
       "        <td>3580238.902465753425</td>\n",
       "        <td>IN</td>\n",
       "    </tr>\n",
       "    <tr>\n",
       "        <td>991889.381818181818</td>\n",
       "        <td>SC</td>\n",
       "    </tr>\n",
       "    <tr>\n",
       "        <td>1820945.235455794778</td>\n",
       "        <td>MI</td>\n",
       "    </tr>\n",
       "    <tr>\n",
       "        <td>2533380.000000000000</td>\n",
       "        <td>MD</td>\n",
       "    </tr>\n",
       "</table>"
      ],
      "text/plain": [
       "[(Decimal('2544851.062286272594'), 'PA'),\n",
       " (Decimal('9836053.292170591980'), 'DC'),\n",
       " (Decimal('2168901.314413265306'), 'MN'),\n",
       " (Decimal('4249165.807981492192'), 'WI'),\n",
       " (Decimal('2486727.113498992612'), 'OH'),\n",
       " (Decimal('1214107.232269503546'), 'NE'),\n",
       " (Decimal('5902121.682801822323'), 'NC'),\n",
       " (Decimal('2425004.286783042394'), 'WV'),\n",
       " (Decimal('1063303.656652360515'), 'ND'),\n",
       " (Decimal('1590875.769696969697'), 'DE'),\n",
       " (Decimal('2905141.861626248217'), 'KY'),\n",
       " (Decimal('4294927.796257796258'), 'VA'),\n",
       " (Decimal('6287196.395280235988'), 'IL'),\n",
       " (Decimal('4619951.850393700787'), 'SD'),\n",
       " (Decimal('348876.153814376205'), 'IA'),\n",
       " (Decimal('3580238.902465753425'), 'IN'),\n",
       " (Decimal('991889.381818181818'), 'SC'),\n",
       " (Decimal('1820945.235455794778'), 'MI'),\n",
       " (Decimal('2533380.000000000000'), 'MD')]"
      ]
     },
     "execution_count": 65,
     "metadata": {},
     "output_type": "execute_result"
    }
   ],
   "source": [
    "%%sql\n",
    "SELECT avg(eo.income_amt), a.state\n",
    "from Exempt_Organization as eo\n",
    "JOIN Address as a\n",
    "ON a.key = eo.address_key\n",
    "JOIN Basic_information as b\n",
    "ON b.key = eo.basic_information_key\n",
    "where b.activity1 = 59 or b.activity2 = 59 or b.activity3 = 59\n",
    "group by a.state;"
   ]
  },
  {
   "cell_type": "code",
   "execution_count": 66,
   "metadata": {},
   "outputs": [
    {
     "data": {
      "text/plain": [
       "<BarContainer object of 19 artists>"
      ]
     },
     "execution_count": 66,
     "metadata": {},
     "output_type": "execute_result"
    },
    {
     "data": {
      "image/png": "[encoded data removed]",
      "text/plain": [
       "<Figure size 432x288 with 1 Axes>"
      ]
     },
     "metadata": {
      "needs_background": "light"
     },
     "output_type": "display_data"
    }
   ],
   "source": [
    "_.bar()"
   ]
  },
  {
   "cell_type": "markdown",
   "metadata": {},
   "source": [
    "From bar charts, we are surprised to see that in activities that related to Church, synagogue, the disparity of average net profits is huge among each state. Minnesota is the top state which has over 3 times more profits than the second state. However, “Thrivent financial for lutherans” boosts this result with its huge income amount. This gives us a guess that for church or synagogue field, tax-exempted organizations that  engage to work in this activity may consider operating in Minnesota, which gives them a huge advantages than other states. \n",
    "For activities that related to school, DC is the state where organizations have more average net profits. NC and IL are #2 and #3 in this field. We could explain this result as these three states are three clusters where schools and universities located commonly.\n"
   ]
  },
  {
   "cell_type": "markdown",
   "metadata": {},
   "source": [
    "#### Business Question 3:"
   ]
  },
  {
   "cell_type": "markdown",
   "metadata": {},
   "source": [
    "***Consider the last 5 tax periods.  Which months have the highest number of organizations that first received the exempt status?***"
   ]
  },
  {
   "cell_type": "markdown",
   "metadata": {},
   "source": [
    "For this question, we want to find the density of ruling months for the most recent 5 years to see if there is a trend of tax-exempt for organizations on certain months\n",
    "\n",
    "First, check the context of time table for the first 10 rows"
   ]
  },
  {
   "cell_type": "code",
   "execution_count": 68,
   "metadata": {},
   "outputs": [
    {
     "name": "stdout",
     "output_type": "stream",
     "text": [
      " * postgresql://student@/final_project\n",
      "10 rows affected.\n"
     ]
    },
    {
     "data": {
      "text/html": [
       "<table>\n",
       "    <tr>\n",
       "        <th>key</th>\n",
       "        <th>ruling_year</th>\n",
       "        <th>ruling_month</th>\n",
       "        <th>tax_period</th>\n",
       "    </tr>\n",
       "    <tr>\n",
       "        <td>1</td>\n",
       "        <td>1965</td>\n",
       "        <td>4</td>\n",
       "        <td>201408</td>\n",
       "    </tr>\n",
       "    <tr>\n",
       "        <td>2</td>\n",
       "        <td>1986</td>\n",
       "        <td>1</td>\n",
       "        <td>201706</td>\n",
       "    </tr>\n",
       "    <tr>\n",
       "        <td>3</td>\n",
       "        <td>1971</td>\n",
       "        <td>12</td>\n",
       "        <td>201905</td>\n",
       "    </tr>\n",
       "    <tr>\n",
       "        <td>4</td>\n",
       "        <td>1996</td>\n",
       "        <td>8</td>\n",
       "        <td>201512</td>\n",
       "    </tr>\n",
       "    <tr>\n",
       "        <td>5</td>\n",
       "        <td>1999</td>\n",
       "        <td>7</td>\n",
       "        <td>201904</td>\n",
       "    </tr>\n",
       "    <tr>\n",
       "        <td>6</td>\n",
       "        <td>1992</td>\n",
       "        <td>11</td>\n",
       "        <td>0</td>\n",
       "    </tr>\n",
       "    <tr>\n",
       "        <td>7</td>\n",
       "        <td>1961</td>\n",
       "        <td>11</td>\n",
       "        <td>201712</td>\n",
       "    </tr>\n",
       "    <tr>\n",
       "        <td>8</td>\n",
       "        <td>1933</td>\n",
       "        <td>9</td>\n",
       "        <td>201812</td>\n",
       "    </tr>\n",
       "    <tr>\n",
       "        <td>9</td>\n",
       "        <td>1955</td>\n",
       "        <td>1</td>\n",
       "        <td>0</td>\n",
       "    </tr>\n",
       "    <tr>\n",
       "        <td>10</td>\n",
       "        <td>1955</td>\n",
       "        <td>3</td>\n",
       "        <td>201807</td>\n",
       "    </tr>\n",
       "</table>"
      ],
      "text/plain": [
       "[(1, '1965', Decimal('4'), '201408'),\n",
       " (2, '1986', Decimal('1'), '201706'),\n",
       " (3, '1971', Decimal('12'), '201905'),\n",
       " (4, '1996', Decimal('8'), '201512'),\n",
       " (5, '1999', Decimal('7'), '201904'),\n",
       " (6, '1992', Decimal('11'), '0'),\n",
       " (7, '1961', Decimal('11'), '201712'),\n",
       " (8, '1933', Decimal('9'), '201812'),\n",
       " (9, '1955', Decimal('1'), '0'),\n",
       " (10, '1955', Decimal('3'), '201807')]"
      ]
     },
     "execution_count": 68,
     "metadata": {},
     "output_type": "execute_result"
    }
   ],
   "source": [
    "%%sql\n",
    "select *\n",
    "from time limit 10;"
   ]
  },
  {
   "cell_type": "markdown",
   "metadata": {},
   "source": [
    "check the context of Exempt_Organization table\n"
   ]
  },
  {
   "cell_type": "code",
   "execution_count": 69,
   "metadata": {},
   "outputs": [
    {
     "name": "stdout",
     "output_type": "stream",
     "text": [
      " * postgresql://student@/final_project\n",
      "10 rows affected.\n"
     ]
    },
    {
     "data": {
      "text/html": [
       "<table>\n",
       "    <tr>\n",
       "        <th>income_amt</th>\n",
       "        <th>revenue_amt</th>\n",
       "        <th>basic_information_key</th>\n",
       "        <th>time_key</th>\n",
       "        <th>income_cd_key</th>\n",
       "        <th>address_key</th>\n",
       "    </tr>\n",
       "    <tr>\n",
       "        <td>0</td>\n",
       "        <td>0</td>\n",
       "        <td>6</td>\n",
       "        <td>7136</td>\n",
       "        <td>6</td>\n",
       "        <td>88642</td>\n",
       "    </tr>\n",
       "    <tr>\n",
       "        <td>0</td>\n",
       "        <td>0</td>\n",
       "        <td>13</td>\n",
       "        <td>880</td>\n",
       "        <td>6</td>\n",
       "        <td>236753</td>\n",
       "    </tr>\n",
       "    <tr>\n",
       "        <td>427507</td>\n",
       "        <td>67851</td>\n",
       "        <td>14</td>\n",
       "        <td>26206</td>\n",
       "        <td>2</td>\n",
       "        <td>243044</td>\n",
       "    </tr>\n",
       "    <tr>\n",
       "        <td>0</td>\n",
       "        <td>0</td>\n",
       "        <td>12</td>\n",
       "        <td>15371</td>\n",
       "        <td>6</td>\n",
       "        <td>306830</td>\n",
       "    </tr>\n",
       "    <tr>\n",
       "        <td>6808224</td>\n",
       "        <td>4862977</td>\n",
       "        <td>9</td>\n",
       "        <td>16190</td>\n",
       "        <td>10</td>\n",
       "        <td>330507</td>\n",
       "    </tr>\n",
       "    <tr>\n",
       "        <td>194765</td>\n",
       "        <td>None</td>\n",
       "        <td>66</td>\n",
       "        <td>25046</td>\n",
       "        <td>2</td>\n",
       "        <td>36799</td>\n",
       "    </tr>\n",
       "    <tr>\n",
       "        <td>63361</td>\n",
       "        <td>63361</td>\n",
       "        <td>60</td>\n",
       "        <td>23507</td>\n",
       "        <td>5</td>\n",
       "        <td>42699</td>\n",
       "    </tr>\n",
       "    <tr>\n",
       "        <td>263946</td>\n",
       "        <td>258901</td>\n",
       "        <td>55</td>\n",
       "        <td>3547</td>\n",
       "        <td>2</td>\n",
       "        <td>72165</td>\n",
       "    </tr>\n",
       "    <tr>\n",
       "        <td>80834</td>\n",
       "        <td>56184</td>\n",
       "        <td>58</td>\n",
       "        <td>11562</td>\n",
       "        <td>5</td>\n",
       "        <td>112378</td>\n",
       "    </tr>\n",
       "    <tr>\n",
       "        <td>688048</td>\n",
       "        <td>None</td>\n",
       "        <td>57</td>\n",
       "        <td>12871</td>\n",
       "        <td>4</td>\n",
       "        <td>124847</td>\n",
       "    </tr>\n",
       "</table>"
      ],
      "text/plain": [
       "[(Decimal('0'), Decimal('0'), 6, 7136, 6, 88642),\n",
       " (Decimal('0'), Decimal('0'), 13, 880, 6, 236753),\n",
       " (Decimal('427507'), Decimal('67851'), 14, 26206, 2, 243044),\n",
       " (Decimal('0'), Decimal('0'), 12, 15371, 6, 306830),\n",
       " (Decimal('6808224'), Decimal('4862977'), 9, 16190, 10, 330507),\n",
       " (Decimal('194765'), None, 66, 25046, 2, 36799),\n",
       " (Decimal('63361'), Decimal('63361'), 60, 23507, 5, 42699),\n",
       " (Decimal('263946'), Decimal('258901'), 55, 3547, 2, 72165),\n",
       " (Decimal('80834'), Decimal('56184'), 58, 11562, 5, 112378),\n",
       " (Decimal('688048'), None, 57, 12871, 4, 124847)]"
      ]
     },
     "execution_count": 69,
     "metadata": {},
     "output_type": "execute_result"
    }
   ],
   "source": [
    "%%sql\n",
    "select *\n",
    "from Exempt_Organization limit 10;"
   ]
  },
  {
   "cell_type": "markdown",
   "metadata": {},
   "source": [
    "setting the condition where the year is 2019 and show the first 10 rows\n"
   ]
  },
  {
   "cell_type": "code",
   "execution_count": 70,
   "metadata": {},
   "outputs": [
    {
     "name": "stdout",
     "output_type": "stream",
     "text": [
      " * postgresql://student@/final_project\n",
      "10 rows affected.\n"
     ]
    },
    {
     "data": {
      "text/html": [
       "<table>\n",
       "    <tr>\n",
       "        <th>key</th>\n",
       "        <th>ruling_year</th>\n",
       "        <th>ruling_month</th>\n",
       "        <th>tax_period</th>\n",
       "    </tr>\n",
       "    <tr>\n",
       "        <td>63</td>\n",
       "        <td>2019</td>\n",
       "        <td>5</td>\n",
       "        <td>200106</td>\n",
       "    </tr>\n",
       "    <tr>\n",
       "        <td>86</td>\n",
       "        <td>2019</td>\n",
       "        <td>10</td>\n",
       "        <td>201405</td>\n",
       "    </tr>\n",
       "    <tr>\n",
       "        <td>143</td>\n",
       "        <td>2019</td>\n",
       "        <td>10</td>\n",
       "        <td>201409</td>\n",
       "    </tr>\n",
       "    <tr>\n",
       "        <td>163</td>\n",
       "        <td>2019</td>\n",
       "        <td>6</td>\n",
       "        <td>201712</td>\n",
       "    </tr>\n",
       "    <tr>\n",
       "        <td>169</td>\n",
       "        <td>2019</td>\n",
       "        <td>3</td>\n",
       "        <td>201801</td>\n",
       "    </tr>\n",
       "    <tr>\n",
       "        <td>233</td>\n",
       "        <td>2019</td>\n",
       "        <td>7</td>\n",
       "        <td>201905</td>\n",
       "    </tr>\n",
       "    <tr>\n",
       "        <td>321</td>\n",
       "        <td>2019</td>\n",
       "        <td>3</td>\n",
       "        <td>201809</td>\n",
       "    </tr>\n",
       "    <tr>\n",
       "        <td>506</td>\n",
       "        <td>2019</td>\n",
       "        <td>8</td>\n",
       "        <td>201811</td>\n",
       "    </tr>\n",
       "    <tr>\n",
       "        <td>539</td>\n",
       "        <td>2019</td>\n",
       "        <td>6</td>\n",
       "        <td>201806</td>\n",
       "    </tr>\n",
       "    <tr>\n",
       "        <td>726</td>\n",
       "        <td>2019</td>\n",
       "        <td>5</td>\n",
       "        <td>201808</td>\n",
       "    </tr>\n",
       "</table>"
      ],
      "text/plain": [
       "[(63, '2019', Decimal('5'), '200106'),\n",
       " (86, '2019', Decimal('10'), '201405'),\n",
       " (143, '2019', Decimal('10'), '201409'),\n",
       " (163, '2019', Decimal('6'), '201712'),\n",
       " (169, '2019', Decimal('3'), '201801'),\n",
       " (233, '2019', Decimal('7'), '201905'),\n",
       " (321, '2019', Decimal('3'), '201809'),\n",
       " (506, '2019', Decimal('8'), '201811'),\n",
       " (539, '2019', Decimal('6'), '201806'),\n",
       " (726, '2019', Decimal('5'), '201808')]"
      ]
     },
     "execution_count": 70,
     "metadata": {},
     "output_type": "execute_result"
    }
   ],
   "source": [
    "%%sql\n",
    "select * from time\n",
    "where ruling_year = '2019' limit 10;"
   ]
  },
  {
   "cell_type": "markdown",
   "metadata": {},
   "source": [
    "First, we want the density of ruling months for the year 2019. We select ruling month and the count of ruling month from time table, and left join this table with Exempt_Organization table (fact table) on the condition where key from time table is equal to time_key from Exempt_Organization table. And, we set a condition where ruling_year is equal to 2019 and group by ruling_month. In order to analyze the trend clearly, we order ruling_month starting from 1 to 12 by using the ORDER BY function."
   ]
  },
  {
   "cell_type": "code",
   "execution_count": 71,
   "metadata": {},
   "outputs": [
    {
     "name": "stdout",
     "output_type": "stream",
     "text": [
      " * postgresql://student@/final_project\n",
      "10 rows affected.\n"
     ]
    },
    {
     "data": {
      "text/html": [
       "<table>\n",
       "    <tr>\n",
       "        <th>ruling_month</th>\n",
       "        <th>count</th>\n",
       "    </tr>\n",
       "    <tr>\n",
       "        <td>1</td>\n",
       "        <td>184</td>\n",
       "    </tr>\n",
       "    <tr>\n",
       "        <td>2</td>\n",
       "        <td>2698</td>\n",
       "    </tr>\n",
       "    <tr>\n",
       "        <td>3</td>\n",
       "        <td>3579</td>\n",
       "    </tr>\n",
       "    <tr>\n",
       "        <td>4</td>\n",
       "        <td>3613</td>\n",
       "    </tr>\n",
       "    <tr>\n",
       "        <td>5</td>\n",
       "        <td>3482</td>\n",
       "    </tr>\n",
       "    <tr>\n",
       "        <td>6</td>\n",
       "        <td>2786</td>\n",
       "    </tr>\n",
       "    <tr>\n",
       "        <td>7</td>\n",
       "        <td>3201</td>\n",
       "    </tr>\n",
       "    <tr>\n",
       "        <td>8</td>\n",
       "        <td>2820</td>\n",
       "    </tr>\n",
       "    <tr>\n",
       "        <td>9</td>\n",
       "        <td>2559</td>\n",
       "    </tr>\n",
       "    <tr>\n",
       "        <td>10</td>\n",
       "        <td>1412</td>\n",
       "    </tr>\n",
       "</table>"
      ],
      "text/plain": [
       "[(Decimal('1'), 184),\n",
       " (Decimal('2'), 2698),\n",
       " (Decimal('3'), 3579),\n",
       " (Decimal('4'), 3613),\n",
       " (Decimal('5'), 3482),\n",
       " (Decimal('6'), 2786),\n",
       " (Decimal('7'), 3201),\n",
       " (Decimal('8'), 2820),\n",
       " (Decimal('9'), 2559),\n",
       " (Decimal('10'), 1412)]"
      ]
     },
     "execution_count": 71,
     "metadata": {},
     "output_type": "execute_result"
    }
   ],
   "source": [
    "%%sql\n",
    "select time.ruling_month, count(time.ruling_month) from time left join Exempt_Organization\n",
    "on time.key = Exempt_Organization.time_key where time.ruling_year = '2019' group by time.ruling_month\n",
    "order by time.ruling_month\n",
    "limit 20;"
   ]
  },
  {
   "cell_type": "code",
   "execution_count": 72,
   "metadata": {},
   "outputs": [],
   "source": [
    "%matplotlib inline"
   ]
  },
  {
   "cell_type": "markdown",
   "metadata": {},
   "source": [
    "This is a bar chart of the density of ruling months for the year 2019. We can see Feb, Mar, and Apr have the highest number of counts."
   ]
  },
  {
   "cell_type": "code",
   "execution_count": 73,
   "metadata": {},
   "outputs": [
    {
     "data": {
      "text/plain": [
       "<BarContainer object of 10 artists>"
      ]
     },
     "execution_count": 73,
     "metadata": {},
     "output_type": "execute_result"
    },
    {
     "data": {
      "image/png": "[encoded data removed]",
      "text/plain": [
       "<Figure size 432x288 with 1 Axes>"
      ]
     },
     "metadata": {
      "needs_background": "light"
     },
     "output_type": "display_data"
    }
   ],
   "source": [
    "_.bar()"
   ]
  },
  {
   "cell_type": "markdown",
   "metadata": {},
   "source": [
    "setting the condition where the year is 2018 and show the first 10 rows\n"
   ]
  },
  {
   "cell_type": "code",
   "execution_count": 74,
   "metadata": {},
   "outputs": [
    {
     "name": "stdout",
     "output_type": "stream",
     "text": [
      " * postgresql://student@/final_project\n",
      "10 rows affected.\n"
     ]
    },
    {
     "data": {
      "text/html": [
       "<table>\n",
       "    <tr>\n",
       "        <th>key</th>\n",
       "        <th>ruling_year</th>\n",
       "        <th>ruling_month</th>\n",
       "        <th>tax_period</th>\n",
       "    </tr>\n",
       "    <tr>\n",
       "        <td>66</td>\n",
       "        <td>2018</td>\n",
       "        <td>10</td>\n",
       "        <td>201904</td>\n",
       "    </tr>\n",
       "    <tr>\n",
       "        <td>108</td>\n",
       "        <td>2018</td>\n",
       "        <td>6</td>\n",
       "        <td>201406</td>\n",
       "    </tr>\n",
       "    <tr>\n",
       "        <td>111</td>\n",
       "        <td>2018</td>\n",
       "        <td>10</td>\n",
       "        <td>201312</td>\n",
       "    </tr>\n",
       "    <tr>\n",
       "        <td>129</td>\n",
       "        <td>2018</td>\n",
       "        <td>2</td>\n",
       "        <td>201512</td>\n",
       "    </tr>\n",
       "    <tr>\n",
       "        <td>145</td>\n",
       "        <td>2018</td>\n",
       "        <td>3</td>\n",
       "        <td>200806</td>\n",
       "    </tr>\n",
       "    <tr>\n",
       "        <td>216</td>\n",
       "        <td>2018</td>\n",
       "        <td>2</td>\n",
       "        <td>201804</td>\n",
       "    </tr>\n",
       "    <tr>\n",
       "        <td>222</td>\n",
       "        <td>2018</td>\n",
       "        <td>7</td>\n",
       "        <td>201906</td>\n",
       "    </tr>\n",
       "    <tr>\n",
       "        <td>343</td>\n",
       "        <td>2018</td>\n",
       "        <td>3</td>\n",
       "        <td>201802</td>\n",
       "    </tr>\n",
       "    <tr>\n",
       "        <td>364</td>\n",
       "        <td>2018</td>\n",
       "        <td>4</td>\n",
       "        <td>201706</td>\n",
       "    </tr>\n",
       "    <tr>\n",
       "        <td>374</td>\n",
       "        <td>2018</td>\n",
       "        <td>8</td>\n",
       "        <td>201902</td>\n",
       "    </tr>\n",
       "</table>"
      ],
      "text/plain": [
       "[(66, '2018', Decimal('10'), '201904'),\n",
       " (108, '2018', Decimal('6'), '201406'),\n",
       " (111, '2018', Decimal('10'), '201312'),\n",
       " (129, '2018', Decimal('2'), '201512'),\n",
       " (145, '2018', Decimal('3'), '200806'),\n",
       " (216, '2018', Decimal('2'), '201804'),\n",
       " (222, '2018', Decimal('7'), '201906'),\n",
       " (343, '2018', Decimal('3'), '201802'),\n",
       " (364, '2018', Decimal('4'), '201706'),\n",
       " (374, '2018', Decimal('8'), '201902')]"
      ]
     },
     "execution_count": 74,
     "metadata": {},
     "output_type": "execute_result"
    }
   ],
   "source": [
    "%%sql\n",
    "select * from time\n",
    "where ruling_year = '2018' limit 10;"
   ]
  },
  {
   "cell_type": "markdown",
   "metadata": {},
   "source": [
    "Then, we want the density of ruling months for the year 2018. We select ruling month and the count of ruling month from time table, and left join this table with Exempt_Organization table (fact table) on the condition where key from time table is equal to time_key from Exempt_Organization table. And, we set a condition where ruling_year is equal to 2018 and group by ruling_month. In order to analyze the trend clearly, we order ruling_month starting from 1 to 12 by using the ORDER BY function. \n"
   ]
  },
  {
   "cell_type": "code",
   "execution_count": 75,
   "metadata": {},
   "outputs": [
    {
     "name": "stdout",
     "output_type": "stream",
     "text": [
      " * postgresql://student@/final_project\n",
      "12 rows affected.\n"
     ]
    },
    {
     "data": {
      "text/html": [
       "<table>\n",
       "    <tr>\n",
       "        <th>ruling_month</th>\n",
       "        <th>count</th>\n",
       "    </tr>\n",
       "    <tr>\n",
       "        <td>1</td>\n",
       "        <td>1995</td>\n",
       "    </tr>\n",
       "    <tr>\n",
       "        <td>2</td>\n",
       "        <td>2133</td>\n",
       "    </tr>\n",
       "    <tr>\n",
       "        <td>3</td>\n",
       "        <td>2648</td>\n",
       "    </tr>\n",
       "    <tr>\n",
       "        <td>4</td>\n",
       "        <td>2494</td>\n",
       "    </tr>\n",
       "    <tr>\n",
       "        <td>5</td>\n",
       "        <td>2886</td>\n",
       "    </tr>\n",
       "    <tr>\n",
       "        <td>6</td>\n",
       "        <td>2395</td>\n",
       "    </tr>\n",
       "    <tr>\n",
       "        <td>7</td>\n",
       "        <td>2231</td>\n",
       "    </tr>\n",
       "    <tr>\n",
       "        <td>8</td>\n",
       "        <td>2573</td>\n",
       "    </tr>\n",
       "    <tr>\n",
       "        <td>9</td>\n",
       "        <td>2243</td>\n",
       "    </tr>\n",
       "    <tr>\n",
       "        <td>10</td>\n",
       "        <td>1522</td>\n",
       "    </tr>\n",
       "    <tr>\n",
       "        <td>11</td>\n",
       "        <td>2120</td>\n",
       "    </tr>\n",
       "    <tr>\n",
       "        <td>12</td>\n",
       "        <td>1697</td>\n",
       "    </tr>\n",
       "</table>"
      ],
      "text/plain": [
       "[(Decimal('1'), 1995),\n",
       " (Decimal('2'), 2133),\n",
       " (Decimal('3'), 2648),\n",
       " (Decimal('4'), 2494),\n",
       " (Decimal('5'), 2886),\n",
       " (Decimal('6'), 2395),\n",
       " (Decimal('7'), 2231),\n",
       " (Decimal('8'), 2573),\n",
       " (Decimal('9'), 2243),\n",
       " (Decimal('10'), 1522),\n",
       " (Decimal('11'), 2120),\n",
       " (Decimal('12'), 1697)]"
      ]
     },
     "execution_count": 75,
     "metadata": {},
     "output_type": "execute_result"
    }
   ],
   "source": [
    "%%sql\n",
    "select time.ruling_month, count(time.ruling_month) from time left join Exempt_Organization\n",
    "on time.key = Exempt_Organization.time_key where time.ruling_year = '2018' group by time.ruling_month\n",
    "order by time.ruling_month\n",
    "limit 20"
   ]
  },
  {
   "cell_type": "code",
   "execution_count": 76,
   "metadata": {},
   "outputs": [],
   "source": [
    "%matplotlib inline"
   ]
  },
  {
   "cell_type": "markdown",
   "metadata": {},
   "source": [
    "This is a bar chart of the density of ruling months for the year 2018. We can see Mar, Apr, and May have the highest number of counts."
   ]
  },
  {
   "cell_type": "code",
   "execution_count": 77,
   "metadata": {},
   "outputs": [
    {
     "data": {
      "text/plain": [
       "<BarContainer object of 12 artists>"
      ]
     },
     "execution_count": 77,
     "metadata": {},
     "output_type": "execute_result"
    },
    {
     "data": {
      "image/png": "[encoded data removed]",
      "text/plain": [
       "<Figure size 432x288 with 1 Axes>"
      ]
     },
     "metadata": {
      "needs_background": "light"
     },
     "output_type": "display_data"
    }
   ],
   "source": [
    "_.bar()"
   ]
  },
  {
   "cell_type": "markdown",
   "metadata": {},
   "source": [
    "setting the condition where the year is 2017 and show the first 10 rows\n"
   ]
  },
  {
   "cell_type": "code",
   "execution_count": 78,
   "metadata": {},
   "outputs": [
    {
     "name": "stdout",
     "output_type": "stream",
     "text": [
      " * postgresql://student@/final_project\n",
      "10 rows affected.\n"
     ]
    },
    {
     "data": {
      "text/html": [
       "<table>\n",
       "    <tr>\n",
       "        <th>key</th>\n",
       "        <th>ruling_year</th>\n",
       "        <th>ruling_month</th>\n",
       "        <th>tax_period</th>\n",
       "    </tr>\n",
       "    <tr>\n",
       "        <td>112</td>\n",
       "        <td>2017</td>\n",
       "        <td>9</td>\n",
       "        <td>201905</td>\n",
       "    </tr>\n",
       "    <tr>\n",
       "        <td>150</td>\n",
       "        <td>2017</td>\n",
       "        <td>4</td>\n",
       "        <td>201811</td>\n",
       "    </tr>\n",
       "    <tr>\n",
       "        <td>314</td>\n",
       "        <td>2017</td>\n",
       "        <td>7</td>\n",
       "        <td>201808</td>\n",
       "    </tr>\n",
       "    <tr>\n",
       "        <td>360</td>\n",
       "        <td>2017</td>\n",
       "        <td>10</td>\n",
       "        <td>201901</td>\n",
       "    </tr>\n",
       "    <tr>\n",
       "        <td>426</td>\n",
       "        <td>2017</td>\n",
       "        <td>11</td>\n",
       "        <td>201905</td>\n",
       "    </tr>\n",
       "    <tr>\n",
       "        <td>452</td>\n",
       "        <td>2017</td>\n",
       "        <td>6</td>\n",
       "        <td>201512</td>\n",
       "    </tr>\n",
       "    <tr>\n",
       "        <td>456</td>\n",
       "        <td>2017</td>\n",
       "        <td>6</td>\n",
       "        <td>201606</td>\n",
       "    </tr>\n",
       "    <tr>\n",
       "        <td>724</td>\n",
       "        <td>2017</td>\n",
       "        <td>6</td>\n",
       "        <td>201612</td>\n",
       "    </tr>\n",
       "    <tr>\n",
       "        <td>754</td>\n",
       "        <td>2017</td>\n",
       "        <td>6</td>\n",
       "        <td>201804</td>\n",
       "    </tr>\n",
       "    <tr>\n",
       "        <td>815</td>\n",
       "        <td>2017</td>\n",
       "        <td>3</td>\n",
       "        <td>201901</td>\n",
       "    </tr>\n",
       "</table>"
      ],
      "text/plain": [
       "[(112, '2017', Decimal('9'), '201905'),\n",
       " (150, '2017', Decimal('4'), '201811'),\n",
       " (314, '2017', Decimal('7'), '201808'),\n",
       " (360, '2017', Decimal('10'), '201901'),\n",
       " (426, '2017', Decimal('11'), '201905'),\n",
       " (452, '2017', Decimal('6'), '201512'),\n",
       " (456, '2017', Decimal('6'), '201606'),\n",
       " (724, '2017', Decimal('6'), '201612'),\n",
       " (754, '2017', Decimal('6'), '201804'),\n",
       " (815, '2017', Decimal('3'), '201901')]"
      ]
     },
     "execution_count": 78,
     "metadata": {},
     "output_type": "execute_result"
    }
   ],
   "source": [
    "%%sql\n",
    "select * from time\n",
    "where ruling_year = '2017' limit 10;"
   ]
  },
  {
   "cell_type": "markdown",
   "metadata": {},
   "source": [
    "Then, we want the density of ruling months for the year 2017. We select ruling month and the count of ruling month from time table, and left join this table with Exempt_Organization table (fact table) on the condition where key from time table is equal to time_key from Exempt_Organization table. And, we set a condition where ruling_year is equal to 2017 and group by ruling_month. In order to analyze the trend clearly, we order ruling_month starting from 1 to 12 by using the ORDER BY function.\n"
   ]
  },
  {
   "cell_type": "code",
   "execution_count": 79,
   "metadata": {},
   "outputs": [
    {
     "name": "stdout",
     "output_type": "stream",
     "text": [
      " * postgresql://student@/final_project\n",
      "12 rows affected.\n"
     ]
    },
    {
     "data": {
      "text/html": [
       "<table>\n",
       "    <tr>\n",
       "        <th>ruling_month</th>\n",
       "        <th>count</th>\n",
       "    </tr>\n",
       "    <tr>\n",
       "        <td>1</td>\n",
       "        <td>1685</td>\n",
       "    </tr>\n",
       "    <tr>\n",
       "        <td>2</td>\n",
       "        <td>2196</td>\n",
       "    </tr>\n",
       "    <tr>\n",
       "        <td>3</td>\n",
       "        <td>2777</td>\n",
       "    </tr>\n",
       "    <tr>\n",
       "        <td>4</td>\n",
       "        <td>2159</td>\n",
       "    </tr>\n",
       "    <tr>\n",
       "        <td>5</td>\n",
       "        <td>2255</td>\n",
       "    </tr>\n",
       "    <tr>\n",
       "        <td>6</td>\n",
       "        <td>2517</td>\n",
       "    </tr>\n",
       "    <tr>\n",
       "        <td>7</td>\n",
       "        <td>1783</td>\n",
       "    </tr>\n",
       "    <tr>\n",
       "        <td>8</td>\n",
       "        <td>2722</td>\n",
       "    </tr>\n",
       "    <tr>\n",
       "        <td>9</td>\n",
       "        <td>2416</td>\n",
       "    </tr>\n",
       "    <tr>\n",
       "        <td>10</td>\n",
       "        <td>1956</td>\n",
       "    </tr>\n",
       "    <tr>\n",
       "        <td>11</td>\n",
       "        <td>2015</td>\n",
       "    </tr>\n",
       "    <tr>\n",
       "        <td>12</td>\n",
       "        <td>1525</td>\n",
       "    </tr>\n",
       "</table>"
      ],
      "text/plain": [
       "[(Decimal('1'), 1685),\n",
       " (Decimal('2'), 2196),\n",
       " (Decimal('3'), 2777),\n",
       " (Decimal('4'), 2159),\n",
       " (Decimal('5'), 2255),\n",
       " (Decimal('6'), 2517),\n",
       " (Decimal('7'), 1783),\n",
       " (Decimal('8'), 2722),\n",
       " (Decimal('9'), 2416),\n",
       " (Decimal('10'), 1956),\n",
       " (Decimal('11'), 2015),\n",
       " (Decimal('12'), 1525)]"
      ]
     },
     "execution_count": 79,
     "metadata": {},
     "output_type": "execute_result"
    }
   ],
   "source": [
    "%%sql\n",
    "select time.ruling_month, count(time.ruling_month) from time left join Exempt_Organization\n",
    "on time.key = Exempt_Organization.time_key where time.ruling_year = '2017' group by time.ruling_month \n",
    "order by time.ruling_month\n",
    "limit 20;"
   ]
  },
  {
   "cell_type": "code",
   "execution_count": 80,
   "metadata": {},
   "outputs": [],
   "source": [
    "%matplotlib inline"
   ]
  },
  {
   "cell_type": "markdown",
   "metadata": {},
   "source": [
    "This is a bar chart of the density of ruling months for the year 2017. We can see Mar,Jun, and Aug have the highest number of counts.\n"
   ]
  },
  {
   "cell_type": "code",
   "execution_count": 81,
   "metadata": {},
   "outputs": [
    {
     "data": {
      "text/plain": [
       "<BarContainer object of 12 artists>"
      ]
     },
     "execution_count": 81,
     "metadata": {},
     "output_type": "execute_result"
    },
    {
     "data": {
      "image/png": "[encoded data removed]",
      "text/plain": [
       "<Figure size 432x288 with 1 Axes>"
      ]
     },
     "metadata": {
      "needs_background": "light"
     },
     "output_type": "display_data"
    }
   ],
   "source": [
    "_.bar()"
   ]
  },
  {
   "cell_type": "markdown",
   "metadata": {},
   "source": [
    "setting the condition where the year is 2016 and show the first 10 rows\n"
   ]
  },
  {
   "cell_type": "code",
   "execution_count": 82,
   "metadata": {},
   "outputs": [
    {
     "name": "stdout",
     "output_type": "stream",
     "text": [
      " * postgresql://student@/final_project\n",
      "10 rows affected.\n"
     ]
    },
    {
     "data": {
      "text/html": [
       "<table>\n",
       "    <tr>\n",
       "        <th>key</th>\n",
       "        <th>ruling_year</th>\n",
       "        <th>ruling_month</th>\n",
       "        <th>tax_period</th>\n",
       "    </tr>\n",
       "    <tr>\n",
       "        <td>157</td>\n",
       "        <td>2016</td>\n",
       "        <td>1</td>\n",
       "        <td>201811</td>\n",
       "    </tr>\n",
       "    <tr>\n",
       "        <td>164</td>\n",
       "        <td>2016</td>\n",
       "        <td>3</td>\n",
       "        <td>201710</td>\n",
       "    </tr>\n",
       "    <tr>\n",
       "        <td>175</td>\n",
       "        <td>2016</td>\n",
       "        <td>6</td>\n",
       "        <td>201906</td>\n",
       "    </tr>\n",
       "    <tr>\n",
       "        <td>342</td>\n",
       "        <td>2016</td>\n",
       "        <td>6</td>\n",
       "        <td>201805</td>\n",
       "    </tr>\n",
       "    <tr>\n",
       "        <td>379</td>\n",
       "        <td>2016</td>\n",
       "        <td>12</td>\n",
       "        <td>201806</td>\n",
       "    </tr>\n",
       "    <tr>\n",
       "        <td>583</td>\n",
       "        <td>2016</td>\n",
       "        <td>2</td>\n",
       "        <td>201808</td>\n",
       "    </tr>\n",
       "    <tr>\n",
       "        <td>769</td>\n",
       "        <td>2016</td>\n",
       "        <td>12</td>\n",
       "        <td>201712</td>\n",
       "    </tr>\n",
       "    <tr>\n",
       "        <td>833</td>\n",
       "        <td>2016</td>\n",
       "        <td>9</td>\n",
       "        <td>201006</td>\n",
       "    </tr>\n",
       "    <tr>\n",
       "        <td>906</td>\n",
       "        <td>2016</td>\n",
       "        <td>6</td>\n",
       "        <td>201704</td>\n",
       "    </tr>\n",
       "    <tr>\n",
       "        <td>922</td>\n",
       "        <td>2016</td>\n",
       "        <td>9</td>\n",
       "        <td>201610</td>\n",
       "    </tr>\n",
       "</table>"
      ],
      "text/plain": [
       "[(157, '2016', Decimal('1'), '201811'),\n",
       " (164, '2016', Decimal('3'), '201710'),\n",
       " (175, '2016', Decimal('6'), '201906'),\n",
       " (342, '2016', Decimal('6'), '201805'),\n",
       " (379, '2016', Decimal('12'), '201806'),\n",
       " (583, '2016', Decimal('2'), '201808'),\n",
       " (769, '2016', Decimal('12'), '201712'),\n",
       " (833, '2016', Decimal('9'), '201006'),\n",
       " (906, '2016', Decimal('6'), '201704'),\n",
       " (922, '2016', Decimal('9'), '201610')]"
      ]
     },
     "execution_count": 82,
     "metadata": {},
     "output_type": "execute_result"
    }
   ],
   "source": [
    "%%sql\n",
    "select * from time\n",
    "where ruling_year = '2016' limit 10;"
   ]
  },
  {
   "cell_type": "markdown",
   "metadata": {},
   "source": [
    "Then, we want the density of ruling months for the year 2016. We select ruling month and the count of ruling month from time table, and left join this table with Exempt_Organization table (fact table) on the condition where key from time table is equal to time_key from Exempt_Organization table. And, we set a condition where ruling_year is equal to 2016 and group by ruling_month. In order to analyze the trend clearly, we order ruling_month starting from 1 to 12 by using the ORDER BY function.\n"
   ]
  },
  {
   "cell_type": "code",
   "execution_count": 83,
   "metadata": {},
   "outputs": [
    {
     "name": "stdout",
     "output_type": "stream",
     "text": [
      " * postgresql://student@/final_project\n",
      "12 rows affected.\n"
     ]
    },
    {
     "data": {
      "text/html": [
       "<table>\n",
       "    <tr>\n",
       "        <th>ruling_month</th>\n",
       "        <th>count</th>\n",
       "    </tr>\n",
       "    <tr>\n",
       "        <td>1</td>\n",
       "        <td>1612</td>\n",
       "    </tr>\n",
       "    <tr>\n",
       "        <td>2</td>\n",
       "        <td>2169</td>\n",
       "    </tr>\n",
       "    <tr>\n",
       "        <td>3</td>\n",
       "        <td>2336</td>\n",
       "    </tr>\n",
       "    <tr>\n",
       "        <td>4</td>\n",
       "        <td>1963</td>\n",
       "    </tr>\n",
       "    <tr>\n",
       "        <td>5</td>\n",
       "        <td>1965</td>\n",
       "    </tr>\n",
       "    <tr>\n",
       "        <td>6</td>\n",
       "        <td>1804</td>\n",
       "    </tr>\n",
       "    <tr>\n",
       "        <td>7</td>\n",
       "        <td>1868</td>\n",
       "    </tr>\n",
       "    <tr>\n",
       "        <td>8</td>\n",
       "        <td>2185</td>\n",
       "    </tr>\n",
       "    <tr>\n",
       "        <td>9</td>\n",
       "        <td>2260</td>\n",
       "    </tr>\n",
       "    <tr>\n",
       "        <td>10</td>\n",
       "        <td>1847</td>\n",
       "    </tr>\n",
       "    <tr>\n",
       "        <td>11</td>\n",
       "        <td>1914</td>\n",
       "    </tr>\n",
       "    <tr>\n",
       "        <td>12</td>\n",
       "        <td>1902</td>\n",
       "    </tr>\n",
       "</table>"
      ],
      "text/plain": [
       "[(Decimal('1'), 1612),\n",
       " (Decimal('2'), 2169),\n",
       " (Decimal('3'), 2336),\n",
       " (Decimal('4'), 1963),\n",
       " (Decimal('5'), 1965),\n",
       " (Decimal('6'), 1804),\n",
       " (Decimal('7'), 1868),\n",
       " (Decimal('8'), 2185),\n",
       " (Decimal('9'), 2260),\n",
       " (Decimal('10'), 1847),\n",
       " (Decimal('11'), 1914),\n",
       " (Decimal('12'), 1902)]"
      ]
     },
     "execution_count": 83,
     "metadata": {},
     "output_type": "execute_result"
    }
   ],
   "source": [
    "%%sql\n",
    "select time.ruling_month, count(time.ruling_month) from time left join Exempt_Organization\n",
    "on time.key = Exempt_Organization.time_key where time.ruling_year = '2016' group by time.ruling_month\n",
    "order by time.ruling_month\n",
    "limit 20;"
   ]
  },
  {
   "cell_type": "code",
   "execution_count": 84,
   "metadata": {},
   "outputs": [],
   "source": [
    "%matplotlib inline"
   ]
  },
  {
   "cell_type": "markdown",
   "metadata": {},
   "source": [
    "This is a bar chart of the density of ruling months for the year 2016. We can see the ruling month Feb, Mar, Aug, Sep have the highest number of counts."
   ]
  },
  {
   "cell_type": "code",
   "execution_count": 85,
   "metadata": {},
   "outputs": [
    {
     "data": {
      "text/plain": [
       "<BarContainer object of 12 artists>"
      ]
     },
     "execution_count": 85,
     "metadata": {},
     "output_type": "execute_result"
    },
    {
     "data": {
      "image/png": "[encoded data removed]",
      "text/plain": [
       "<Figure size 432x288 with 1 Axes>"
      ]
     },
     "metadata": {
      "needs_background": "light"
     },
     "output_type": "display_data"
    }
   ],
   "source": [
    "_.bar()"
   ]
  },
  {
   "cell_type": "markdown",
   "metadata": {},
   "source": [
    "setting the condition where the year is 2015 and show the first 10 rows\n"
   ]
  },
  {
   "cell_type": "code",
   "execution_count": 86,
   "metadata": {},
   "outputs": [
    {
     "name": "stdout",
     "output_type": "stream",
     "text": [
      " * postgresql://student@/final_project\n",
      "10 rows affected.\n"
     ]
    },
    {
     "data": {
      "text/html": [
       "<table>\n",
       "    <tr>\n",
       "        <th>key</th>\n",
       "        <th>ruling_year</th>\n",
       "        <th>ruling_month</th>\n",
       "        <th>tax_period</th>\n",
       "    </tr>\n",
       "    <tr>\n",
       "        <td>76</td>\n",
       "        <td>2015</td>\n",
       "        <td>2</td>\n",
       "        <td>201812</td>\n",
       "    </tr>\n",
       "    <tr>\n",
       "        <td>85</td>\n",
       "        <td>2015</td>\n",
       "        <td>11</td>\n",
       "        <td>201802</td>\n",
       "    </tr>\n",
       "    <tr>\n",
       "        <td>249</td>\n",
       "        <td>2015</td>\n",
       "        <td>2</td>\n",
       "        <td>201807</td>\n",
       "    </tr>\n",
       "    <tr>\n",
       "        <td>279</td>\n",
       "        <td>2015</td>\n",
       "        <td>2</td>\n",
       "        <td>201908</td>\n",
       "    </tr>\n",
       "    <tr>\n",
       "        <td>284</td>\n",
       "        <td>2015</td>\n",
       "        <td>9</td>\n",
       "        <td>201904</td>\n",
       "    </tr>\n",
       "    <tr>\n",
       "        <td>319</td>\n",
       "        <td>2015</td>\n",
       "        <td>5</td>\n",
       "        <td>201802</td>\n",
       "    </tr>\n",
       "    <tr>\n",
       "        <td>434</td>\n",
       "        <td>2015</td>\n",
       "        <td>2</td>\n",
       "        <td>201810</td>\n",
       "    </tr>\n",
       "    <tr>\n",
       "        <td>442</td>\n",
       "        <td>2015</td>\n",
       "        <td>1</td>\n",
       "        <td>201709</td>\n",
       "    </tr>\n",
       "    <tr>\n",
       "        <td>459</td>\n",
       "        <td>2015</td>\n",
       "        <td>5</td>\n",
       "        <td>201904</td>\n",
       "    </tr>\n",
       "    <tr>\n",
       "        <td>502</td>\n",
       "        <td>2015</td>\n",
       "        <td>8</td>\n",
       "        <td>201907</td>\n",
       "    </tr>\n",
       "</table>"
      ],
      "text/plain": [
       "[(76, '2015', Decimal('2'), '201812'),\n",
       " (85, '2015', Decimal('11'), '201802'),\n",
       " (249, '2015', Decimal('2'), '201807'),\n",
       " (279, '2015', Decimal('2'), '201908'),\n",
       " (284, '2015', Decimal('9'), '201904'),\n",
       " (319, '2015', Decimal('5'), '201802'),\n",
       " (434, '2015', Decimal('2'), '201810'),\n",
       " (442, '2015', Decimal('1'), '201709'),\n",
       " (459, '2015', Decimal('5'), '201904'),\n",
       " (502, '2015', Decimal('8'), '201907')]"
      ]
     },
     "execution_count": 86,
     "metadata": {},
     "output_type": "execute_result"
    }
   ],
   "source": [
    "%%sql\n",
    "select * from time\n",
    "where ruling_year = '2015' limit 10;"
   ]
  },
  {
   "cell_type": "markdown",
   "metadata": {},
   "source": [
    "Then, we want the density of ruling months for the year 2015. We select ruling month and the count of ruling month from time table, and left join this table with Exempt_Organization table (fact table) on the condition where key from time table is equal to time_key from Exempt_Organization table. And, we set a condition where ruling_year is equal to 2015 and group by ruling_month. In order to analyze the trend clearly, we order ruling_month starting from 1 to 12 by using the ORDER BY function.\n"
   ]
  },
  {
   "cell_type": "code",
   "execution_count": 87,
   "metadata": {},
   "outputs": [
    {
     "name": "stdout",
     "output_type": "stream",
     "text": [
      " * postgresql://student@/final_project\n",
      "12 rows affected.\n"
     ]
    },
    {
     "data": {
      "text/html": [
       "<table>\n",
       "    <tr>\n",
       "        <th>ruling_month</th>\n",
       "        <th>count</th>\n",
       "    </tr>\n",
       "    <tr>\n",
       "        <td>1</td>\n",
       "        <td>1617</td>\n",
       "    </tr>\n",
       "    <tr>\n",
       "        <td>2</td>\n",
       "        <td>2351</td>\n",
       "    </tr>\n",
       "    <tr>\n",
       "        <td>3</td>\n",
       "        <td>2347</td>\n",
       "    </tr>\n",
       "    <tr>\n",
       "        <td>4</td>\n",
       "        <td>2266</td>\n",
       "    </tr>\n",
       "    <tr>\n",
       "        <td>5</td>\n",
       "        <td>1776</td>\n",
       "    </tr>\n",
       "    <tr>\n",
       "        <td>6</td>\n",
       "        <td>1926</td>\n",
       "    </tr>\n",
       "    <tr>\n",
       "        <td>7</td>\n",
       "        <td>1752</td>\n",
       "    </tr>\n",
       "    <tr>\n",
       "        <td>8</td>\n",
       "        <td>1668</td>\n",
       "    </tr>\n",
       "    <tr>\n",
       "        <td>9</td>\n",
       "        <td>1735</td>\n",
       "    </tr>\n",
       "    <tr>\n",
       "        <td>10</td>\n",
       "        <td>1906</td>\n",
       "    </tr>\n",
       "    <tr>\n",
       "        <td>11</td>\n",
       "        <td>1683</td>\n",
       "    </tr>\n",
       "    <tr>\n",
       "        <td>12</td>\n",
       "        <td>1694</td>\n",
       "    </tr>\n",
       "</table>"
      ],
      "text/plain": [
       "[(Decimal('1'), 1617),\n",
       " (Decimal('2'), 2351),\n",
       " (Decimal('3'), 2347),\n",
       " (Decimal('4'), 2266),\n",
       " (Decimal('5'), 1776),\n",
       " (Decimal('6'), 1926),\n",
       " (Decimal('7'), 1752),\n",
       " (Decimal('8'), 1668),\n",
       " (Decimal('9'), 1735),\n",
       " (Decimal('10'), 1906),\n",
       " (Decimal('11'), 1683),\n",
       " (Decimal('12'), 1694)]"
      ]
     },
     "execution_count": 87,
     "metadata": {},
     "output_type": "execute_result"
    }
   ],
   "source": [
    "%%sql\n",
    "select time.ruling_month, count(time.ruling_month) from time left join Exempt_Organization\n",
    "on time.key = Exempt_Organization.time_key where time.ruling_year = '2015' group by time.ruling_month\n",
    "order by time.ruling_month\n",
    "limit 20;"
   ]
  },
  {
   "cell_type": "code",
   "execution_count": 88,
   "metadata": {},
   "outputs": [],
   "source": [
    "%matplotlib inline"
   ]
  },
  {
   "cell_type": "markdown",
   "metadata": {},
   "source": [
    "This is a bar chart of the density of ruling months for the year 2015. We can see the ruling month Feb, Mar, Apri have the highest number of counts."
   ]
  },
  {
   "cell_type": "code",
   "execution_count": 89,
   "metadata": {},
   "outputs": [
    {
     "data": {
      "text/plain": [
       "<BarContainer object of 12 artists>"
      ]
     },
     "execution_count": 89,
     "metadata": {},
     "output_type": "execute_result"
    },
    {
     "data": {
      "image/png": "[encoded data removed]",
      "text/plain": [
       "<Figure size 432x288 with 1 Axes>"
      ]
     },
     "metadata": {
      "needs_background": "light"
     },
     "output_type": "display_data"
    }
   ],
   "source": [
    "_.bar()"
   ]
  },
  {
   "cell_type": "markdown",
   "metadata": {},
   "source": [
    "From those charts, we can see many organizations tend to become exempt from Feb to Apr and from Aug to Sep. The month Jul, Nov, and Dec tend to have the lowest possibility of tax-exempt. From this result, we suggest organizations apply for tax-exempt on Feb, Mar, Apr, Aug, and Sep, since organizations are likely to be exempt on those months. If organizations are granted tax-exempt, they could use the extra money to do their business."
   ]
  },
  {
   "cell_type": "code",
   "execution_count": null,
   "metadata": {},
   "outputs": [],
   "source": []
  }
 ],
 "metadata": {
  "kernelspec": {
   "display_name": "Python 3",
   "language": "python",
   "name": "python3"
  },
  "language_info": {
   "codemirror_mode": {
    "name": "ipython",
    "version": 3
   },
   "file_extension": ".py",
   "mimetype": "text/x-python",
   "name": "python",
   "nbconvert_exporter": "python",
   "pygments_lexer": "ipython3",
   "version": "3.5.3"
  }
 },
 "nbformat": 4,
 "nbformat_minor": 2
}
